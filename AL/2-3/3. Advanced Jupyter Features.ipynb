{
 "cells": [
  {
   "cell_type": "markdown",
   "metadata": {},
   "source": [
    "# Table of Contents\n",
    "* [1. Maps](#1.-Maps)\n",
    "\t* [1.1 Google Geochart](#1.1-Google-Geochart)\n",
    "\t* [1.2 Google Map Directions](#1.2-Google-Map-Directions)\n",
    "\t* [1.3 Google Colored Maps](#1.3-Google-Colored-Maps)\n",
    "* [2. Timelines](#2.-Timelines)\n",
    "\t* [2.1 Google Timelines](#2.1-Google-Timelines)\n",
    "\t* [2.2 Timeline JS](#2.2-Timeline-JS)\n",
    "* [3. Story Maps](#3.-Story-Maps)\n",
    "* [4. Presentations](#4.-Presentations)\n",
    "\t* [4.1 Google Slideshows](#4.1-Google-Slideshows)\n",
    "\t* [4.2 Prezis](#4.2-Prezis)\n",
    "* [6. Data](#6.-Data)\n",
    "\t* [6.1 Google Spreadsheets](#6.1-Google-Spreadsheets)\n",
    "* [7. Videos](#7.-Videos)\n",
    "* [8. Other Embeddable Visuals](#8.-Other-Embeddable-Visuals)\n",
    "\t* [8.1 National Weather Service](#8.1-National-Weather-Service)\n",
    "\t* [8.2 Wikipedia Articles](#8.2-Wikipedia-Articles)\n",
    "* [9. Document Collaboration](#9.-Document-Collaboration)\n",
    "\t* [9.1 Commenting By Disqus](#9.1-Commenting-By-Disqus)\n",
    "* [10. Bibliographic Support](#10.-Bibliographic-Support)\n",
    "\t* [10.1 Internal BibTex Database](#10.1-Internal-BibTex-Database)\n",
    "\t* [10.2 Example Text With In-Line Citations](#10.2-Example-Text-With-In-Line-Citations)\n",
    "\t* [10.3 Example References List](#10.3-Example-References-List)\n"
   ]
  },
  {
   "cell_type": "code",
   "execution_count": 2,
   "metadata": {
    "collapsed": false
   },
   "outputs": [],
   "source": [
    "from IPython.display import display, HTML"
   ]
  },
  {
   "cell_type": "markdown",
   "metadata": {},
   "source": [
    "# 1. Maps"
   ]
  },
  {
   "cell_type": "markdown",
   "metadata": {},
   "source": [
    "1.1 Google Geochart"
   ]
  },
  {
   "cell_type": "markdown",
   "metadata": {},
   "source": [
    "For more information on how to make Geoharts, you can learn more about Google Charts at the [Calico Project Wiki](calicoproject.org/ICalico)"
   ]
  },
  {
   "cell_type": "code",
   "execution_count": 4,
   "metadata": {
    "collapsed": false
   },
   "outputs": [
    {
     "name": "stdout",
     "output_type": "stream",
     "text": [
      "Object `GoogleChart` not found.\n"
     ]
    }
   ],
   "source": [
    "GoogleChart?"
   ]
  },
  {
   "cell_type": "code",
   "execution_count": 3,
   "metadata": {
    "collapsed": false
   },
   "outputs": [
    {
     "ename": "NameError",
     "evalue": "name 'GoogleChart' is not defined",
     "output_type": "error",
     "traceback": [
      "\u001b[1;31m---------------------------------------------------------------------------\u001b[0m",
      "\u001b[1;31mNameError\u001b[0m                                 Traceback (most recent call last)",
      "\u001b[1;32m<ipython-input-3-12cc7c681ab5>\u001b[0m in \u001b[0;36m<module>\u001b[1;34m()\u001b[0m\n\u001b[1;32m----> 1\u001b[1;33m GoogleChart(\"GeoChart\", ['Country', 'Variable Measured'], \n\u001b[0m\u001b[0;32m      2\u001b[0m             [['United States', 20], \n\u001b[0;32m      3\u001b[0m              \u001b[1;33m[\u001b[0m\u001b[1;34m'United Kingdom'\u001b[0m\u001b[1;33m,\u001b[0m \u001b[1;36m20\u001b[0m\u001b[1;33m]\u001b[0m\u001b[1;33m,\u001b[0m\u001b[1;33m\u001b[0m\u001b[0m\n\u001b[0;32m      4\u001b[0m              \u001b[1;33m[\u001b[0m\u001b[1;34m'France'\u001b[0m\u001b[1;33m,\u001b[0m \u001b[1;36m20\u001b[0m\u001b[1;33m]\u001b[0m\u001b[1;33m,\u001b[0m\u001b[1;33m\u001b[0m\u001b[0m\n\u001b[0;32m      5\u001b[0m              \u001b[1;33m[\u001b[0m\u001b[1;34m'China'\u001b[0m\u001b[1;33m,\u001b[0m \u001b[1;36m20\u001b[0m\u001b[1;33m]\u001b[0m\u001b[1;33m,\u001b[0m\u001b[1;33m\u001b[0m\u001b[0m\n",
      "\u001b[1;31mNameError\u001b[0m: name 'GoogleChart' is not defined"
     ]
    }
   ],
   "source": [
    "GoogleChart(\"GeoChart\", ['Country', 'Variable Measured'], \n",
    "            [['United States', 20], \n",
    "             ['United Kingdom', 20],\n",
    "             ['France', 20], \n",
    "             ['China', 20], \n",
    "             ['Poland', 10], \n",
    "             ['Canada', 10], \n",
    "             ['Australia', 10],\n",
    "             ['New Zealand', 10], \n",
    "             ['Yugoslavia', 10], \n",
    "             ['Greece', 10], \n",
    "             ['Netherlands', 10], \n",
    "             ['Belgium', 10], \n",
    "             ['South Africa', 10], \n",
    "             ['Norway', 10], \n",
    "             ['Czech Republic', 10], \n",
    "             ['Slovakia', 10], \n",
    "             ['Ethiopia', 10], \n",
    "             ['Brazil', 10], \n",
    "             ['Denmark', 10], \n",
    "             ['Luxembourg', 10], \n",
    "             ['Cuba', 10], \n",
    "             ['Mexico', 10], \n",
    "             ['Russia', 20],\n",
    "             ['Ukraine', 20], \n",
    "             ['Uzbekistan', 20], \n",
    "             ['Kazakhstan', 20], \n",
    "             ['Belarus', 20], \n",
    "             ['Georgia', 20], \n",
    "             ['Azerbaijan', 20], \n",
    "             ['Moldova', 20], \n",
    "             ['Kirghizstan', 20], \n",
    "             ['Armenia', 20], \n",
    "             ['Latvia', 20], \n",
    "             ['Estonia', 20], \n",
    "             ['Lithuania', 20], \n",
    "             ['Turkmenistan', 20], \n",
    "             ['Tajikistan', 20], \n",
    "             ['Germany', 100], \n",
    "             ['Japan', 100], \n",
    "             ['Italy', 100], \n",
    "             ['Hungary', 100], \n",
    "             ['Romania', 100], \n",
    "             ['Bulgaria', 100]])\n"
   ]
  },
  {
   "cell_type": "markdown",
   "metadata": {},
   "source": [
    "## 1.2 Google Map Directions"
   ]
  },
  {
   "cell_type": "code",
   "execution_count": 5,
   "metadata": {
    "collapsed": false,
    "format": "row"
   },
   "outputs": [
    {
     "data": {
      "text/html": [
       "<iframe src=\"https://mapsengine.google.com/map/embed?mid=ztCfVnTLYJpI.k361ruJPA6Dg\" width=\"800\" height=\"400\">\n",
       "</iframe>"
      ],
      "text/plain": [
       "<IPython.core.display.HTML object>"
      ]
     },
     "metadata": {},
     "output_type": "display_data"
    }
   ],
   "source": [
    "%%html\n",
    "<iframe src=\"https://mapsengine.google.com/map/embed?mid=ztCfVnTLYJpI.k361ruJPA6Dg\" width=\"800\" height=\"400\">\n",
    "</iframe>\n"
   ]
  },
  {
   "cell_type": "markdown",
   "metadata": {},
   "source": [
    "## 1.3 Google Colored Maps"
   ]
  },
  {
   "cell_type": "code",
   "execution_count": 3,
   "metadata": {
    "collapsed": false,
    "format": "row"
   },
   "outputs": [
    {
     "data": {
      "text/html": [
       "<iframe src=\"https://chart.googleapis.com/chart?cht=map&chs=300x300&chld=FR-D|FR-B|FR&chco=676767|FF4444|44FF44|4444FF\" width=\"320px\" height=\"320px\" frameborder=\"0\"/>\n",
       "<iframe src=\"https://chart.googleapis.com/chart?cht=map:fixed=-60,0,80,-35&chs=600x350&chld=CA-BC|CN|IT|GR|US-UT&chdl=Vancouver|Beijing|Torino|Athens|Salt+Lake+City&chco=B3BCC0|5781AE|FF0000|FFC726|885E80|518274&chtt=Last+Five+Olympic+Hosts&chm=f2010+Winter,000000,0,0,10|f2008+Summer,000000,0,1,10|f2008+Winter,000000,0,2,10,1,:-5:10|f2004+Summer,000000,0,3,10|f2004+Summer,000000,0,4,10&chma=0,110,0,0\" width=\"610\" height=\"370\" frameborder=\"0\"/>\n",
       "<!--https://developers.google.com/chart/image/docs/gallery/new_map_charts-->"
      ],
      "text/plain": [
       "<IPython.core.display.HTML object>"
      ]
     },
     "metadata": {},
     "output_type": "display_data"
    }
   ],
   "source": [
    "%%html\n",
    "<iframe src=\"https://chart.googleapis.com/chart?cht=map&chs=300x300&chld=FR-D|FR-B|FR&chco=676767|FF4444|44FF44|4444FF\" width=\"320px\" height=\"320px\" frameborder=\"0\"/>\n",
    "<iframe src=\"https://chart.googleapis.com/chart?cht=map:fixed=-60,0,80,-35&chs=600x350&chld=CA-BC|CN|IT|GR|US-UT&chdl=Vancouver|Beijing|Torino|Athens|Salt+Lake+City&chco=B3BCC0|5781AE|FF0000|FFC726|885E80|518274&chtt=Last+Five+Olympic+Hosts&chm=f2010+Winter,000000,0,0,10|f2008+Summer,000000,0,1,10|f2008+Winter,000000,0,2,10,1,:-5:10|f2004+Summer,000000,0,3,10|f2004+Summer,000000,0,4,10&chma=0,110,0,0\" width=\"610\" height=\"370\" frameborder=\"0\"/>\n",
    "<!--https://developers.google.com/chart/image/docs/gallery/new_map_charts-->"
   ]
  },
  {
   "cell_type": "markdown",
   "metadata": {},
   "source": [
    "# 2. Timelines"
   ]
  },
  {
   "cell_type": "markdown",
   "metadata": {},
   "source": [
    "## 2.1 Google Timelines"
   ]
  },
  {
   "cell_type": "code",
   "execution_count": 4,
   "metadata": {
    "collapsed": false,
    "format": "row"
   },
   "outputs": [
    {
     "data": {
      "text/html": [
       "\n",
       "<script>\n",
       "require([\"https://www.google.com/jsapi\"], function (){\n",
       "function drawChart() {\n",
       "    var container = document.getElementById('example1');\n",
       "    \n",
       "    var chart = new google.visualization.Timeline(container);\n",
       "\n",
       "    var dataTable = new google.visualization.DataTable();\n",
       "\n",
       "    dataTable.addColumn({ type: 'string', id: 'President' });\n",
       "    dataTable.addColumn({ type: 'date', id: 'Start' });\n",
       "    dataTable.addColumn({ type: 'date', id: 'End' });\n",
       "\n",
       "    dataTable.addRows([[ 'Era 1', new Date(1789, 3, 29), new Date(1812, 2, 3) ],\n",
       "                       [ 'Era 2', new Date(1797, 2, 3),  new Date(1805, 2, 3) ], \n",
       "                       [ 'Era 3',  new Date(1801, 2, 3),  new Date(1809, 2, 3) ]]);\n",
       "\n",
       "    chart.draw(dataTable);\n",
       "}\n",
       "google.load('visualization', '1.0', {'callback':drawChart, packages:['timeline']});\n",
       "});\n",
       "</script>\n",
       "<div id=\"example1\" style=\"width: 100%; height: 180px;\"></div>"
      ],
      "text/plain": [
       "<IPython.core.display.HTML object>"
      ]
     },
     "metadata": {},
     "output_type": "display_data"
    }
   ],
   "source": [
    "%%html\n",
    "\n",
    "<script>\n",
    "require([\"https://www.google.com/jsapi\"], function (){\n",
    "function drawChart() {\n",
    "    var container = document.getElementById('example1');\n",
    "    \n",
    "    var chart = new google.visualization.Timeline(container);\n",
    "\n",
    "    var dataTable = new google.visualization.DataTable();\n",
    "\n",
    "    dataTable.addColumn({ type: 'string', id: 'President' });\n",
    "    dataTable.addColumn({ type: 'date', id: 'Start' });\n",
    "    dataTable.addColumn({ type: 'date', id: 'End' });\n",
    "\n",
    "    dataTable.addRows([[ 'Era 1', new Date(1789, 3, 29), new Date(1812, 2, 3) ],\n",
    "                       [ 'Era 2', new Date(1797, 2, 3),  new Date(1805, 2, 3) ], \n",
    "                       [ 'Era 3',  new Date(1801, 2, 3),  new Date(1809, 2, 3) ]]);\n",
    "\n",
    "    chart.draw(dataTable);\n",
    "}\n",
    "google.load('visualization', '1.0', {'callback':drawChart, packages:['timeline']});\n",
    "});\n",
    "</script>\n",
    "<div id=\"example1\" style=\"width: 100%; height: 180px;\"></div>"
   ]
  },
  {
   "cell_type": "markdown",
   "metadata": {},
   "source": [
    "## 2.2 Timeline JS"
   ]
  },
  {
   "cell_type": "markdown",
   "metadata": {},
   "source": [
    "# 3. Story Maps"
   ]
  },
  {
   "cell_type": "code",
   "execution_count": 5,
   "metadata": {
    "collapsed": false,
    "format": "row"
   },
   "outputs": [
    {
     "data": {
      "text/html": [
       "\n",
       "<iframe src=\"http://cdn.knightlab.com/libs/storymapjs/latest/embed/?url=https://www.googledrive.com/host/0B1d8oNIpMx53Wk9CdDlVZ01qU1E/published.json\" width=\"100%\" height=\"600\" frameborder=\"0\"/>\n",
       "Click <a href=\"http://storymap.knightlab.com/\" target=\"_blank\">here</a> for more information."
      ],
      "text/plain": [
       "<IPython.core.display.HTML object>"
      ]
     },
     "metadata": {},
     "output_type": "display_data"
    }
   ],
   "source": [
    "%%html\n",
    "\n",
    "<iframe src=\"http://cdn.knightlab.com/libs/storymapjs/latest/embed/?url=https://www.googledrive.com/host/0B1d8oNIpMx53Wk9CdDlVZ01qU1E/published.json\" width=\"100%\" height=\"600\" frameborder=\"0\"/>\n",
    "Click <a href=\"http://storymap.knightlab.com/\" target=\"_blank\">here</a> for more information."
   ]
  },
  {
   "cell_type": "markdown",
   "metadata": {},
   "source": [
    "# 4. Presentations"
   ]
  },
  {
   "cell_type": "markdown",
   "metadata": {},
   "source": [
    "## 4.1 Google Slideshows"
   ]
  },
  {
   "cell_type": "code",
   "execution_count": 6,
   "metadata": {
    "collapsed": false,
    "format": "row"
   },
   "outputs": [
    {
     "data": {
      "text/html": [
       "\n",
       "<iframe src=\"https://docs.google.com/presentation/d/196SZalwroDU8tzXifxpxv7sV-V9ywX9n_nbBC0O4uDI/embed?start=false&loop=false&delayms=3000\" frameborder=\"0\" width=\"100%\" height=\"400px\" allowfullscreen=\"true\" mozallowfullscreen=\"true\" webkitallowfullscreen=\"true\"></iframe>"
      ],
      "text/plain": [
       "<IPython.core.display.HTML object>"
      ]
     },
     "metadata": {},
     "output_type": "display_data"
    }
   ],
   "source": [
    "%%html\n",
    "\n",
    "<iframe src=\"https://docs.google.com/presentation/d/196SZalwroDU8tzXifxpxv7sV-V9ywX9n_nbBC0O4uDI/embed?start=false&loop=false&delayms=3000\" frameborder=\"0\" width=\"100%\" height=\"400px\" allowfullscreen=\"true\" mozallowfullscreen=\"true\" webkitallowfullscreen=\"true\"></iframe>"
   ]
  },
  {
   "cell_type": "markdown",
   "metadata": {},
   "source": [
    "## 4.2 Prezis"
   ]
  },
  {
   "cell_type": "code",
   "execution_count": 7,
   "metadata": {
    "collapsed": false,
    "format": "row"
   },
   "outputs": [
    {
     "data": {
      "text/html": [
       "<iframe src=\"http://prezi.com/embed/5ye8po_hmikp/?bgcolor=ffffff&amp;lock_to_path=0&amp;autoplay=0&amp;autohide_ctrls=0&amp;features=undefined&amp;disabled_features=undefined&amp;html5=1\" width=\"550\" height=\"400\" frameBorder=\"0\" webkitAllowFullScreen mozAllowFullscreen allowfullscreen></iframe>"
      ],
      "text/plain": [
       "<IPython.core.display.HTML object>"
      ]
     },
     "metadata": {},
     "output_type": "display_data"
    }
   ],
   "source": [
    "%%html\n",
    "<iframe src=\"http://prezi.com/embed/5ye8po_hmikp/?bgcolor=ffffff&amp;lock_to_path=0&amp;autoplay=0&amp;autohide_ctrls=0&amp;features=undefined&amp;disabled_features=undefined&amp;html5=1\" width=\"550\" height=\"400\" frameBorder=\"0\" webkitAllowFullScreen mozAllowFullscreen allowfullscreen></iframe>"
   ]
  },
  {
   "cell_type": "markdown",
   "metadata": {},
   "source": [
    "## 5.8 Motion Chart"
   ]
  },
  {
   "cell_type": "code",
   "execution_count": 8,
   "metadata": {
    "collapsed": false,
    "format": "row"
   },
   "outputs": [
    {
     "data": {
      "text/html": [
       "<iframe width=\"100%\" height=\"450\" frameborder=\"0\" src=\"https://docs.google.com/spreadsheet/pub?key=0AvXD_9iuphaUdG9pT2lsTzNaU1JObkZFQUFENDI5OGc&single=true&gid=1&output=html&widget=true\"></iframe>"
      ],
      "text/plain": [
       "<IPython.core.display.HTML object>"
      ]
     },
     "metadata": {},
     "output_type": "display_data"
    }
   ],
   "source": [
    "%%html\n",
    "<iframe width=\"100%\" height=\"450\" frameborder=\"0\" src=\"https://docs.google.com/spreadsheet/pub?key=0AvXD_9iuphaUdG9pT2lsTzNaU1JObkZFQUFENDI5OGc&single=true&gid=1&output=html&widget=true\"></iframe>"
   ]
  },
  {
   "cell_type": "markdown",
   "metadata": {},
   "source": [
    "# 6. Data"
   ]
  },
  {
   "cell_type": "markdown",
   "metadata": {},
   "source": [
    "## 6.1 Google Spreadsheets"
   ]
  },
  {
   "cell_type": "code",
   "execution_count": null,
   "metadata": {
    "collapsed": false,
    "format": "row"
   },
   "outputs": [],
   "source": [
    "%%html\n",
    "\n",
    "<iframe src=\"https://docs.google.com/spreadsheets/d/1tOtLb1e7kR6FRSV9r7tGTGnJdSNw2kb2oMN32gdhw9E/pubhtml?widget=true&amp;headers=false\"></iframe>"
   ]
  },
  {
   "cell_type": "markdown",
   "metadata": {},
   "source": [
    "# 7. Videos"
   ]
  },
  {
   "cell_type": "code",
   "execution_count": 9,
   "metadata": {
    "collapsed": false,
    "format": "row"
   },
   "outputs": [
    {
     "data": {
      "text/html": [
       "\n",
       "<iframe width=\"420\" height=\"315\" src=\"http://www.youtube.com/embed/N9oxmRT2YWw\" frameborder=\"0\" allowfullscreen></iframe>"
      ],
      "text/plain": [
       "<IPython.core.display.HTML object>"
      ]
     },
     "metadata": {},
     "output_type": "display_data"
    }
   ],
   "source": [
    "%%html\n",
    "\n",
    "<iframe width=\"420\" height=\"315\" src=\"http://www.youtube.com/embed/N9oxmRT2YWw\" frameborder=\"0\" allowfullscreen></iframe>"
   ]
  },
  {
   "cell_type": "markdown",
   "metadata": {},
   "source": [
    "# 8. Other Embeddable Visuals"
   ]
  },
  {
   "cell_type": "markdown",
   "metadata": {},
   "source": [
    "## 8.1 National Weather Service"
   ]
  },
  {
   "cell_type": "code",
   "execution_count": null,
   "metadata": {
    "collapsed": false,
    "format": "row"
   },
   "outputs": [],
   "source": [
    "%%html\n",
    "\n",
    "<iframe src=\"http://www.weather.gov/\" width=\"100%\" height=\"600\"></iframe>"
   ]
  },
  {
   "cell_type": "markdown",
   "metadata": {},
   "source": [
    "## 8.2 Wikipedia Articles"
   ]
  },
  {
   "cell_type": "code",
   "execution_count": 10,
   "metadata": {
    "collapsed": false,
    "format": "row"
   },
   "outputs": [
    {
     "data": {
      "text/html": [
       "<iframe src=\"http://en.wikipedia.org/wiki/Markdown\" width=\"100%\" height=\"400px\" frameborder=\"0\">\n",
       "</iframe>"
      ],
      "text/plain": [
       "<IPython.core.display.HTML object>"
      ]
     },
     "metadata": {},
     "output_type": "display_data"
    }
   ],
   "source": [
    "%%html\n",
    "<iframe src=\"http://en.wikipedia.org/wiki/Markdown\" width=\"100%\" height=\"400px\" frameborder=\"0\">\n",
    "</iframe>"
   ]
  },
  {
   "cell_type": "markdown",
   "metadata": {},
   "source": [
    "# 9. Document Collaboration"
   ]
  },
  {
   "cell_type": "markdown",
   "metadata": {},
   "source": [
    "## 9.1 Commenting By Disqus"
   ]
  },
  {
   "cell_type": "code",
   "execution_count": null,
   "metadata": {
    "collapsed": false,
    "format": "row"
   },
   "outputs": [],
   "source": [
    "%%html\n",
    "\n",
    " <div id=\"disqus_thread\"></div>\n",
    "    <script type=\"text/javascript\">\n",
    "        /* * * CONFIGURATION VARIABLES: EDIT BEFORE PASTING INTO YOUR WEBPAGE * * */\n",
    "        var disqus_shortname = 'calicoproject'; // required: replace example with your forum shortname\n",
    "\n",
    "        /* * * DON'T EDIT BELOW THIS LINE * * */\n",
    "        (function() {\n",
    "            var dsq = document.createElement('script'); dsq.type = 'text/javascript'; dsq.async = true;\n",
    "            dsq.src = '//' + disqus_shortname + '.disqus.com/embed.js';\n",
    "            (document.getElementsByTagName('head')[0] || document.getElementsByTagName('body')[0]).appendChild(dsq);\n",
    "        })();\n",
    "    </script>\n",
    "    <noscript>Please enable JavaScript to view the <a href=\"http://disqus.com/?ref_noscript\">comments powered by Disqus.</a></noscript>\n",
    "    <a href=\"http://disqus.com\" class=\"dsq-brlink\">comments powered by <span class=\"logo-disqus\">Disqus</span></a>"
   ]
  },
  {
   "cell_type": "markdown",
   "metadata": {},
   "source": [
    "# 10. Bibliographic Support"
   ]
  },
  {
   "cell_type": "markdown",
   "metadata": {},
   "source": [
    "## 10.1 Internal BibTex Database"
   ]
  },
  {
   "cell_type": "raw",
   "metadata": {},
   "source": [
    "<!--bibtex\n",
    "\n",
    "@book{wellfarecut,\n",
    "      title = {Our Greatest Threat: The Rise of Anti-Wellfare Politics in Calico in the 21st Century},\n",
    "      author = {Jacob, Bernadette},\n",
    "      year = {2010},\n",
    "      publisher = {Jupyter University Press},\n",
    "      address = {Jupyter, JY}\n",
    "\n",
    "}\n",
    "@book{calicoww2:1,\n",
    "    title = {Calico and WWII: Untold History},\n",
    "    author = {French, Viola},\n",
    "    year = {1997},\n",
    "    publisher = {Calicia City Free Press},\n",
    "    address = {Calicia City, CA}\n",
    "}\n",
    "\n",
    "@book{calicoww2:2,\n",
    "    title = {Rebuilding Calico After Japanese Occupation},\n",
    "    author = {Kepps, Milo},\n",
    "    year = {2002},\n",
    "    publisher = {Python Books},\n",
    "    address = {Pythonia, PY}\n",
    "}\n",
    "\n",
    "@Book{block2006rape,\n",
    " author = {Block, Sharon},\n",
    " title = {Rape and sexual power in early America},\n",
    " publisher = {University of North Carolina Press},\n",
    " year = {2006},\n",
    " address = {Chapel Hill},\n",
    " isbn = {9780807857618}\n",
    " }\n",
    "-->"
   ]
  },
  {
   "cell_type": "markdown",
   "metadata": {},
   "source": [
    "## 10.2 Example Text With In-Line Citations"
   ]
  },
  {
   "cell_type": "markdown",
   "metadata": {},
   "source": [
    "Rebuilding Calico after Japanese occupation took many years <a name=\"ref-1\"/>[(Kepps, 2002)](#cite-calicoww2:2).\n",
    "Anti-Welfare politics have risen in popularity in Calico over the last three decades  <a name=\"ref-2\"/>[(Jacob, 2010)](#cite-wellfarecut).\n",
    "Calico was a Japanese puppet state during WWII <a name=\"ref-3\"/>[(French, 1997)](#cite-calicoww2:1).\n"
   ]
  },
  {
   "cell_type": "markdown",
   "metadata": {},
   "source": [
    "## 10.3 Example References List"
   ]
  },
  {
   "cell_type": "markdown",
   "metadata": {},
   "source": [
    "\n",
    "<a name=\"cite-calicoww2:2\"/><sup>[^](#ref-1) </sup>Kepps, Milo. 2002. _Rebuilding Calico After Japanese Occupation_.\n",
    "\n",
    "<a name=\"cite-wellfarecut\"/><sup>[^](#ref-2) </sup>Jacob, Bernadette. 2010. _Our Greatest Threat: The Rise of Anti-Wellfare Politics in Calico in the 21st Century_.\n",
    "\n",
    "<a name=\"cite-calicoww2:1\"/><sup>[^](#ref-3) </sup>French, Viola. 1997. _Calico and WWII: Untold History_.\n",
    "\n"
   ]
  },
  {
   "cell_type": "code",
   "execution_count": null,
   "metadata": {
    "collapsed": false
   },
   "outputs": [],
   "source": [
    "from calico.utils import ottobib\n",
    "ottobib(\"9780807857618\")"
   ]
  },
  {
   "cell_type": "code",
   "execution_count": null,
   "metadata": {
    "collapsed": false
   },
   "outputs": [],
   "source": [
    "ottobib(\"0-471-37568-3\")"
   ]
  },
  {
   "cell_type": "markdown",
   "metadata": {},
   "source": [
    "Citation <a name=\"ref-4\"/>[(Block, 2006)](#cite-block2006rape)."
   ]
  },
  {
   "cell_type": "code",
   "execution_count": null,
   "metadata": {
    "collapsed": true
   },
   "outputs": [],
   "source": []
  }
 ],
 "metadata": {
  "anaconda-cloud": {},
  "kernelspec": {
   "display_name": "Python [Root]",
   "language": "python",
   "name": "Python [Root]"
  },
  "language_info": {
   "codemirror_mode": {
    "name": "ipython",
    "version": 2
   },
   "file_extension": ".py",
   "mimetype": "text/x-python",
   "name": "python",
   "nbconvert_exporter": "python",
   "pygments_lexer": "ipython2",
   "version": "2.7.12"
  }
 },
 "nbformat": 4,
 "nbformat_minor": 0
}
