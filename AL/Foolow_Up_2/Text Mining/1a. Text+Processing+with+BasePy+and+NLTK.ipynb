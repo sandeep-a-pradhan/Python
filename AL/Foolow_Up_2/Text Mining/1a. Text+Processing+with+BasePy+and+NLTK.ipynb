{
 "cells": [
  {
   "cell_type": "markdown",
   "metadata": {},
   "source": [
    "# Basic Text Processing in Python"
   ]
  },
  {
   "cell_type": "markdown",
   "metadata": {},
   "source": [
    "### Important Packages Related to Textmining\n",
    "- textmining1.0: contains a variety of useful functions for text mining in Python.\n",
    "- NLTK: This package can be extremely useful because you have easy access to over 50 corpora and lexical resources\n",
    "- Tweepy: to mine Twitter data\n",
    "- scrappy:  extract the data you need from websites\n",
    "- urllib2: a package for opening URLs\n",
    "- requests: library for grabbing data from the internet\n",
    "- Beautifulsoup: library for parsing HTML data\n",
    "- re:  grep(), grepl(), regexpr(), gregexpr(), sub(), gsub(), and strsplit() are helpful functions\n",
    "- wordcloud: to visualize the wordcloud"
   ]
  },
  {
   "cell_type": "code",
   "execution_count": 1,
   "metadata": {},
   "outputs": [
    {
     "name": "stdout",
     "output_type": "stream",
     "text": [
      "11\n",
      "3\n",
      "6\n",
      "6\n"
     ]
    }
   ],
   "source": [
    "word = \"Hello World\"\n",
    "print len(word)\n",
    "print word.count('l')\n",
    "print word.find(\"W\")\n",
    "print word.index(\"World\")"
   ]
  },
  {
   "cell_type": "code",
   "execution_count": 2,
   "metadata": {
    "collapsed": true
   },
   "outputs": [],
   "source": [
    "#word."
   ]
  },
  {
   "cell_type": "code",
   "execution_count": 3,
   "metadata": {},
   "outputs": [
    {
     "name": "stdout",
     "output_type": "stream",
     "text": [
      "8\n"
     ]
    }
   ],
   "source": [
    "s =  \"Count, the number     of spaces\"\n",
    "print s.count(' ')"
   ]
  },
  {
   "cell_type": "code",
   "execution_count": null,
   "metadata": {
    "collapsed": true
   },
   "outputs": [],
   "source": []
  },
  {
   "cell_type": "code",
   "execution_count": 4,
   "metadata": {},
   "outputs": [
    {
     "data": {
      "text/plain": [
       "True"
      ]
     },
     "execution_count": 4,
     "metadata": {},
     "output_type": "execute_result"
    }
   ],
   "source": [
    "# strings are defined in three ways\n",
    "\n",
    "# double and single quotes don't matter\n",
    "string1 = \"hello world\"\n",
    "string2 = 'hello world'\n",
    "string1 == string2"
   ]
  },
  {
   "cell_type": "code",
   "execution_count": 5,
   "metadata": {},
   "outputs": [
    {
     "data": {
      "text/plain": [
       "True"
      ]
     },
     "execution_count": 5,
     "metadata": {},
     "output_type": "execute_result"
    }
   ],
   "source": [
    "# multi-line strings can be made using triple quotes (using either double or single quotes)\n",
    "multiLineStr1 = \"\"\"Whoa\n",
    "this string is\n",
    "looooooooooooooooooong\"\"\"\n",
    "\n",
    "multiLineStr2 = '''Whoa\n",
    "this string is\n",
    "looooooooooooooooooong'''\n",
    "\n",
    "multiLineStr1 == multiLineStr2"
   ]
  },
  {
   "cell_type": "code",
   "execution_count": 6,
   "metadata": {},
   "outputs": [
    {
     "name": "stdout",
     "output_type": "stream",
     "text": [
      "Whoa\n",
      "this string is\n",
      "looooooooooooooooooong\n"
     ]
    }
   ],
   "source": [
    "# if you print it, newlines will manifest:\n",
    "print(multiLineStr1)"
   ]
  },
  {
   "cell_type": "code",
   "execution_count": 7,
   "metadata": {},
   "outputs": [
    {
     "data": {
      "text/plain": [
       "'Whoa\\nthis string is\\nlooooooooooooooooooong'"
      ]
     },
     "execution_count": 7,
     "metadata": {},
     "output_type": "execute_result"
    }
   ],
   "source": [
    "# if you simply display its value, the newlines are shown\n",
    "multiLineStr1"
   ]
  },
  {
   "cell_type": "code",
   "execution_count": 8,
   "metadata": {},
   "outputs": [
    {
     "name": "stdout",
     "output_type": "stream",
     "text": [
      "implicit concatenation\n",
      "using a plus sign\n",
      "or using fancy formatting    100.123\n"
     ]
    }
   ],
   "source": [
    "#Concatenation: To concatenate strings in Python use the \"+\" operator.\n",
    "\n",
    "# strings can be concatenated in several ways:\n",
    "str1 = \"implicit \" \"concatenation\"\n",
    "str2 = \"using \" + \"a \" + \"plus \" + \"sign\"\n",
    "\n",
    "# this way is fastest and provides additional ways to format e.g. numbers\n",
    "str3 = \"or {} {} {} {:10.3f}\".format(\"using\", \"fancy\", \"formatting\", 100.123456)\n",
    "print(str1)\n",
    "print(str2)\n",
    "print(str3)"
   ]
  },
  {
   "cell_type": "code",
   "execution_count": 9,
   "metadata": {},
   "outputs": [
    {
     "name": "stdout",
     "output_type": "stream",
     "text": [
      "H:e:l:l:o: :W:o:r:l:d\n",
      "H e l l o   W o r l d\n"
     ]
    }
   ],
   "source": [
    "#Join\n",
    "word=\"Hello World\"\n",
    "print \":\".join(word)  # #add a : between every char\n",
    "print \" \".join(word)  # add a whitespace between every char\n"
   ]
  },
  {
   "cell_type": "code",
   "execution_count": 10,
   "metadata": {},
   "outputs": [
    {
     "data": {
      "text/plain": [
       "'Hello WorldHello World'"
      ]
     },
     "execution_count": 10,
     "metadata": {},
     "output_type": "execute_result"
    }
   ],
   "source": [
    "word*2"
   ]
  },
  {
   "cell_type": "code",
   "execution_count": 11,
   "metadata": {},
   "outputs": [
    {
     "data": {
      "text/plain": [
       "True"
      ]
     },
     "execution_count": 11,
     "metadata": {},
     "output_type": "execute_result"
    }
   ],
   "source": [
    "'W' in word"
   ]
  },
  {
   "cell_type": "code",
   "execution_count": 12,
   "metadata": {},
   "outputs": [
    {
     "data": {
      "text/plain": [
       "True"
      ]
     },
     "execution_count": 12,
     "metadata": {},
     "output_type": "execute_result"
    }
   ],
   "source": [
    "'h' not in word"
   ]
  },
  {
   "cell_type": "code",
   "execution_count": 13,
   "metadata": {},
   "outputs": [
    {
     "name": "stdout",
     "output_type": "stream",
     "text": [
      "Updated String :-  Hello Python\n"
     ]
    }
   ],
   "source": [
    "#Updating String\n",
    "var1 = 'Hello World!'\n",
    "\n",
    "print \"Updated String :- \", var1[:6] + 'Python'"
   ]
  },
  {
   "cell_type": "code",
   "execution_count": 14,
   "metadata": {},
   "outputs": [
    {
     "name": "stdout",
     "output_type": "stream",
     "text": [
      "False\n",
      "False\n",
      "False\n",
      "True\n",
      "False\n",
      "False\n",
      "False\n",
      "True\n",
      "True\n"
     ]
    }
   ],
   "source": [
    "#Testing: A string in Python can be tested for truth value. The return type will be in Boolean value (True or False)\n",
    "word = \"Hello World\"\n",
    " \n",
    "print word.isalnum()         #check if all char are alphanumeric \n",
    "print word.isalpha()         #check if all char in the string are alphabetic\n",
    "print word.isdigit()         #test if string contains digits\n",
    "print word.istitle()         #test if string contains title words\n",
    "print word.isupper()         #test if string contains upper case\n",
    "print word.islower()         #test if string contains lower case\n",
    "print word.isspace()         #test if string contains spaces\n",
    "print word.endswith('d')     #test if string endswith a d\n",
    "print word.startswith('H')   #test if string startswith H"
   ]
  },
  {
   "cell_type": "code",
   "execution_count": 15,
   "metadata": {},
   "outputs": [
    {
     "ename": "TypeError",
     "evalue": "'str' object does not support item assignment",
     "output_type": "error",
     "traceback": [
      "\u001b[1;31m---------------------------------------------------------------------------\u001b[0m",
      "\u001b[1;31mTypeError\u001b[0m                                 Traceback (most recent call last)",
      "\u001b[1;32m<ipython-input-15-f68980af0a4c>\u001b[0m in \u001b[0;36m<module>\u001b[1;34m()\u001b[0m\n\u001b[0;32m      2\u001b[0m \u001b[0mstr1\u001b[0m \u001b[1;33m=\u001b[0m \u001b[1;34m\"immutable\"\u001b[0m\u001b[1;33m\u001b[0m\u001b[0m\n\u001b[0;32m      3\u001b[0m \u001b[1;31m# This will give TypeError: 'str' object does not support item assignment\u001b[0m\u001b[1;33m\u001b[0m\u001b[1;33m\u001b[0m\u001b[0m\n\u001b[1;32m----> 4\u001b[1;33m \u001b[0mstr1\u001b[0m\u001b[1;33m[\u001b[0m\u001b[1;36m0\u001b[0m\u001b[1;33m]\u001b[0m \u001b[1;33m=\u001b[0m \u001b[1;34m\"I\"\u001b[0m\u001b[1;33m\u001b[0m\u001b[0m\n\u001b[0m",
      "\u001b[1;31mTypeError\u001b[0m: 'str' object does not support item assignment"
     ]
    }
   ],
   "source": [
    "# strings are immutable\n",
    "str1 = \"immutable\"\n",
    "# This will give TypeError: 'str' object does not support item assignment\n",
    "str1[0] = \"I\""
   ]
  },
  {
   "cell_type": "code",
   "execution_count": 16,
   "metadata": {},
   "outputs": [
    {
     "name": "stdout",
     "output_type": "stream",
     "text": [
      "Immutable\n",
      "Immutable\n"
     ]
    }
   ],
   "source": [
    "# to modify a string, you have to make a new string\n",
    "str2 = \"I{}\".format(str1[1:])\n",
    "print(str2)\n",
    "\n",
    "# of course since this is Python there is a better way to capitalize strings:\n",
    "str2 = str1.title()\n",
    "print(str2)"
   ]
  },
  {
   "cell_type": "code",
   "execution_count": 17,
   "metadata": {},
   "outputs": [
    {
     "name": "stdout",
     "output_type": "stream",
     "text": [
      "mmutable\n",
      "True\n",
      "i\n",
      "e\n",
      "tabl\n"
     ]
    }
   ],
   "source": [
    "# Q: whoa, what the heck did you just do up there?\n",
    "# A: String slicing!!\n",
    "\n",
    "# slices work like so [startIndex : endIndex : step]\n",
    "# leaving out values gives the default value of startIndex = 0, endIndex = the end, step = 1\n",
    "print(str1[1:])\n",
    "print(str1[1:] == str1[1:len(\"immutable\"):1])\n",
    "\n",
    "# beginning of string\n",
    "print(str1[0])\n",
    "\n",
    "# negative values gives end of string\n",
    "print(str1[-1])\n",
    "\n",
    "# the start index is INCLUSIVE but the end index is EXCLUSIVE\n",
    "print(str1[4:8])\n",
    "\n"
   ]
  },
  {
   "cell_type": "code",
   "execution_count": 18,
   "metadata": {},
   "outputs": [
    {
     "name": "stdout",
     "output_type": "stream",
     "text": [
      "H\n",
      "H\n",
      "Hel\n",
      "Hel\n",
      "rld\n",
      "lo World\n",
      "Hello Wo\n"
     ]
    }
   ],
   "source": [
    "word = \"Hello World\"\n",
    "\n",
    "print word[0]          #get one char of the word\n",
    "print word[0:1]        #get one char of the word (same as above)\n",
    "print word[0:3]        #get the first three char\n",
    "print word[:3]         #get the first three char\n",
    "print word[-3:]        #get the last three char\n",
    "print word[3:]         #get all but the three first char\n",
    "print word[:-3]        #get all but the three last character"
   ]
  },
  {
   "cell_type": "code",
   "execution_count": 19,
   "metadata": {},
   "outputs": [
    {
     "data": {
      "text/plain": [
       "['Hello', 'World']"
      ]
     },
     "execution_count": 19,
     "metadata": {},
     "output_type": "execute_result"
    }
   ],
   "source": [
    "#Split Strings\n",
    "word.split(' ')  # Split on whitespace"
   ]
  },
  {
   "cell_type": "code",
   "execution_count": 20,
   "metadata": {
    "collapsed": true
   },
   "outputs": [],
   "source": [
    "# Lowercase, remove !, tokenize\n",
    "\n",
    "string=\"This is a Analytixlabs and it is based out of Bangalore and gurgaon!!!\"\n",
    "newstring=string.lower().replace(\"!\",\"\").split()"
   ]
  },
  {
   "cell_type": "code",
   "execution_count": 21,
   "metadata": {},
   "outputs": [
    {
     "name": "stdout",
     "output_type": "stream",
     "text": [
      "This is a Analytixlabs and it is based out of Bangalore and gurgaon!!!\n",
      "['this', 'is', 'a', 'analytixlabs', 'and', 'it', 'is', 'based', 'out', 'of', 'bangalore', 'and', 'gurgaon']\n"
     ]
    }
   ],
   "source": [
    "print(string)\n",
    "print(newstring)"
   ]
  },
  {
   "cell_type": "code",
   "execution_count": 22,
   "metadata": {},
   "outputs": [
    {
     "name": "stdout",
     "output_type": "stream",
     "text": [
      "False\n",
      "True\n",
      "False\n"
     ]
    }
   ],
   "source": [
    "#Startswith / Endswith\n",
    "word = \"hello world\"\n",
    "print word.startswith(\"H\")\n",
    "print word.endswith(\"d\")\n",
    "print word.endswith(\"w\")"
   ]
  },
  {
   "cell_type": "code",
   "execution_count": 23,
   "metadata": {},
   "outputs": [
    {
     "name": "stdout",
     "output_type": "stream",
     "text": [
      "AnalytixlabsAnalytixlabsAnalytixlabsAnalytixlabsAnalytixlabsAnalytixlabsAnalytixlabsAnalytixlabsAnalytixlabsAnalytixlabs\n"
     ]
    }
   ],
   "source": [
    "#Repeat Strings\n",
    "print \"Analytixlabs\"* 10   # prints ten dots"
   ]
  },
  {
   "cell_type": "code",
   "execution_count": 24,
   "metadata": {},
   "outputs": [
    {
     "data": {
      "text/plain": [
       "'Goodbye World'"
      ]
     },
     "execution_count": 24,
     "metadata": {},
     "output_type": "execute_result"
    }
   ],
   "source": [
    "#Replacing\n",
    "word = \"Hello World\"\n",
    "word.replace(\"Hello\", \"Goodbye\")"
   ]
  },
  {
   "cell_type": "code",
   "execution_count": 25,
   "metadata": {},
   "outputs": [
    {
     "name": "stdout",
     "output_type": "stream",
     "text": [
      "HELLO WORLD\n",
      "hello world\n",
      "Hello World\n",
      "Hello world\n",
      "hELLO wORLD\n"
     ]
    }
   ],
   "source": [
    "#Changing Upper and Lower Case Strings\n",
    "string = \"Hello World\"\n",
    "print string.upper()\n",
    "print string.lower()\n",
    "print string.title()\n",
    "print string.capitalize()\n",
    "print string.swapcase()"
   ]
  },
  {
   "cell_type": "code",
   "execution_count": 26,
   "metadata": {},
   "outputs": [
    {
     "name": "stdout",
     "output_type": "stream",
     "text": [
      "hELLO wORLD\n",
      "d l r o W   o l l e H\n"
     ]
    }
   ],
   "source": [
    "#Reversing\n",
    "print string.swapcase()\n",
    "print ' '.join(reversed(string))"
   ]
  },
  {
   "cell_type": "code",
   "execution_count": 27,
   "metadata": {},
   "outputs": [
    {
     "name": "stdout",
     "output_type": "stream",
     "text": [
      "Hello World\n"
     ]
    }
   ],
   "source": [
    "#Strip: Python strings have the strip(), lstrip(), rstrip() methods for removing any character from both ends of a \n",
    "#string. If the characters to be removed are not specified then white-space will be removed\n",
    "\n",
    "word = \"Hello World\"\n",
    "print word.strip('')"
   ]
  },
  {
   "cell_type": "code",
   "execution_count": 28,
   "metadata": {},
   "outputs": [
    {
     "name": "stdout",
     "output_type": "stream",
     "text": [
      "    xyz    \n",
      "xyz\n",
      "xyz    \n",
      "    xyz\n"
     ]
    }
   ],
   "source": [
    "word = \"    xyz    \"\n",
    "print word\n",
    "print word.strip()\n",
    "print word.lstrip()\n",
    "print word.rstrip()"
   ]
  },
  {
   "cell_type": "code",
   "execution_count": null,
   "metadata": {
    "collapsed": true
   },
   "outputs": [],
   "source": []
  },
  {
   "cell_type": "markdown",
   "metadata": {},
   "source": [
    "## Warning! Python 2's strings behave a bit differently from Python 3's"
   ]
  },
  {
   "cell_type": "markdown",
   "metadata": {},
   "source": [
    "This is due to differences in the way Unicode is handled in Python 2 vs 3. Personally, I think Python 3 makes it easier to handle Unicode strings. If you get weird errors like \"UnicodeDecodeError\", it's because Python is trying and failing to decode the string. I can't explain it well, but go here: \n",
    "\n",
    "http://nedbatchelder.com/text/unipain/unipain.html#1 \n",
    "\n",
    "or here: \n",
    "\n",
    "https://stackoverflow.com/questions/21129020/how-to-fix-unicodedecodeerror-ascii-codec-cant-decode-byte?answertab=oldest#tab-top \n",
    "\n",
    "to understand the problem better.\n",
    "\n",
    "Typically these problems crop up when you get text from the internet which could contain weird symbols in some crazy encoding."
   ]
  },
  {
   "cell_type": "markdown",
   "metadata": {},
   "source": [
    "# Regular Expressions are Super Helpful if You Work on Text"
   ]
  },
  {
   "cell_type": "code",
   "execution_count": 29,
   "metadata": {},
   "outputs": [
    {
     "data": {
      "text/plain": [
       "['1234', '567']"
      ]
     },
     "execution_count": 29,
     "metadata": {},
     "output_type": "execute_result"
    }
   ],
   "source": [
    "# python's regular expression module\n",
    "import re\n",
    "string = \"xy1234wz98xy567\"\n",
    "re_pattern = re.compile(\"xy(\\d+)\")\n",
    "re_pattern.findall(string)"
   ]
  },
  {
   "cell_type": "code",
   "execution_count": 30,
   "metadata": {},
   "outputs": [
    {
     "data": {
      "text/plain": [
       "['DEBUG',\n",
       " 'DOTALL',\n",
       " 'I',\n",
       " 'IGNORECASE',\n",
       " 'L',\n",
       " 'LOCALE',\n",
       " 'M',\n",
       " 'MULTILINE',\n",
       " 'S',\n",
       " 'Scanner',\n",
       " 'T',\n",
       " 'TEMPLATE',\n",
       " 'U',\n",
       " 'UNICODE',\n",
       " 'VERBOSE',\n",
       " 'X',\n",
       " '_MAXCACHE',\n",
       " '__all__',\n",
       " '__builtins__',\n",
       " '__doc__',\n",
       " '__file__',\n",
       " '__name__',\n",
       " '__package__',\n",
       " '__version__',\n",
       " '_alphanum',\n",
       " '_cache',\n",
       " '_cache_repl',\n",
       " '_compile',\n",
       " '_compile_repl',\n",
       " '_expand',\n",
       " '_locale',\n",
       " '_pattern_type',\n",
       " '_pickle',\n",
       " '_subx',\n",
       " 'compile',\n",
       " 'copy_reg',\n",
       " 'error',\n",
       " 'escape',\n",
       " 'findall',\n",
       " 'finditer',\n",
       " 'match',\n",
       " 'purge',\n",
       " 'search',\n",
       " 'split',\n",
       " 'sre_compile',\n",
       " 'sre_parse',\n",
       " 'sub',\n",
       " 'subn',\n",
       " 'sys',\n",
       " 'template']"
      ]
     },
     "execution_count": 30,
     "metadata": {},
     "output_type": "execute_result"
    }
   ],
   "source": [
    "dir(re)"
   ]
  },
  {
   "cell_type": "code",
   "execution_count": 31,
   "metadata": {},
   "outputs": [
    {
     "name": "stderr",
     "output_type": "stream",
     "text": [
      "C:\\ProgramData\\Anaconda2\\lib\\site-packages\\bs4\\__init__.py:181: UserWarning: No parser was explicitly specified, so I'm using the best available HTML parser for this system (\"lxml\"). This usually isn't a problem, but if you run this code on another system, or in a different virtual environment, it may use a different parser and behave differently.\n",
      "\n",
      "The code that caused this warning is on line 174 of the file C:\\ProgramData\\Anaconda2\\lib\\runpy.py. To get rid of this warning, change code that looks like this:\n",
      "\n",
      " BeautifulSoup(YOUR_MARKUP})\n",
      "\n",
      "to this:\n",
      "\n",
      " BeautifulSoup(YOUR_MARKUP, \"lxml\")\n",
      "\n",
      "  markup_type=markup_type))\n"
     ]
    }
   ],
   "source": [
    "# Awesome library for grabbing data from the internet. Included in Anaconda\n",
    "import requests\n",
    "# Awesome library for parsing HTML data. Included in Anaconda.\n",
    "from bs4 import BeautifulSoup\n",
    "\n",
    "# let's grab some data. Ray's page seems like a good place.\n",
    "r = requests.get(\"http://ptucha.com/\")\n",
    "\n",
    "# convert to \"soup\" from BeautifulSoup to extract HTML stuff easily\n",
    "soup = BeautifulSoup(r.text)"
   ]
  },
  {
   "cell_type": "code",
   "execution_count": 32,
   "metadata": {},
   "outputs": [
    {
     "data": {
      "text/plain": [
       "<html>\\n<head><title>Ray Ptucha</title>\\n<style type=\"text/css\">\\r\\n\\t <!-- #main   {background-color:#FFFFFF; color:000000; font-family: Eurostil; text-align: center; background-image:url('images/rit_bg2.jpg');} -->\\r\\n  #main   {color:000000; font-family: Eurostil; text-align: center; background-image:url('images/rit_bg2.jpg');}\\r\\n  .orange   {color:#FF7F00}\\r\\n  .black   {color:#000000;} \\r\\n  .black18   {color:rgb(000000); font-size:18} \\r\\n  .black24   {color:#000000; font-size:24} \\r\\n  .white   {color:#FFFFFF; font-size:18}\\r\\n  .maroon18   {color:#802A2A; font-size:18}\\r\\n  .rp   {Color:#FFFFFF; font-size: 24} \\r\\n  table, th, td, tr {border:none; color:#000000;}\\r\\n  a:link    {text-decoration:none; color: #000000}\\r\\n  a:visited   {text-decoration:none; color:#000080}\\r\\n  a:hover   {text-decoration:none; color: #000000; font-weight: bold; background: #FF7F00}\\r\\n  a:active   {text-decoration:none; color: #000000; font-weight: bold; background: #FF7F00}\\r\\n  div    {color:#000000}\\r\\n </style>\\n</head>\\n<body id=\"main\" text-align=\"center\">\\n<div>\\n<p class=\"topstats\" id=\"top_of_page\">\\n<!-- <img src=\"rit3.jpg\" Width=\"100%\" id=\"#top_of_page\" /> -->\\n<!--<img src=\"images/rit2_save.jpg\" Width=\"100%\" id=\"top_of_page\"/> -->\\n<font size=\"+3\"> <b>Ray Ptucha</b> </font>\\n</p>\\n<p>\\n<a href=\"#Bio\"><span class=\"black18\">Bio</span></a>&amp;nbsp&amp;nbsp-&amp;nbsp&amp;nbsp\\r\\n  <a href=\"#Publications\"><span class=\"black18\">Publications</span></a>&amp;nbsp&amp;nbsp-&amp;nbsp&amp;nbsp\\r\\n  <a href=\"#Projects\"><span class=\"black18\">Projects</span></a>&amp;nbsp&amp;nbsp-&amp;nbsp&amp;nbsp\\r\\n  <a href=\"#Patents\"><span class=\"black18\">Patents</span></a>&amp;nbsp&amp;nbsp-&amp;nbsp&amp;nbsp\\r\\n  <a href=\"#Teaching\"><span class=\"black18\">Teaching</span></a>&amp;nbsp&amp;nbsp-&amp;nbsp&amp;nbsp\\r\\n  <a href=\"#Awards\"><span class=\"black18\">Awards</span></a>\\n</p>\\n</div>\\n<table align=\"center\" rules=\"none\" width=\"50%\">\\n<!-- <tr>  <td> </td> <th><span class=\"rp\"> Ray Ptucha </span></th> </tr> -->\\n<!-- <tr>  <th class=\"rp\"> &nbsp &nbsp &nbsp &nbsp &nbsp &nbsp &nbsp &nbsp &nbsp &nbsp &nbsp Ray Ptucha </th> </tr> -->\\n<tr> <th class=\"black24\" colspan=\"3\"> &amp;nbsp </th> <th> &amp;nbsp </th> </tr>\\n<tr> <td rowspan=\"8\"><img alt=\"Ray Ptucha\" height=\"192\" src=\"images/marchLuncheon2006_small.jpg\" width=\"256\"/></td> </tr>\\n<!--<tr> <td colspan=\"1\"><b>Contact Infomation:</b></td> </tr> -->\\n<tr> <td colspan=\"2\"><b>Contact Infomation:</b></td> </tr>\\n<tr> <td><b>Email:</b></td> <td>rwpeec@rit.edu</td> </tr>\\n<tr> <td colspan=\"2\"><a href=\"mailto:rwpeec@rit.edu\"> Click Here To Send E-mail </a></td> </tr>\\n<tr> <td><b>Address:</b></td> <td>221 Scofield Rd</td> </tr>\\n<tr> <td>&amp;nbsp</td> <td>Honeoye Falls</td> </tr>\\n<tr> <td>&amp;nbsp</td> <td>NY 14472</td> </tr>\\n<tr> <td>&amp;nbsp</td> <td>&amp;nbsp</td> </tr>\\n<tr> <td>&amp;nbsp</td> <td>&amp;nbsp</td> </tr>\\n<table align=\"center\" rules=\"none\" width=\"80%\">\\n<tr> <td colspan=\"1\" id=\"bio\"><span class=\"black18\"><b>Bio</b><span></span></span></td> </tr>\\n<tr> <td colspan=\"3\">Ray is a an Assistant Professor in <a href=\"http://www.ce.rit.edu/\">Computer Engineering</a> at <a href=\"http://www.rit.edu\">Rochester Institute of Technology</a> specializing in machine learning, computer vision, robotics, and embedded control.  Ray was a research scientist with <a href=\"http://www.kodak.com\">Eastman Kodak Company</a> for 20 years where he worked on computational imaging algorithms and was awarded 31 U.S. patents with another 19 applications on file. He graduated from <a href=\"http://www.buffalo.edu\">SUNY/Buffalo</a> with a B.S. in <a href=\"http://www.cse.buffalo.edu/\">Computer Science</a> (1988) and a B.S. in <a href=\"http://www.cse.buffalo.edu/\">Electrical Engineering</a> (1989). He earned a M.S. in <a href=\"http://www.cis.rit.edu/\">Image Science</a> from RIT in 2002. He earned a Ph.D. in <a href=\"http://phd.gccis.rit.edu/\">Computer Science</a> from RIT in 2013. Ray was awarded an <a href=\"http://www.nsf.gov/grfp\">NSF Graduate Research Fellowship</a> in 2010 and his Ph.D. research earned the 2014 Best RIT Doctoral Dissertation Award.  Ray is a passionate supporter of STEM education and an active member of his local IEEE chapter.  </td> </tr>\\n<tr> <td colspan=\"3\"><a href=\"#top_of_page\">Click Here to Go Back To Top</a></td> </tr>\\n<tr> <td colspan=\"3\">&amp;nbsp</td> </tr>\\n<tr> <td colspan=\"3\" id=\"publications\"><span class=\"black18\"><b>Publications</b></span></td> </tr>\\n<tr> <td colspan=\"3\"><span class=\"black16\"><b>Journal Articles and Book Chapters</b></span></td> </tr>\\n<tr> <td colspan=\"3\"> <ul type=\"disc\"> <li> F. Petroski Such*, S. Sah*, M. Dominguez, S. Pillai, Chao Zhang, Andrew Michael, N. Cahill, R. Ptucha \\x93Robust Spatial Filtering with Graph Convolutional Neural Networks,\\x94 special issue IEEE Journal of Selected Topics in Signal Processing, Volume 11, Issue 6, 2017.  </li></ul></td> </tr>\\n<tr> <td colspan=\"3\"> <ul type=\"disc\"> <li> S. Sah, A. Shringi, R. Ptucha, A. Burry, R. Loce, \\x93Video Redaction: A Survey and Comparison of Enabling Technologies\\x94, Journal of Electronic Imaging Special issue on Video Analytics for Public Safety, 2017.  </li></ul></td> </tr>\\n<tr> <td colspan=\"3\"> <ul type=\"disc\"> <li> S. Sah , T. Nguyen, M. Dominguez, F. Petroski Such, R. Ptucha, \\x93Understanding Temporal Structure for Real Time Video Captioning\\x94 , IEEE Transactions on Multimedia, Special Issue on Video Analytics: Challenges, Algorithms, and Applications, under review.  </li></ul></td> </tr>\\n<tr> <td colspan=\"3\"> <ul type=\"disc\"> <li> S. Chennupati, S. Prasad Nooka, S. Sah, R. Ptucha, \\x93Adaptive Hierarchical Decomposition of Large Deep Networks\\x94, IJPRAI - International Journal of Pattern Recognition and Artificial Intelligence, under review.  </li></ul></td> </tr>\\n<tr> <td colspan=\"3\"> <ul type=\"disc\"> <li> R.W. Ptucha, A. Savakis, \\x93LGE-KSVD:  Robust Sparse Representation Classification\\x94, IEEE Transactions on Image Processing, Volume 23, Issue 4, 2014.  </li></ul></td> </tr>\\n<tr> <td colspan=\"3\"> <ul type=\"disc\"> <li> R.W. Ptucha, A. Savakis, \\x93Manifold Based Sparse Representation for Facial Understanding in Natural Images\\x94, Image and Vision Computing, vol. 31, pp. 365-378, 2013.  </li></ul></td> </tr>\\n<tr> <td colspan=\"3\"> <ul type=\"disc\"> <li> R.W. Ptucha, A. Savakis, \\x93Facial Expression Recognition\\x94, IGI Global Encyclopedia of Information Science and Technology, 3rd Edition, 2013.  </li></ul></td> </tr>\\n<tr> <td colspan=\"3\"> <ul type=\"disc\"> <li> R.W. Ptucha, A. Savakis, \\x93Keypoint Matching and Image Registration Using Sparse Representations\\x94, IEEE Transactions on Image Processing, in preparation.  </li></ul></td> </tr>\\n<tr> <td colspan=\"3\"><span class=\"black16\"><b>Conference Articles</b></span></td> </tr>\\n<tr> <td colspan=\"3\"> <ul type=\"disc\"> <li> S. Sah, C. Zhang, D. Kumar, T. Nguyen, R. Ptucha, \\x93Vector Learning for Cross Domain Representations\\x94, IEEE Applied Imagery Pattern Recognition Workshop (AIPR) Conference, 2017.  </li></ul></td> </tr>\\n<tr> <td colspan=\"3\"> <ul type=\"disc\"> <li> R. Kangutkar, J. Lauzon, A. Synesael, N. Jenis, A. Bhatt, K. Simha, R. Ptucha, \\x93ROS Navigation Stack for Smart Indoor Agents\\x94, IEEE Applied Imagery Pattern Recognition Workshop (AIPR) Conference, 2017.  </li></ul></td> </tr>\\n<tr> <td colspan=\"3\"> <ul type=\"disc\"> <li> T. Thomas, M. Dominguez, R. Ptucha, \\x93Deep Independent Audio-Visual Affect Analysis\\x94, Global Conference on Signal and Information Processing, Montreal, CA, 2017.  </li></ul></td> </tr>\\n<tr> <td colspan=\"3\"> <ul type=\"disc\"> <li> C. Zhang, S. Sah, T. Nguyen, D. Peri, A. Loui, C. Salvaggio, R. Ptucha, \\x93Semantic Sentence Embeddings for Paraphrasing and Text Summarization\\x94, Global Conference on Signal and Information Processing, Montreal, CA, 2017.  </li></ul></td> </tr>\\n<tr> <td colspan=\"3\"> <ul type=\"disc\"> <li> S. Sah, T. Nguyen, M. Dominguez, F. Petroski Such, R. Ptucha, \\x93Temporally Steered Gaussian Attention for Video Understanding\\x94, CVPR Workshop Deep-Vision: Deep Learning in Computer Vision, Honolulu, Hawaii, 2017.  </li></ul></td> </tr>\\n<tr> <td colspan=\"3\"> <ul type=\"disc\"> <li> S. Sah, R. Longman, A. Shringi, R. Loce, M. Rabbani, R. Ptucha, \\x93Detection without Recognition for Redaction\\x94, CVPR Workshop The First International Workshop on The Bright and Dark Sides of Computer Vision: Challenges and Opportunities for Privacy and Security, Honolulu, Hawaii, 2017.  </li></ul></td> </tr>\\n<tr> <td colspan=\"3\"> <ul type=\"disc\"> <li> M. Dominguez, F. Petroski Such, S. Sah, R. Ptucha, \\x93Towards 3D Convolutional Neural Networks with Meshes\\x94, International Conference on Image Processing, Beijing, China, 2017.  </li></ul></td> </tr>\\n<tr> <td colspan=\"3\"> <ul type=\"disc\"> <li> C. Zhang, T. Nguyen, S. Sah, R. Ptucha, A. Loui, C. Salvaggio, \\x93Bath-Normalized Recurrent Highway Networks\\x94, International Conference on Image Processing, Beijing, China, 2017.  </li></ul></td> </tr>\\n<tr> <td colspan=\"3\"> <ul type=\"disc\"> <li> A. Calderwood, E. Pruett, R. Ptucha, C. Homan, C. Alm, \\x93Understanding the Semantics of Narratives of Interpersonal Violence through Reader Annotations and Physiological Reactions\\x94, Computational Semantics Beyond Events and Roles (SemBEaR), Valencia, Spain, 2017.  </li></ul></td> </tr>\\n<tr> <td colspan=\"3\"> <ul type=\"disc\"> <li> S. Sah, S. Kulhare, A. Gray, S. Venugopalan, E. Prud\\x92hommeaux, R. Ptucha, \\x93Semantic Text Summarization of Long Videos\\x94, WACV, Santa Rosa, CA, 2017.  </li></ul></td> </tr>\\n<tr> <td colspan=\"3\"> <ul type=\"disc\"> <li> S. Bag, V. Venkatachalapathy, R. Ptucha, \\x93Motion Estimation Using Visual Odometry and Deep Learning Localization,\\x94 Proceedings of Electronic Imaging: Image Processing Algorithms and Systems, San Francisco, CA, 2017.  </li></ul></td> </tr>\\n<tr> <td colspan=\"3\"> <ul type=\"disc\"> <li> M. Hssayeni, S. Saxena, A. Savakis, R. Ptucha, \\x93Distracted Driver Detection: Deep Learning vs Handcrafted Features,\\x94 Proceedings of Electronic Imaging: Image Processing Algorithms and Systems, San Francisco, CA, 2017.  </li></ul></td> </tr>\\n<tr> <td colspan=\"3\"> <ul type=\"disc\"> <li> S. Echefu, J. Lauzon, S. Bag, R. Kangutkar, A. Bhatt, R. Ptucha, \\x93Milpet \\x96 The Self-driving Wheelchair,\\x94 Proceedings of Electronic Imaging: Image Processing Algorithms and Systems, San Francisco, CA, 2017.  </li></ul></td> </tr>\\n<tr> <td colspan=\"3\"> <ul type=\"disc\"> <li> S. Nooka, S. Chennupati, N. Karthik, S. Sah, R. Ptucha, \\x93Adaptive Hierarchical Classification Networks,\\x94 Proceedings of International Conference on Pattern Recognition, Cancun, Mexico, 2016.  </li></ul></td> </tr>\\n<tr> <td colspan=\"3\"> <ul type=\"disc\"> <li> M. Dushkoff, R. McLaughlin, R. Ptucha, \\x93A Temporally Coherent Neural Algorithm for Artistic Style Transfer,\\x94 Proceedings of International Conference on Pattern Recognition, Cancun, Mexico, 2016.  </li></ul></td> </tr>\\n<tr> <td colspan=\"3\"> <ul type=\"disc\"> <li> S. Kulhare, S. Sah, S. Pillai, R. Ptucha, \\x93Key Frame Extraction for Salient Activity Recognition,\\x94 Proceedings of International Conference on Pattern Recognition, Cancun, Mexico, 2016.  </li></ul></td> </tr>\\n<tr> <td colspan=\"3\"> <ul type=\"disc\"> <li> R. Oruganti, S. Sah, Suhas Pillai, and R. Ptucha, \\x93Image Description through Fusion Based Recurrent Multi-Modal Learning\\x94, Proceedings of International Conference on Image Processing, Phoenix, AZ, 2016.  </li></ul></td> </tr>\\n<tr> <td colspan=\"3\"> <ul type=\"disc\"> <li> M. Oak, A. Behera, T. Thomas, C. Alm, C. Homan, E. Prud\\x92hommeaux, R. Ptucha, \\x93Generating Clinically Relevant Texts: A Case Study on Life-changing Events,\\x94 Proceedings of CLPysch Workshop, North American Chapter of the Association for Computational Linguistics- Human Language Technologies (NAACL-HLT), San Diego, CA, 2016.  </li></ul></td> </tr>\\n<tr> <td colspan=\"3\"> <ul type=\"disc\"> <li> D. Simon, S. Sridharan, S. Sah, R. Ptucha, C. Kanan, R. Bailey, \\x93Automatic Scanpath Generation With Deep Recurrent Neural Networks\\x94, SAP\\x9216 Proceedings of the ACM Symposium on Applied Perception, Anaheim, CA, 2016.  </li></ul></td> </tr>\\n<tr> <td colspan=\"3\"> <ul type=\"disc\"> <li> M. Dushkoff and R. Ptucha, \\x93Adaptive activation functions for deep networks\\x94, Proceedings of Electronic Imaging: Computational Imaging, San Francisco, CA, 2016.  </li></ul></td> </tr>\\n<tr> <td colspan=\"3\"> <ul type=\"disc\"> <li> V. Chennupati, S. Nooka, S. Sah, R. Ptucha, \\x93Hierarchical decomposition of large deep networks\\x94, Proceedings of Electronic Imaging: Computational Imaging, San Francisco, CA, 2016.  </li></ul></td> </tr>\\n<tr> <td colspan=\"3\"> <ul type=\"disc\"> <li> A. Rajanna, R. Ptucha, S. Sinha, N. Rao, \\x93Prostate cancer detection using photoacoustic imaging and deep learning\\x94, Proceedings of Electronic Imaging: Computational Imaging, San Francisco, CA, 2016.  </li></ul></td> </tr>\\n<tr> <td colspan=\"3\"> <ul type=\"disc\"> <li> N. Schrading, C. Alm, R. Ptucha, C. Homan, \\x93An Analysis of Domestic Abuse Discourse on Reddit\\x94, Proceedings of Empirical Methods in Natural Language Processing (EMNLP), Lisbon, Portugal, 2015.  </li></ul></td> </tr>\\n<tr> <td colspan=\"3\"> <ul type=\"disc\"> <li> A. Rajanna, K. Aryafar, A. Shokoufandeh, R. Ptucha, \\x93Deep Neural Networks: A Case Study for Music Genre Classification,\\x94 Proceedings of 14th IEEE International Conference on Machine Learning and Applications, Miami, FL, 2015. </li></ul></td> </tr>\\n<tr> <td colspan=\"3\"> <ul type=\"disc\"> <li> N. Briviano, M. Daigneau, J. Danko, C. Goss, A. Hintz, S. Kuhr, B. Tarloff, J. Kaemmerlen, R. Ptucha, \\x93Autonomous People Mover: Adding Sensors\\x94, NY Cyber Security &amp; Eng. Tech. Assoc., Rochester, NY, 2015. </li></ul></td> </tr>\\n<tr> <td colspan=\"3\"> <ul type=\"disc\"> <li> H. Kumar, R. Ptucha, \\x93Gesture Recognition Using Active Body Parts and Active Difference Signatures,\\x94 Proceedings of International Conference on Image Processing, Quebec City, Canada, 2015. </li></ul></td> </tr>\\n<tr> <td colspan=\"3\"> <ul type=\"disc\"> <li> N. Schrading, C. Alm, R. Ptucha, and C. Homan, \\x93#WhyIStayed, #WhyILeft: Microblogging to Make Sense of Domestic Abuse,\\x94 Proceedings of North American Chapter of the Association for Computational Linguistics- Human Language Technologies (NAACL-HLT), Denver, CO, 2015. </li></ul></td> </tr>\\n<tr> <td colspan=\"3\"> <ul type=\"disc\"> <li> K. Knowles, N. Bovee, P. Gelose, D. Le, K. Martin, M. Pressman, J. Zimmerman, R. Lux, R. Ptucha, \\x93Autonomous People Mover,\\x94 Proceedings of American Society for Engineering Education, Syracuse, NY, 2015. </li></ul></td> </tr>\\n<tr> <td colspan=\"3\"> <ul type=\"disc\"> <li> A. Wong, M. Yousefhussien, R.W. Ptucha, \\x93Localization Using Omnivision-based Manifold Particle Filters\\x94, Proceedings of Electronic Imaging: Computational Imaging, San Francisco, CA, 2015.  </li></ul></td> </tr>\\n<tr> <td colspan=\"3\"> <ul type=\"disc\"> <li> M. Yousefhussien, et al., \\x93Flatbed Scanner Simulation to Analyze the Effect of Detector\\x92s Size on Color Artifacts\\x94, Proceedings of Electronic Imaging: Computational Imaging, San Francisco, CA, 2015.  </li></ul></td> </tr>\\n<tr> <td colspan=\"3\"> <ul type=\"disc\"> <li> A. Savakis, R. Rudra, R.W. Ptucha, \\x93Gesture Control Using Active Difference Signatures and Sparse Learning\\x94, Proceedings of International Conference on Pattern Recognition, Stockholm, Sweden, 2014.  </li></ul></td> </tr>\\n<tr> <td colspan=\"3\"> <ul type=\"disc\"> <li> C. Merkel, D. Kudithipudi, R.W. Ptucha, \\x93Heterogeneous CMOS/Memristor Neural Networks for Real-time Target Classification\\x94, SPIE Machine Intelligence and Bio-inspired Computation, STA14-ST141-28, 2014.  </li></ul></td> </tr>\\n<tr> <td colspan=\"3\"> <ul type=\"disc\"> <li> R.W. Ptucha, D. Kloosterman, B. Mittelstaedt, A. Loui, \\x93Automatic Image Assessment from Facial Attributes\\x94, Proceedings of Electronic Imaging: Computational Imaging, San Francisco, CA, 2014.  </li></ul></td> </tr>\\n<tr> <td colspan=\"3\"> <ul type=\"disc\"> <li> P. Hays, R.W. Ptucha, R. Melton, \\x93Mobile Device to Cloud Co-processing of ASL Finger Spelling to Text Conversion\\x94, Proceedings of IEEE Western NY Image Processing Workshop, Rochester, NY, 2013.  </li></ul></td> </tr>\\n<tr> <td colspan=\"3\"> <ul type=\"disc\"> <li> R.W. Ptucha, S. Azary, A. Savakis, \\x93Keypoint Matching and Image Registration Using Sparse Representations\\x94, Proceedings of International Conference on Image Processing, Melbourne, Australia, 2013.  </li></ul></td> </tr>\\n<tr> <td colspan=\"3\"> <ul type=\"disc\"> <li> C. Bellmore, R.W. Ptucha, A. Savakis, \\x93Fusion of Depth and Color for an Improved Active Shape Model\\x94, Proceedings of International Conference on Image Processing, Melbourne, Australia, 2013.  </li></ul></td> </tr>\\n<tr> <td colspan=\"3\"> <ul type=\"disc\"> <li> R.W. Ptucha, A. Savakis, \\x93LGE-KSVD: Flexible Dictionary Learning for Optimized Sparse Representation Classification\\x94, Proceedings of AMFG Workshop, Computer Vision and Pattern Recognition, Portland, OR, 2013.  </li></ul></td> </tr>\\n<tr> <td colspan=\"3\"> <ul type=\"disc\"> <li> R.W. Ptucha, A. Savakis, \\x93Joint Optimization of Manifold Learning and Sparse Representations\\x94, Proceedings of Automatic Face and Gesture Recognition, Shanghai, China, 2013.  </li></ul></td> </tr>\\n<tr> <td colspan=\"3\"> <ul type=\"disc\"> <li> R.W. Ptucha, D. Rhoda, B. Mittelstaedt, \\x93Auto Zoom Crop from Face Detection and Facial Features\\x94, Proceedings of Electronic Imaging: Computational Imaging, San Francisco, CA, 2013.  </li></ul></td> </tr>\\n<tr> <td colspan=\"3\"> <ul type=\"disc\"> <li> R.W. Ptucha, A. Savakis, \\x93Fusion of Static and Temporal Predictors for Unconstrained Facial Expression Recognition\\x94, Proceedings of International Conference on Image Processing, Orlando, FL, 2012.  </li></ul></td> </tr>\\n<tr> <td colspan=\"3\"> <ul type=\"disc\"> <li> R.W. Ptucha, A. Savakis, \\x93Towards the Usage of Optical Flow Temporal Features for Facial Expression Classification\\x94, Proceedings of International Symposium on Visual Computing, Crete, Greece, 2012.  </li></ul></td> </tr>\\n<tr> <td colspan=\"3\"> <ul type=\"disc\"> <li> R.W. Ptucha, A. Savakis, \\x93How Connections Matter: Factors Affecting Student Performance in STEM Disciplines\\x94, Proceedings of IEEE Integrated STEM Education Conference, Princeton, NJ, 2012.  </li></ul></td> </tr>\\n<tr> <td colspan=\"3\"> <ul type=\"disc\"> <li> C. Bellmore, R.W. Ptucha, A. Savakis, \\x93Interactive Display Using Depth and RGB Sensors for Face and Gesture Control\\x94, IEEE Western NY Image Processing Workshop, Rochester, NY, 2011.  </li></ul></td> </tr>\\n<tr> <td colspan=\"3\"> <ul type=\"disc\"> <li> R.W. Ptucha, G. Tsagkatakis, A. Savakis, \\x93Manifold Based Sparse Representation for Robust Expression Recognition without Neutral Subtraction\\x94, Proceedings of BeFIT Workshop, International Conference on Computer Vision, Barcelona, Spain, 2011. </li></ul></td> </tr>\\n<tr> <td colspan=\"3\"> <ul type=\"disc\"> <li> R.W. Ptucha, G. Tsagkatakis, A. Savakis, \\x93Manifold Learning for Simultaneous Pose and Facial Expression Recognition\\x94, Proceedings of International Conference on Image Processing , Brussels, Belgium, 2011. </li></ul></td> </tr>\\n<tr> <td colspan=\"3\"> <ul type=\"disc\"> <li> R.W. Ptucha, A. Savakis, \\x93Facial Expression Recognition Using Facial Features and Manifold Learning\\x94, Proceedings of International Symposium on Visual Computing, Las Vegas, NV, 2010.  </li></ul></td> </tr>\\n<tr> <td colspan=\"3\"> <ul type=\"disc\"> <li> R.W. Ptucha, A. Savakis, \\x93Pose Estimation Using Facial Feature Points and Manifold Learning\\x94, Proceedings of International Conference on Image Processing, Hong Kong, 2010.  </li></ul></td> </tr>\\n<tr> <td colspan=\"3\"> <ul type=\"disc\"> <li> R.W. Ptucha, A. Savakis, \\x93Facial Pose Tracking for Interactive Display\\x94, IEEE Western NY Image Processing Workshop, Rochester, NY, 2009.  </li></ul></td> </tr>\\n<tr> <td colspan=\"3\"> <ul type=\"disc\"> <li> R.W. Ptucha, A. Savakis, \\x93Facial Pose Estimation Using a Symmetrical Feature Model\\x94, Proceedings of ICME- Workshop on Media Information Analysis for Personal and Social Applications,  New York, NY, 2009.  </li></ul></td> </tr>\\n<tr> <td colspan=\"3\"> <ul type=\"disc\"> <li> R.W. Ptucha, \\x93Correction of High Frequency Smear in Thermal Printers\\x94, Proceedings of IS&amp;T 22nd Annual Non-Impact Printing (NIP22) Conference, Denver, CO, 2006.  </li></ul></td> </tr>\\n<tr> <td colspan=\"3\"> <ul type=\"disc\"> <li> R.W. Ptucha, \\x93Image Quality Assessment of Digital Scanners and Electronic Still Cameras\\x94, Proceedings of IS&amp;T Image Processing, Image Quality, Image Capture Systems (PICS) Conference, Savannah GA, 1999.  </li></ul></td> </tr>\\n<tr> <td colspan=\"3\"> <ul type=\"disc\"> <li> C.M. Daniels, R.W. Ptucha, L. Schaefer, \\x93The Necessary Resolution to Zoom and Crop Hardcopy Images\\x94, Proceedings of IS&amp;T Image Processing, Image Quality, Image Capture Systems (PICS) Conference, Savannah GA, 1999.  </li></ul></td> </tr>\\n<tr> <td colspan=\"3\"><span class=\"black16\"><b>Competitions and Presentations</b></span></td> </tr>\\n<tr> <td colspan=\"3\"> <ul type=\"disc\"> <li> J. Luazon, R. Kangutkar, N. Soures, A. Synesael, A. Bhatt, A. Bhat, S. Jain, K. Simha, R.W. Ptucha, 3rd place.  \"Milpet- Voice Activated Wheelchair\", Effective Access Technology Conference, Rochester, NY, 2017. </li></ul></td> </tr>\\n<tr> <td colspan=\"3\"> <ul type=\"disc\"> <li> R. Ptucha, Allison Gray, \\x93Fundamentals of Deep Learning\\x94, Tutorial at Electronic Imaging, San Francisco, CA, 2016-2017. </li></ul></td> </tr>\\n<tr> <td colspan=\"3\"> <ul type=\"disc\"> <li> A. Bhatt, M. Dushkoff, S. Echefu, M. Shoaib, K. Wieszchowski, R.W. Ptucha, \"Voice Activated Wheelchair\", Effective Access Technology Conference, Rochester, NY, 2015. </li></ul></td> </tr>\\n<tr> <td colspan=\"3\"> <ul type=\"disc\"> <li> R.W. Ptucha, \\x93Enabling Ubiquitous Computing,\\x94 keynote speaker at Rochester Institute of Technology\\x92s Graduate Research and Creativity Symposium, Rochester, NY, 2015. </li></ul></td> </tr>\\n<tr> <td colspan=\"3\"> <ul type=\"disc\"> <li> R.W. Ptucha, \\x93Deep Belief Networks,\\x94 IEEE Society for Imaging Science &amp; Technology, Rochester, NY, 2015. </li></ul></td> </tr>\\n<tr> <td colspan=\"3\"> <ul type=\"disc\"> <li> R.W. Ptucha, \\x93Machine Learning with Deep Belief Networks,\\x94 Invited tutorial: Western New York Image and Signal Processing Workshop, Rochester, NY, 2014. </li></ul></td> </tr>\\n<tr> <td colspan=\"3\"> <ul type=\"disc\"> <li> R. Rudra, H. Kumar, R.W. Ptucha, \\x93Sparse Based Gesture Recognition\\x94, 2014 ChaLearn Gesture Challenge, 2014.  </li></ul></td> </tr>\\n<tr> <td colspan=\"3\"> <ul type=\"disc\"> <li> R.W. Ptucha, \\x93Machine Learning for Intelligent Behavior\\x94, IEEE Rochester Section Joint Chapters Meeting, Rochester, NY, 2014.  </li></ul></td> </tr>\\n<tr> <td colspan=\"3\"> <ul type=\"disc\"> <li> C. Bellmore, R.W. Ptucha, A. Savakis, \\x93Interactive Storefront Display with Face and Gesture Control\\x94, ChaLearn Gesture Challenge entry at International Conference on Pattern Recognition, Tsukuba, Japan, 2012.  </li></ul></td> </tr>\\n<tr> <td colspan=\"3\"> <ul type=\"disc\"> <li> R.W. Ptucha, \\x93Joint Optimization of Manifold Learning and Sparse Representations for Face and Gesture Analysis\\x94, Artificial Intelligence Seminar, Cornell University, 2013.  </li></ul></td> </tr>\\n<tr> <td colspan=\"3\"> <ul type=\"disc\"> <li> S. Azary, R.W. Ptucha, A. Savakis, \\x93Pervasive Intelligence Aided by Depth Sensors\\x94, International Conference on Computational Photography, Cambridge, MA, 2013.  </li></ul></td> </tr>\\n<tr> <td colspan=\"3\"><a href=\"#top_of_page\">Click Here to Go Back To Top</a></td> </tr>\\n<tr> <td colspan=\"3\">&amp;nbsp</td> </tr>\\n<tr> <td colspan=\"3\" id=\"Projects\"><span class=\"black18\"><b>Projects</b></span></td> </tr>\\n<tr> <td colspan=\"3\"> <ul type=\"disc\"> <li> Deep Learning:  Inspired by the human brain, deep learning methods have revolutionized the computer vision, natural language processing, and pattern recognition communities.  The Machine Intelligence Laboratory, directed by Dr. Ptucha, is researching advanced deep learning algorithms: hierarchical architectures, adaptive activation functions, statistical convolutional networks, and temporal recurrence.  This algorithm research is yielding state-of-the-art results in still and video understanding, natural language processing, and graph theory. Applications of this research include medical imaging, image annotation, activity understanding, object recognition, voice recognition, advanced human-computer interaction, and autonomous driving.</li></ul></td> </tr>\\n<tr> <td colspan=\"3\"> <ul type=\"disc\"> <li> Voice Activated Wheelchair:  An effective access wheelchair is being designed to help elderly and disabled patients safely navigate through busy environments while smartly recognizing objects and surroundings. Motorized wheelchairs have improved the lives of countless individuals.  For those who have trouble with a joystick, wheelchairs have been retrofitted to move based upon eye blinks, breathing tubes, and head pose. This project is developing a natural wheelchair interface, offering the patient the ability to control their wheelchair using typical and intuitive human-to-human methods such as voice and facial expression.  The voice commands give visually impaired or wheelchair patients with restricted hand mobility, such as stroke, arthritis, limb injury, Parkinson\\x92s, cerebral palsy or multiple sclerosis, the freedom to move independently.  The advanced object and scene recognition give patients the ability and confidence to move safely and reliably through complex environments.  </li></ul></td> </tr>\\n<tr> <td colspan=\"3\"> <ul type=\"disc\"> <li> Autonomous People Mover: Self-driving cars will make our roadways safer, our environment cleaner, our roads less congested, and our lifestyles more efficient.  Imagine a people mover on the RIT campus that stands ready at all times to give people rides across campus.  A person needing a lift sends a text to the people mover service.  The people mover (golf cart) drives over to the location of the person, asks where they want to go, and then drives them to the destination of their choosing.  The key differentiator with this project is there is no human driver- the people mover is driving fully autonomously.   The hardware and software for high speed highway driving and low speed campus driving are very similar.  The algorithms, including localization, obstacle avoidance, and navigation, are almost identical.  The autonomous people mover project is a multi-year senior design project.  Phase I converted the golf cart into a remote control vehicle.  Phase II is robustifying the control systems and introducing advanced sensors.  Phase III is currently working towards autonomous driving in restricted settings.  Future phases will enable the vehicle to drive autonomously in real-world scenarios.  Key tasks involve LIDAR and vision integration, localization, path planning, path following, and object detection/recognition/tracking. </li></ul></td> </tr>\\n<tr> <td colspan=\"3\"><a href=\"#top_of_page\">Click Here to Go Back To Top</a></td> </tr>\\n<tr> <td colspan=\"3\">&amp;nbsp</td> </tr>\\n<tr> <td colspan=\"3\" id=\"Patents\"><span class=\"black18\"><b>Patents</b></span></td> </tr>\\n<tr> <td colspan=\"3\"> <ul type=\"disc\"> <li> \\x93Imaging Workflow Using Facial and Non-Facial Features\\x94, U.S. Patent 9,552,374, Jan 24, 2017. </li></ul></td> </tr>\\n<tr> <td colspan=\"3\"> <ul type=\"disc\"> <li> \\x93Interactive Digital Advertising System\\x94, U.S. Patent 9,349,131, May 24, 2016. </li></ul></td> </tr>\\n<tr> <td colspan=\"3\"> <ul type=\"disc\"> <li> \\x93Camera and Display System Interactivity\\x94, U.S. Patent 9,319,640, April 19, 2016. </li></ul></td> </tr>\\n<tr> <td colspan=\"3\"> <ul type=\"disc\"> <li> \\x93Method for Group Interactivity\\x94, U.S. Patent 9,253,447, Feb 2, 2016. </li></ul></td> </tr>\\n<tr> <td colspan=\"3\"> <ul type=\"disc\"> <li> \\x93Group Display System\\x94, U.S. Patent 9,179,102, Nov. 3, 2015. </li></ul></td> </tr>\\n<tr> <td colspan=\"3\"> <ul type=\"disc\"> <li> \\x93Image Recomposition from Face Detection and Facial Features\\x94, U.S. Patent 9,025,836, May 5, 2015. </li></ul></td> </tr>\\n<tr> <td colspan=\"3\"> <ul type=\"disc\"> <li> \\x93Image Recomposition from Face Detection and Facial Features\\x94, U.S. Patent 9,025,835, May 5, 2015. </li></ul></td> </tr>\\n<tr> <td colspan=\"3\"> <ul type=\"disc\"> <li> \\x93Image Recomposition from Face Detection and Facial Features\\x94, U.S. Patent 9,008,436, April 14, 2015. </li></ul></td> </tr>\\n<tr> <td colspan=\"3\"> <ul type=\"disc\"> <li> \\x93Image Recomposition from Face Detection and Facial Features\\x94, U.S. Patent 8,811,747, Jan. 20, 2015. </li></ul></td> </tr>\\n<tr> <td colspan=\"3\"> <ul type=\"disc\"> <li> \\x93Method for Producing Artistic Image Template Designs\\x94, U.S. Patent 8,854,395, Oct. 7, 2014. </li></ul></td> </tr>\\n<tr> <td colspan=\"3\"> <ul type=\"disc\"> <li> \\x93Method for Matching Artistic Attributes of a Template and Secondary Images to a Primary Image\\x94, U.S. Patent 8,849,853, Sept. 30, 2014. </li></ul></td> </tr>\\n<tr> <td colspan=\"3\"> <ul type=\"disc\"> <li> \\x93System for Matching Artistic Attributes of Secondary Image and Template to a Primary Image, U.S. Patent 8,849,043, Sept. 30, 2014. </li></ul></td> </tr>\\n<tr> <td colspan=\"3\"> <ul type=\"disc\"> <li> \\x93Image Recomposition from Face Detection and Facial Features\\x94, U.S. Patent 8,811,747, Aug. 19, 2014. </li></ul></td> </tr>\\n<tr> <td colspan=\"3\"> <ul type=\"disc\"> <li> \\x93Method for Controlling Interactive Display System\\x94, U.S. Patent 8,810,513, Aug. 19, 2014. </li></ul></td> </tr>\\n<tr> <td colspan=\"3\"> <ul type=\"disc\"> <li> \\x93Multi-user Interactive Display System\\x94, U.S. Patent 8,723,796, May. 13, 2014. </li></ul></td> </tr>\\n<tr> <td colspan=\"3\"> <ul type=\"disc\"> <li> \\x93System for Coordinating User Images in an Artistic Design\\x94, U.S. Patent 8,538,986, Sept. 17, 2013. </li></ul></td> </tr>\\n<tr> <td colspan=\"3\"> <ul type=\"disc\"> <li> \\x93System for Matching Artistic Attributes of Secondary Image and Template to a Primary Image\\x94, U.S. Patent 8,422,794, April 16, 2013. </li></ul></td> </tr>\\n<tr> <td colspan=\"3\"> <ul type=\"disc\"> <li> \\x93Display System for Personalized Consumer Goods\\x94, U.S. Patent 8,390,648, March 5, 2013. </li></ul></td> </tr>\\n<tr> <td colspan=\"3\"> <ul type=\"disc\"> <li> \\x93Context Coordination for an Artistic Digital Template for Image Display\\x94, U.S. Patent 8,345,057, Jan 1, 2013. </li></ul></td> </tr>\\n<tr> <td colspan=\"3\"> <ul type=\"disc\"> <li> \\x93Method of Generating Artistic Template Designs\\x94, U.S. Patent 8,332,427, Dec 11, 2012. </li></ul></td> </tr>\\n<tr> <td colspan=\"3\"> <ul type=\"disc\"> <li> \\x93Method of Making an Artistic Digital Template for Image Display\\x94, U.S. Patent 8,289,340, Oct 16, 2012. </li></ul></td> </tr>\\n<tr> <td colspan=\"3\"> <ul type=\"disc\"> <li> \\x93Processing Digital Templates for Image Display\\x94, U.S. Patent 8,274,523, Sept 25, 2012. </li></ul></td> </tr>\\n<tr> <td colspan=\"3\"> <ul type=\"disc\"> <li> \\x93Image Capture Method with Artistic Template Design\\x94, U.S. Patent 8,237,819, Aug 7, 2012. </li></ul></td> </tr>\\n<tr> <td colspan=\"3\"> <ul type=\"disc\"> <li> \\x93Artistic Digital Template for Image Display\\x94, U.S. Patent 8,212,834, July 3, 2012. </li></ul></td> </tr>\\n<tr> <td colspan=\"3\"> <ul type=\"disc\"> <li> \\x93Printer Having Differential Filtering Smear Correction\\x94, U.S. Patent 7,847,979, Dec 7, 2010. </li></ul></td> </tr>\\n<tr> <td colspan=\"3\"> <ul type=\"disc\"> <li> \\x93Selection of Alternative Image Processing Operations to Maintain High Image Quality\\x94, U.S. Patent 7,570,829 B2, Aug 4, 2009. </li></ul></td> </tr>\\n<tr> <td colspan=\"3\"> <ul type=\"disc\"> <li> \\x93Applying an Adjusted Image Enhancement Algorithm to a Digital Image\\x94, U.S. Patent  7,428,332, Sept 23, 2008. </li></ul></td> </tr>\\n<tr> <td colspan=\"3\"> <ul type=\"disc\"> <li> \\x93Sharpening a Digital Image in Accordance With Magnification Values\\x94, U.S. Patent  7,269,300, Sept 11, 2007. </li></ul></td> </tr>\\n<tr> <td colspan=\"3\"> <ul type=\"disc\"> <li> \\x93Method for Constructing Extended Color Gamut Digital Images From Limited Color Gamut Digital Images\\x94, U.S. Patent 7,308,135, Dec 11, 2007. </li></ul></td> </tr>\\n<tr> <td colspan=\"3\"> <ul type=\"disc\"> <li> \\x93Method of Color Transformation for Processing Digital Images\\x94, U.S. Patent 6,956,967, Oct 18, 2005. </li></ul></td> </tr>\\n<tr> <td colspan=\"3\"> <ul type=\"disc\"> <li> \\x93Method For Determining Necessary Resolution For Zoom And Crop Of Images\\x94, U.S. Patent 6,643,416, Nov. 4, 2003. </li></ul></td> </tr>\\n<tr> <td colspan=\"3\"> <ul type=\"disc\"> <li> 19 US Patents Pending. </li></ul></td> </tr>\\n<tr> <td colspan=\"3\"><a href=\"#top_of_page\">Click Here to Go Back To Top</a></td> </tr>\\n<tr> <td colspan=\"3\">&amp;nbsp</td> </tr>\\n<tr> <td colspan=\"3\" id=\"Teaching\"><span class=\"black18\"><b>Teaching: University Courses</b></span></td> </tr>\\n<tr> <td colspan=\"3\"> <ul type=\"disc\"> <li> Deep Learning, CMPE-789, CE Dept, RIT, 2017. </li></ul></td> </tr>\\n<tr> <td colspan=\"3\"> <ul type=\"disc\"> <li> Machine Intelligence, CMPE-677, CE Dept, RIT, 2014-17. </li></ul></td> </tr>\\n<tr> <td colspan=\"3\"> <ul type=\"disc\"> <li> Interface &amp; Digital Electronics, CMPE-460, CE Dept, RIT, 2014-17. </li></ul></td> </tr>\\n<tr> <td colspan=\"3\"> <ul type=\"disc\"> <li> Introduction to Computer Engineering, CMPE-110, CE Dept, RIT, 2013. </li></ul></td> </tr>\\n<tr> <td colspan=\"3\"> <ul type=\"disc\"> <li> Robotics, 0306-675, 0306-775, CE Dept, RIT, Adjunct Professor: 2007-2013. </li></ul></td> </tr>\\n<tr> <td colspan=\"3\"> <ul type=\"disc\"> <li> CE Multi-Disciplinary Senior Design, 0306-656, CE Dept, RIT, Adjunct Professor: 2009. </li></ul></td> </tr>\\n<tr> <td colspan=\"3\"> <ul type=\"disc\"> <li> Engineering Fundamentals of Computer Systems, 0306-340, CE Dept, RIT, Adjunct Professor: 2007, 2008. </li></ul></td> </tr>\\n<tr> <td colspan=\"3\"><span class=\"black18\"><b>Teaching: Kodak Courses</b></span></td> </tr>\\n<tr> <td colspan=\"3\"> <ul type=\"disc\"> <li> Facial Processing, Invited Speaker for Kodak Science &amp; Technology Conference, 2010. </li></ul></td> </tr>\\n<tr> <td colspan=\"3\"> <ul type=\"disc\"> <li> Halftoning, Tutorial for Kodak Engineering Conference, 2008. </li></ul></td> </tr>\\n<tr> <td colspan=\"3\"> <ul type=\"disc\"> <li> Bayesian Nets &amp; Classifications, Tutorial for Kodak Engineering Conference, 2008. </li></ul></td> </tr>\\n<tr> <td colspan=\"3\"> <ul type=\"disc\"> <li> Digital Imaging Algorithms- Under the Hood- Parts I &amp; II, Tutorial for Kodak Engineering Conference, 2005. </li></ul></td> </tr>\\n<tr> <td colspan=\"3\"> <ul type=\"disc\"> <li> Introduction to Digital Imaging, 12 hour class for Kodak Camera Club, 2005. </li></ul></td> </tr>\\n<tr> <td colspan=\"3\"> <ul type=\"disc\"> <li> Digital Technology Module- Input, 8 hour internal class, 1x/year 1998-2006. </li></ul></td> </tr>\\n<tr> <td colspan=\"3\"> <ul type=\"disc\"> <li> Digital Imaging Technology, 16 hour internal class, 3-4x/year 1998-2004. </li></ul></td> </tr>\\n<tr> <td colspan=\"3\"> <ul type=\"disc\"> <li> Rendered Digital Input Path Algorithms- Under the Hood, Tutorial for Kodak Digital Imaging Conference, 2004. </li></ul></td> </tr>\\n<tr> <td colspan=\"3\"> <ul type=\"disc\"> <li> Digital Imaging Algorithms- Under the Hood- Parts I &amp; II, Tutorial for Kodak Digital Imaging Conference, 2003. </li></ul></td> </tr>\\n<tr> <td colspan=\"3\"> <ul type=\"disc\"> <li> Digital Image Processing Within the Image State Diagram, Tutorial for Kodak Digital Imaging Conference, 2002. </li></ul></td> </tr>\\n<tr> <td colspan=\"3\"> <ul type=\"disc\"> <li> How Can We Use Color To Our Advantage, Tutorial for Kodak Digital Imaging Conference, 2001. </li></ul></td> </tr>\\n<tr> <td colspan=\"3\"> <ul type=\"disc\"> <li> Digital Scanner Best Practices: Image Processing Path, Kodak video training series, 1997. </li></ul></td> </tr>\\n<tr> <td colspan=\"3\"><a href=\"#top_of_page\">Click Here to Go Back To Top</a></td> </tr>\\n<tr> <td colspan=\"3\">&amp;nbsp</td> </tr>\\n<tr> <td colspan=\"3\" id=\"Awards\"><span class=\"black18\"><b>Awards</b></span></td> </tr>\\n<tr> <td colspan=\"3\"> <ul type=\"disc\"> <li> 2016 KGCOE Exemplary Performance in Externally Disseminated Works. </li></ul></td> </tr>\\n<tr> <td colspan=\"3\"> <ul type=\"disc\"> <li> 2016 KGCOE Exemplary Performance in Engaging Students in Dissemination. </li></ul></td> </tr>\\n<tr> <td colspan=\"3\"> <ul type=\"disc\"> <li> 2016 Computer Engineering Favorite Faculty Mentor Award. </li></ul></td> </tr>\\n<tr> <td colspan=\"3\"> <ul type=\"disc\"> <li> 2015 KGCOE Exemplary Performance in Teaching. </li></ul></td> </tr>\\n<tr> <td colspan=\"3\"> <ul type=\"disc\"> <li> 2015 KGCOE Exemplary Performance in Engaging Students in Dissemination. </li></ul></td> </tr>\\n<tr> <td colspan=\"3\"> <ul type=\"disc\"> <li> 2015 Keynote speaker for RIT Graduate Research Symposium. </li></ul></td> </tr>\\n<tr> <td colspan=\"3\"> <ul type=\"disc\"> <li> 2014 Best RIT Doctoral Dissertation. </li></ul></td> </tr>\\n<tr> <td colspan=\"3\"> <ul type=\"disc\"> <li> 2013 International Conference on Image Processing- Top 10% Paper Award. </li></ul></td> </tr>\\n<tr> <td colspan=\"3\"> <ul type=\"disc\"> <li> 2013 Automatic Face and Gesture Recognition Doctoral Consortium recipient. </li></ul></td> </tr>\\n<tr> <td colspan=\"3\"> <ul type=\"disc\"> <li> 2012 Computer Vision and Pattern Recognition Doctoral Consortium recipient. </li></ul></td> </tr>\\n<tr> <td colspan=\"3\"> <ul type=\"disc\"> <li> Best presentation/paper, RIT Graduate Research Symposium, 2012. </li></ul></td> </tr>\\n<tr> <td colspan=\"3\"> <ul type=\"disc\"> <li> 2010 National Science Foundation Graduate Research Fellowship recipient. </li></ul></td> </tr>\\n<tr> <td colspan=\"3\"> <ul type=\"disc\"> <li> Best paper, RIT Graduate Research Symposium, 2009. </li></ul></td> </tr>\\n<tr> <td colspan=\"3\"> <ul type=\"disc\"> <li> RIT Outstanding Adult Student Award, 2009. </li></ul></td> </tr>\\n<tr> <td colspan=\"3\"> <ul type=\"disc\"> <li> Gold Program for Future Kodak Leaders, 2000-2004. </li></ul></td> </tr>\\n<tr> <td colspan=\"3\"> <ul type=\"disc\"> <li> Kodak instructor of the year nominee, 1998-2005. </li></ul></td> </tr>\\n<tr> <td colspan=\"3\"> <ul type=\"disc\"> <li> 2003 R&amp;D Team Leadership finalist. </li></ul></td> </tr>\\n<tr> <td colspan=\"3\"> <ul type=\"disc\"> <li> SOGP Masters Program, 2001-2002. </li></ul></td> </tr>\\n<tr> <td colspan=\"3\"> <ul type=\"disc\"> <li> The DIMA Innovative Digital Product of PIMA \\x9298 for the Advantix FD-300 Film Scanner. </li></ul></td> </tr>\\n<tr> <td colspan=\"3\"> <ul type=\"disc\"> <li> Image Science Career Development Program, 1994-1996. </li></ul></td> </tr>\\n<tr> <td colspan=\"3\"><a href=\"#top_of_page\">Click Here to Go Back To Top</a></td> </tr>\\n<tr> <td colspan=\"3\">&amp;nbsp</td> </tr>\\n</table>\\n<a href=\"#top_of_page\"><img alt=\"www.ptucha.com\" height=\"100\" src=\"images/QRcode_ptucha_dot_com_29x29_v7_qr_modified2.png\" width=\"100\"/></a>\\n</table></body>\\n</html>\\n"
      ]
     },
     "execution_count": 32,
     "metadata": {},
     "output_type": "execute_result"
    }
   ],
   "source": [
    "soup"
   ]
  },
  {
   "cell_type": "code",
   "execution_count": 33,
   "metadata": {},
   "outputs": [
    {
     "data": {
      "text/plain": [
       "[<ul type=\"disc\"> <li> F. Petroski Such*, S. Sah*, M. Dominguez, S. Pillai, Chao Zhang, Andrew Michael, N. Cahill, R. Ptucha \\x93Robust Spatial Filtering with Graph Convolutional Neural Networks,\\x94 special issue IEEE Journal of Selected Topics in Signal Processing, Volume 11, Issue 6, 2017.  </li></ul>,\n",
       " <ul type=\"disc\"> <li> S. Sah, A. Shringi, R. Ptucha, A. Burry, R. Loce, \\x93Video Redaction: A Survey and Comparison of Enabling Technologies\\x94, Journal of Electronic Imaging Special issue on Video Analytics for Public Safety, 2017.  </li></ul>,\n",
       " <ul type=\"disc\"> <li> S. Sah , T. Nguyen, M. Dominguez, F. Petroski Such, R. Ptucha, \\x93Understanding Temporal Structure for Real Time Video Captioning\\x94 , IEEE Transactions on Multimedia, Special Issue on Video Analytics: Challenges, Algorithms, and Applications, under review.  </li></ul>,\n",
       " <ul type=\"disc\"> <li> S. Chennupati, S. Prasad Nooka, S. Sah, R. Ptucha, \\x93Adaptive Hierarchical Decomposition of Large Deep Networks\\x94, IJPRAI - International Journal of Pattern Recognition and Artificial Intelligence, under review.  </li></ul>,\n",
       " <ul type=\"disc\"> <li> R.W. Ptucha, A. Savakis, \\x93LGE-KSVD:  Robust Sparse Representation Classification\\x94, IEEE Transactions on Image Processing, Volume 23, Issue 4, 2014.  </li></ul>,\n",
       " <ul type=\"disc\"> <li> R.W. Ptucha, A. Savakis, \\x93Manifold Based Sparse Representation for Facial Understanding in Natural Images\\x94, Image and Vision Computing, vol. 31, pp. 365-378, 2013.  </li></ul>,\n",
       " <ul type=\"disc\"> <li> R.W. Ptucha, A. Savakis, \\x93Facial Expression Recognition\\x94, IGI Global Encyclopedia of Information Science and Technology, 3rd Edition, 2013.  </li></ul>,\n",
       " <ul type=\"disc\"> <li> R.W. Ptucha, A. Savakis, \\x93Keypoint Matching and Image Registration Using Sparse Representations\\x94, IEEE Transactions on Image Processing, in preparation.  </li></ul>,\n",
       " <ul type=\"disc\"> <li> S. Sah, C. Zhang, D. Kumar, T. Nguyen, R. Ptucha, \\x93Vector Learning for Cross Domain Representations\\x94, IEEE Applied Imagery Pattern Recognition Workshop (AIPR) Conference, 2017.  </li></ul>,\n",
       " <ul type=\"disc\"> <li> R. Kangutkar, J. Lauzon, A. Synesael, N. Jenis, A. Bhatt, K. Simha, R. Ptucha, \\x93ROS Navigation Stack for Smart Indoor Agents\\x94, IEEE Applied Imagery Pattern Recognition Workshop (AIPR) Conference, 2017.  </li></ul>,\n",
       " <ul type=\"disc\"> <li> T. Thomas, M. Dominguez, R. Ptucha, \\x93Deep Independent Audio-Visual Affect Analysis\\x94, Global Conference on Signal and Information Processing, Montreal, CA, 2017.  </li></ul>,\n",
       " <ul type=\"disc\"> <li> C. Zhang, S. Sah, T. Nguyen, D. Peri, A. Loui, C. Salvaggio, R. Ptucha, \\x93Semantic Sentence Embeddings for Paraphrasing and Text Summarization\\x94, Global Conference on Signal and Information Processing, Montreal, CA, 2017.  </li></ul>,\n",
       " <ul type=\"disc\"> <li> S. Sah, T. Nguyen, M. Dominguez, F. Petroski Such, R. Ptucha, \\x93Temporally Steered Gaussian Attention for Video Understanding\\x94, CVPR Workshop Deep-Vision: Deep Learning in Computer Vision, Honolulu, Hawaii, 2017.  </li></ul>,\n",
       " <ul type=\"disc\"> <li> S. Sah, R. Longman, A. Shringi, R. Loce, M. Rabbani, R. Ptucha, \\x93Detection without Recognition for Redaction\\x94, CVPR Workshop The First International Workshop on The Bright and Dark Sides of Computer Vision: Challenges and Opportunities for Privacy and Security, Honolulu, Hawaii, 2017.  </li></ul>,\n",
       " <ul type=\"disc\"> <li> M. Dominguez, F. Petroski Such, S. Sah, R. Ptucha, \\x93Towards 3D Convolutional Neural Networks with Meshes\\x94, International Conference on Image Processing, Beijing, China, 2017.  </li></ul>,\n",
       " <ul type=\"disc\"> <li> C. Zhang, T. Nguyen, S. Sah, R. Ptucha, A. Loui, C. Salvaggio, \\x93Bath-Normalized Recurrent Highway Networks\\x94, International Conference on Image Processing, Beijing, China, 2017.  </li></ul>,\n",
       " <ul type=\"disc\"> <li> A. Calderwood, E. Pruett, R. Ptucha, C. Homan, C. Alm, \\x93Understanding the Semantics of Narratives of Interpersonal Violence through Reader Annotations and Physiological Reactions\\x94, Computational Semantics Beyond Events and Roles (SemBEaR), Valencia, Spain, 2017.  </li></ul>,\n",
       " <ul type=\"disc\"> <li> S. Sah, S. Kulhare, A. Gray, S. Venugopalan, E. Prud\\x92hommeaux, R. Ptucha, \\x93Semantic Text Summarization of Long Videos\\x94, WACV, Santa Rosa, CA, 2017.  </li></ul>,\n",
       " <ul type=\"disc\"> <li> S. Bag, V. Venkatachalapathy, R. Ptucha, \\x93Motion Estimation Using Visual Odometry and Deep Learning Localization,\\x94 Proceedings of Electronic Imaging: Image Processing Algorithms and Systems, San Francisco, CA, 2017.  </li></ul>,\n",
       " <ul type=\"disc\"> <li> M. Hssayeni, S. Saxena, A. Savakis, R. Ptucha, \\x93Distracted Driver Detection: Deep Learning vs Handcrafted Features,\\x94 Proceedings of Electronic Imaging: Image Processing Algorithms and Systems, San Francisco, CA, 2017.  </li></ul>,\n",
       " <ul type=\"disc\"> <li> S. Echefu, J. Lauzon, S. Bag, R. Kangutkar, A. Bhatt, R. Ptucha, \\x93Milpet \\x96 The Self-driving Wheelchair,\\x94 Proceedings of Electronic Imaging: Image Processing Algorithms and Systems, San Francisco, CA, 2017.  </li></ul>,\n",
       " <ul type=\"disc\"> <li> S. Nooka, S. Chennupati, N. Karthik, S. Sah, R. Ptucha, \\x93Adaptive Hierarchical Classification Networks,\\x94 Proceedings of International Conference on Pattern Recognition, Cancun, Mexico, 2016.  </li></ul>,\n",
       " <ul type=\"disc\"> <li> M. Dushkoff, R. McLaughlin, R. Ptucha, \\x93A Temporally Coherent Neural Algorithm for Artistic Style Transfer,\\x94 Proceedings of International Conference on Pattern Recognition, Cancun, Mexico, 2016.  </li></ul>,\n",
       " <ul type=\"disc\"> <li> S. Kulhare, S. Sah, S. Pillai, R. Ptucha, \\x93Key Frame Extraction for Salient Activity Recognition,\\x94 Proceedings of International Conference on Pattern Recognition, Cancun, Mexico, 2016.  </li></ul>,\n",
       " <ul type=\"disc\"> <li> R. Oruganti, S. Sah, Suhas Pillai, and R. Ptucha, \\x93Image Description through Fusion Based Recurrent Multi-Modal Learning\\x94, Proceedings of International Conference on Image Processing, Phoenix, AZ, 2016.  </li></ul>,\n",
       " <ul type=\"disc\"> <li> M. Oak, A. Behera, T. Thomas, C. Alm, C. Homan, E. Prud\\x92hommeaux, R. Ptucha, \\x93Generating Clinically Relevant Texts: A Case Study on Life-changing Events,\\x94 Proceedings of CLPysch Workshop, North American Chapter of the Association for Computational Linguistics- Human Language Technologies (NAACL-HLT), San Diego, CA, 2016.  </li></ul>,\n",
       " <ul type=\"disc\"> <li> D. Simon, S. Sridharan, S. Sah, R. Ptucha, C. Kanan, R. Bailey, \\x93Automatic Scanpath Generation With Deep Recurrent Neural Networks\\x94, SAP\\x9216 Proceedings of the ACM Symposium on Applied Perception, Anaheim, CA, 2016.  </li></ul>,\n",
       " <ul type=\"disc\"> <li> M. Dushkoff and R. Ptucha, \\x93Adaptive activation functions for deep networks\\x94, Proceedings of Electronic Imaging: Computational Imaging, San Francisco, CA, 2016.  </li></ul>,\n",
       " <ul type=\"disc\"> <li> V. Chennupati, S. Nooka, S. Sah, R. Ptucha, \\x93Hierarchical decomposition of large deep networks\\x94, Proceedings of Electronic Imaging: Computational Imaging, San Francisco, CA, 2016.  </li></ul>,\n",
       " <ul type=\"disc\"> <li> A. Rajanna, R. Ptucha, S. Sinha, N. Rao, \\x93Prostate cancer detection using photoacoustic imaging and deep learning\\x94, Proceedings of Electronic Imaging: Computational Imaging, San Francisco, CA, 2016.  </li></ul>,\n",
       " <ul type=\"disc\"> <li> N. Schrading, C. Alm, R. Ptucha, C. Homan, \\x93An Analysis of Domestic Abuse Discourse on Reddit\\x94, Proceedings of Empirical Methods in Natural Language Processing (EMNLP), Lisbon, Portugal, 2015.  </li></ul>,\n",
       " <ul type=\"disc\"> <li> A. Rajanna, K. Aryafar, A. Shokoufandeh, R. Ptucha, \\x93Deep Neural Networks: A Case Study for Music Genre Classification,\\x94 Proceedings of 14th IEEE International Conference on Machine Learning and Applications, Miami, FL, 2015. </li></ul>,\n",
       " <ul type=\"disc\"> <li> N. Briviano, M. Daigneau, J. Danko, C. Goss, A. Hintz, S. Kuhr, B. Tarloff, J. Kaemmerlen, R. Ptucha, \\x93Autonomous People Mover: Adding Sensors\\x94, NY Cyber Security &amp; Eng. Tech. Assoc., Rochester, NY, 2015. </li></ul>,\n",
       " <ul type=\"disc\"> <li> H. Kumar, R. Ptucha, \\x93Gesture Recognition Using Active Body Parts and Active Difference Signatures,\\x94 Proceedings of International Conference on Image Processing, Quebec City, Canada, 2015. </li></ul>,\n",
       " <ul type=\"disc\"> <li> N. Schrading, C. Alm, R. Ptucha, and C. Homan, \\x93#WhyIStayed, #WhyILeft: Microblogging to Make Sense of Domestic Abuse,\\x94 Proceedings of North American Chapter of the Association for Computational Linguistics- Human Language Technologies (NAACL-HLT), Denver, CO, 2015. </li></ul>,\n",
       " <ul type=\"disc\"> <li> K. Knowles, N. Bovee, P. Gelose, D. Le, K. Martin, M. Pressman, J. Zimmerman, R. Lux, R. Ptucha, \\x93Autonomous People Mover,\\x94 Proceedings of American Society for Engineering Education, Syracuse, NY, 2015. </li></ul>,\n",
       " <ul type=\"disc\"> <li> A. Wong, M. Yousefhussien, R.W. Ptucha, \\x93Localization Using Omnivision-based Manifold Particle Filters\\x94, Proceedings of Electronic Imaging: Computational Imaging, San Francisco, CA, 2015.  </li></ul>,\n",
       " <ul type=\"disc\"> <li> M. Yousefhussien, et al., \\x93Flatbed Scanner Simulation to Analyze the Effect of Detector\\x92s Size on Color Artifacts\\x94, Proceedings of Electronic Imaging: Computational Imaging, San Francisco, CA, 2015.  </li></ul>,\n",
       " <ul type=\"disc\"> <li> A. Savakis, R. Rudra, R.W. Ptucha, \\x93Gesture Control Using Active Difference Signatures and Sparse Learning\\x94, Proceedings of International Conference on Pattern Recognition, Stockholm, Sweden, 2014.  </li></ul>,\n",
       " <ul type=\"disc\"> <li> C. Merkel, D. Kudithipudi, R.W. Ptucha, \\x93Heterogeneous CMOS/Memristor Neural Networks for Real-time Target Classification\\x94, SPIE Machine Intelligence and Bio-inspired Computation, STA14-ST141-28, 2014.  </li></ul>,\n",
       " <ul type=\"disc\"> <li> R.W. Ptucha, D. Kloosterman, B. Mittelstaedt, A. Loui, \\x93Automatic Image Assessment from Facial Attributes\\x94, Proceedings of Electronic Imaging: Computational Imaging, San Francisco, CA, 2014.  </li></ul>,\n",
       " <ul type=\"disc\"> <li> P. Hays, R.W. Ptucha, R. Melton, \\x93Mobile Device to Cloud Co-processing of ASL Finger Spelling to Text Conversion\\x94, Proceedings of IEEE Western NY Image Processing Workshop, Rochester, NY, 2013.  </li></ul>,\n",
       " <ul type=\"disc\"> <li> R.W. Ptucha, S. Azary, A. Savakis, \\x93Keypoint Matching and Image Registration Using Sparse Representations\\x94, Proceedings of International Conference on Image Processing, Melbourne, Australia, 2013.  </li></ul>,\n",
       " <ul type=\"disc\"> <li> C. Bellmore, R.W. Ptucha, A. Savakis, \\x93Fusion of Depth and Color for an Improved Active Shape Model\\x94, Proceedings of International Conference on Image Processing, Melbourne, Australia, 2013.  </li></ul>,\n",
       " <ul type=\"disc\"> <li> R.W. Ptucha, A. Savakis, \\x93LGE-KSVD: Flexible Dictionary Learning for Optimized Sparse Representation Classification\\x94, Proceedings of AMFG Workshop, Computer Vision and Pattern Recognition, Portland, OR, 2013.  </li></ul>,\n",
       " <ul type=\"disc\"> <li> R.W. Ptucha, A. Savakis, \\x93Joint Optimization of Manifold Learning and Sparse Representations\\x94, Proceedings of Automatic Face and Gesture Recognition, Shanghai, China, 2013.  </li></ul>,\n",
       " <ul type=\"disc\"> <li> R.W. Ptucha, D. Rhoda, B. Mittelstaedt, \\x93Auto Zoom Crop from Face Detection and Facial Features\\x94, Proceedings of Electronic Imaging: Computational Imaging, San Francisco, CA, 2013.  </li></ul>,\n",
       " <ul type=\"disc\"> <li> R.W. Ptucha, A. Savakis, \\x93Fusion of Static and Temporal Predictors for Unconstrained Facial Expression Recognition\\x94, Proceedings of International Conference on Image Processing, Orlando, FL, 2012.  </li></ul>,\n",
       " <ul type=\"disc\"> <li> R.W. Ptucha, A. Savakis, \\x93Towards the Usage of Optical Flow Temporal Features for Facial Expression Classification\\x94, Proceedings of International Symposium on Visual Computing, Crete, Greece, 2012.  </li></ul>,\n",
       " <ul type=\"disc\"> <li> R.W. Ptucha, A. Savakis, \\x93How Connections Matter: Factors Affecting Student Performance in STEM Disciplines\\x94, Proceedings of IEEE Integrated STEM Education Conference, Princeton, NJ, 2012.  </li></ul>,\n",
       " <ul type=\"disc\"> <li> C. Bellmore, R.W. Ptucha, A. Savakis, \\x93Interactive Display Using Depth and RGB Sensors for Face and Gesture Control\\x94, IEEE Western NY Image Processing Workshop, Rochester, NY, 2011.  </li></ul>,\n",
       " <ul type=\"disc\"> <li> R.W. Ptucha, G. Tsagkatakis, A. Savakis, \\x93Manifold Based Sparse Representation for Robust Expression Recognition without Neutral Subtraction\\x94, Proceedings of BeFIT Workshop, International Conference on Computer Vision, Barcelona, Spain, 2011. </li></ul>,\n",
       " <ul type=\"disc\"> <li> R.W. Ptucha, G. Tsagkatakis, A. Savakis, \\x93Manifold Learning for Simultaneous Pose and Facial Expression Recognition\\x94, Proceedings of International Conference on Image Processing , Brussels, Belgium, 2011. </li></ul>,\n",
       " <ul type=\"disc\"> <li> R.W. Ptucha, A. Savakis, \\x93Facial Expression Recognition Using Facial Features and Manifold Learning\\x94, Proceedings of International Symposium on Visual Computing, Las Vegas, NV, 2010.  </li></ul>,\n",
       " <ul type=\"disc\"> <li> R.W. Ptucha, A. Savakis, \\x93Pose Estimation Using Facial Feature Points and Manifold Learning\\x94, Proceedings of International Conference on Image Processing, Hong Kong, 2010.  </li></ul>,\n",
       " <ul type=\"disc\"> <li> R.W. Ptucha, A. Savakis, \\x93Facial Pose Tracking for Interactive Display\\x94, IEEE Western NY Image Processing Workshop, Rochester, NY, 2009.  </li></ul>,\n",
       " <ul type=\"disc\"> <li> R.W. Ptucha, A. Savakis, \\x93Facial Pose Estimation Using a Symmetrical Feature Model\\x94, Proceedings of ICME- Workshop on Media Information Analysis for Personal and Social Applications,  New York, NY, 2009.  </li></ul>,\n",
       " <ul type=\"disc\"> <li> R.W. Ptucha, \\x93Correction of High Frequency Smear in Thermal Printers\\x94, Proceedings of IS&amp;T 22nd Annual Non-Impact Printing (NIP22) Conference, Denver, CO, 2006.  </li></ul>,\n",
       " <ul type=\"disc\"> <li> R.W. Ptucha, \\x93Image Quality Assessment of Digital Scanners and Electronic Still Cameras\\x94, Proceedings of IS&amp;T Image Processing, Image Quality, Image Capture Systems (PICS) Conference, Savannah GA, 1999.  </li></ul>,\n",
       " <ul type=\"disc\"> <li> C.M. Daniels, R.W. Ptucha, L. Schaefer, \\x93The Necessary Resolution to Zoom and Crop Hardcopy Images\\x94, Proceedings of IS&amp;T Image Processing, Image Quality, Image Capture Systems (PICS) Conference, Savannah GA, 1999.  </li></ul>,\n",
       " <ul type=\"disc\"> <li> J. Luazon, R. Kangutkar, N. Soures, A. Synesael, A. Bhatt, A. Bhat, S. Jain, K. Simha, R.W. Ptucha, 3rd place.  \"Milpet- Voice Activated Wheelchair\", Effective Access Technology Conference, Rochester, NY, 2017. </li></ul>,\n",
       " <ul type=\"disc\"> <li> R. Ptucha, Allison Gray, \\x93Fundamentals of Deep Learning\\x94, Tutorial at Electronic Imaging, San Francisco, CA, 2016-2017. </li></ul>,\n",
       " <ul type=\"disc\"> <li> A. Bhatt, M. Dushkoff, S. Echefu, M. Shoaib, K. Wieszchowski, R.W. Ptucha, \"Voice Activated Wheelchair\", Effective Access Technology Conference, Rochester, NY, 2015. </li></ul>,\n",
       " <ul type=\"disc\"> <li> R.W. Ptucha, \\x93Enabling Ubiquitous Computing,\\x94 keynote speaker at Rochester Institute of Technology\\x92s Graduate Research and Creativity Symposium, Rochester, NY, 2015. </li></ul>,\n",
       " <ul type=\"disc\"> <li> R.W. Ptucha, \\x93Deep Belief Networks,\\x94 IEEE Society for Imaging Science &amp; Technology, Rochester, NY, 2015. </li></ul>,\n",
       " <ul type=\"disc\"> <li> R.W. Ptucha, \\x93Machine Learning with Deep Belief Networks,\\x94 Invited tutorial: Western New York Image and Signal Processing Workshop, Rochester, NY, 2014. </li></ul>,\n",
       " <ul type=\"disc\"> <li> R. Rudra, H. Kumar, R.W. Ptucha, \\x93Sparse Based Gesture Recognition\\x94, 2014 ChaLearn Gesture Challenge, 2014.  </li></ul>,\n",
       " <ul type=\"disc\"> <li> R.W. Ptucha, \\x93Machine Learning for Intelligent Behavior\\x94, IEEE Rochester Section Joint Chapters Meeting, Rochester, NY, 2014.  </li></ul>,\n",
       " <ul type=\"disc\"> <li> C. Bellmore, R.W. Ptucha, A. Savakis, \\x93Interactive Storefront Display with Face and Gesture Control\\x94, ChaLearn Gesture Challenge entry at International Conference on Pattern Recognition, Tsukuba, Japan, 2012.  </li></ul>,\n",
       " <ul type=\"disc\"> <li> R.W. Ptucha, \\x93Joint Optimization of Manifold Learning and Sparse Representations for Face and Gesture Analysis\\x94, Artificial Intelligence Seminar, Cornell University, 2013.  </li></ul>,\n",
       " <ul type=\"disc\"> <li> S. Azary, R.W. Ptucha, A. Savakis, \\x93Pervasive Intelligence Aided by Depth Sensors\\x94, International Conference on Computational Photography, Cambridge, MA, 2013.  </li></ul>,\n",
       " <ul type=\"disc\"> <li> Deep Learning:  Inspired by the human brain, deep learning methods have revolutionized the computer vision, natural language processing, and pattern recognition communities.  The Machine Intelligence Laboratory, directed by Dr. Ptucha, is researching advanced deep learning algorithms: hierarchical architectures, adaptive activation functions, statistical convolutional networks, and temporal recurrence.  This algorithm research is yielding state-of-the-art results in still and video understanding, natural language processing, and graph theory. Applications of this research include medical imaging, image annotation, activity understanding, object recognition, voice recognition, advanced human-computer interaction, and autonomous driving.</li></ul>,\n",
       " <ul type=\"disc\"> <li> Voice Activated Wheelchair:  An effective access wheelchair is being designed to help elderly and disabled patients safely navigate through busy environments while smartly recognizing objects and surroundings. Motorized wheelchairs have improved the lives of countless individuals.  For those who have trouble with a joystick, wheelchairs have been retrofitted to move based upon eye blinks, breathing tubes, and head pose. This project is developing a natural wheelchair interface, offering the patient the ability to control their wheelchair using typical and intuitive human-to-human methods such as voice and facial expression.  The voice commands give visually impaired or wheelchair patients with restricted hand mobility, such as stroke, arthritis, limb injury, Parkinson\\x92s, cerebral palsy or multiple sclerosis, the freedom to move independently.  The advanced object and scene recognition give patients the ability and confidence to move safely and reliably through complex environments.  </li></ul>,\n",
       " <ul type=\"disc\"> <li> Autonomous People Mover: Self-driving cars will make our roadways safer, our environment cleaner, our roads less congested, and our lifestyles more efficient.  Imagine a people mover on the RIT campus that stands ready at all times to give people rides across campus.  A person needing a lift sends a text to the people mover service.  The people mover (golf cart) drives over to the location of the person, asks where they want to go, and then drives them to the destination of their choosing.  The key differentiator with this project is there is no human driver- the people mover is driving fully autonomously.   The hardware and software for high speed highway driving and low speed campus driving are very similar.  The algorithms, including localization, obstacle avoidance, and navigation, are almost identical.  The autonomous people mover project is a multi-year senior design project.  Phase I converted the golf cart into a remote control vehicle.  Phase II is robustifying the control systems and introducing advanced sensors.  Phase III is currently working towards autonomous driving in restricted settings.  Future phases will enable the vehicle to drive autonomously in real-world scenarios.  Key tasks involve LIDAR and vision integration, localization, path planning, path following, and object detection/recognition/tracking. </li></ul>,\n",
       " <ul type=\"disc\"> <li> \\x93Imaging Workflow Using Facial and Non-Facial Features\\x94, U.S. Patent 9,552,374, Jan 24, 2017. </li></ul>,\n",
       " <ul type=\"disc\"> <li> \\x93Interactive Digital Advertising System\\x94, U.S. Patent 9,349,131, May 24, 2016. </li></ul>,\n",
       " <ul type=\"disc\"> <li> \\x93Camera and Display System Interactivity\\x94, U.S. Patent 9,319,640, April 19, 2016. </li></ul>,\n",
       " <ul type=\"disc\"> <li> \\x93Method for Group Interactivity\\x94, U.S. Patent 9,253,447, Feb 2, 2016. </li></ul>,\n",
       " <ul type=\"disc\"> <li> \\x93Group Display System\\x94, U.S. Patent 9,179,102, Nov. 3, 2015. </li></ul>,\n",
       " <ul type=\"disc\"> <li> \\x93Image Recomposition from Face Detection and Facial Features\\x94, U.S. Patent 9,025,836, May 5, 2015. </li></ul>,\n",
       " <ul type=\"disc\"> <li> \\x93Image Recomposition from Face Detection and Facial Features\\x94, U.S. Patent 9,025,835, May 5, 2015. </li></ul>,\n",
       " <ul type=\"disc\"> <li> \\x93Image Recomposition from Face Detection and Facial Features\\x94, U.S. Patent 9,008,436, April 14, 2015. </li></ul>,\n",
       " <ul type=\"disc\"> <li> \\x93Image Recomposition from Face Detection and Facial Features\\x94, U.S. Patent 8,811,747, Jan. 20, 2015. </li></ul>,\n",
       " <ul type=\"disc\"> <li> \\x93Method for Producing Artistic Image Template Designs\\x94, U.S. Patent 8,854,395, Oct. 7, 2014. </li></ul>,\n",
       " <ul type=\"disc\"> <li> \\x93Method for Matching Artistic Attributes of a Template and Secondary Images to a Primary Image\\x94, U.S. Patent 8,849,853, Sept. 30, 2014. </li></ul>,\n",
       " <ul type=\"disc\"> <li> \\x93System for Matching Artistic Attributes of Secondary Image and Template to a Primary Image, U.S. Patent 8,849,043, Sept. 30, 2014. </li></ul>,\n",
       " <ul type=\"disc\"> <li> \\x93Image Recomposition from Face Detection and Facial Features\\x94, U.S. Patent 8,811,747, Aug. 19, 2014. </li></ul>,\n",
       " <ul type=\"disc\"> <li> \\x93Method for Controlling Interactive Display System\\x94, U.S. Patent 8,810,513, Aug. 19, 2014. </li></ul>,\n",
       " <ul type=\"disc\"> <li> \\x93Multi-user Interactive Display System\\x94, U.S. Patent 8,723,796, May. 13, 2014. </li></ul>,\n",
       " <ul type=\"disc\"> <li> \\x93System for Coordinating User Images in an Artistic Design\\x94, U.S. Patent 8,538,986, Sept. 17, 2013. </li></ul>,\n",
       " <ul type=\"disc\"> <li> \\x93System for Matching Artistic Attributes of Secondary Image and Template to a Primary Image\\x94, U.S. Patent 8,422,794, April 16, 2013. </li></ul>,\n",
       " <ul type=\"disc\"> <li> \\x93Display System for Personalized Consumer Goods\\x94, U.S. Patent 8,390,648, March 5, 2013. </li></ul>,\n",
       " <ul type=\"disc\"> <li> \\x93Context Coordination for an Artistic Digital Template for Image Display\\x94, U.S. Patent 8,345,057, Jan 1, 2013. </li></ul>,\n",
       " <ul type=\"disc\"> <li> \\x93Method of Generating Artistic Template Designs\\x94, U.S. Patent 8,332,427, Dec 11, 2012. </li></ul>,\n",
       " <ul type=\"disc\"> <li> \\x93Method of Making an Artistic Digital Template for Image Display\\x94, U.S. Patent 8,289,340, Oct 16, 2012. </li></ul>,\n",
       " <ul type=\"disc\"> <li> \\x93Processing Digital Templates for Image Display\\x94, U.S. Patent 8,274,523, Sept 25, 2012. </li></ul>,\n",
       " <ul type=\"disc\"> <li> \\x93Image Capture Method with Artistic Template Design\\x94, U.S. Patent 8,237,819, Aug 7, 2012. </li></ul>,\n",
       " <ul type=\"disc\"> <li> \\x93Artistic Digital Template for Image Display\\x94, U.S. Patent 8,212,834, July 3, 2012. </li></ul>,\n",
       " <ul type=\"disc\"> <li> \\x93Printer Having Differential Filtering Smear Correction\\x94, U.S. Patent 7,847,979, Dec 7, 2010. </li></ul>,\n",
       " <ul type=\"disc\"> <li> \\x93Selection of Alternative Image Processing Operations to Maintain High Image Quality\\x94, U.S. Patent 7,570,829 B2, Aug 4, 2009. </li></ul>,\n",
       " <ul type=\"disc\"> <li> \\x93Applying an Adjusted Image Enhancement Algorithm to a Digital Image\\x94, U.S. Patent  7,428,332, Sept 23, 2008. </li></ul>,\n",
       " <ul type=\"disc\"> <li> \\x93Sharpening a Digital Image in Accordance With Magnification Values\\x94, U.S. Patent  7,269,300, Sept 11, 2007. </li></ul>,\n",
       " <ul type=\"disc\"> <li> \\x93Method for Constructing Extended Color Gamut Digital Images From Limited Color Gamut Digital Images\\x94, U.S. Patent 7,308,135, Dec 11, 2007. </li></ul>,\n",
       " <ul type=\"disc\"> <li> \\x93Method of Color Transformation for Processing Digital Images\\x94, U.S. Patent 6,956,967, Oct 18, 2005. </li></ul>,\n",
       " <ul type=\"disc\"> <li> \\x93Method For Determining Necessary Resolution For Zoom And Crop Of Images\\x94, U.S. Patent 6,643,416, Nov. 4, 2003. </li></ul>,\n",
       " <ul type=\"disc\"> <li> 19 US Patents Pending. </li></ul>,\n",
       " <ul type=\"disc\"> <li> Deep Learning, CMPE-789, CE Dept, RIT, 2017. </li></ul>,\n",
       " <ul type=\"disc\"> <li> Machine Intelligence, CMPE-677, CE Dept, RIT, 2014-17. </li></ul>,\n",
       " <ul type=\"disc\"> <li> Interface &amp; Digital Electronics, CMPE-460, CE Dept, RIT, 2014-17. </li></ul>,\n",
       " <ul type=\"disc\"> <li> Introduction to Computer Engineering, CMPE-110, CE Dept, RIT, 2013. </li></ul>,\n",
       " <ul type=\"disc\"> <li> Robotics, 0306-675, 0306-775, CE Dept, RIT, Adjunct Professor: 2007-2013. </li></ul>,\n",
       " <ul type=\"disc\"> <li> CE Multi-Disciplinary Senior Design, 0306-656, CE Dept, RIT, Adjunct Professor: 2009. </li></ul>,\n",
       " <ul type=\"disc\"> <li> Engineering Fundamentals of Computer Systems, 0306-340, CE Dept, RIT, Adjunct Professor: 2007, 2008. </li></ul>,\n",
       " <ul type=\"disc\"> <li> Facial Processing, Invited Speaker for Kodak Science &amp; Technology Conference, 2010. </li></ul>,\n",
       " <ul type=\"disc\"> <li> Halftoning, Tutorial for Kodak Engineering Conference, 2008. </li></ul>,\n",
       " <ul type=\"disc\"> <li> Bayesian Nets &amp; Classifications, Tutorial for Kodak Engineering Conference, 2008. </li></ul>,\n",
       " <ul type=\"disc\"> <li> Digital Imaging Algorithms- Under the Hood- Parts I &amp; II, Tutorial for Kodak Engineering Conference, 2005. </li></ul>,\n",
       " <ul type=\"disc\"> <li> Introduction to Digital Imaging, 12 hour class for Kodak Camera Club, 2005. </li></ul>,\n",
       " <ul type=\"disc\"> <li> Digital Technology Module- Input, 8 hour internal class, 1x/year 1998-2006. </li></ul>,\n",
       " <ul type=\"disc\"> <li> Digital Imaging Technology, 16 hour internal class, 3-4x/year 1998-2004. </li></ul>,\n",
       " <ul type=\"disc\"> <li> Rendered Digital Input Path Algorithms- Under the Hood, Tutorial for Kodak Digital Imaging Conference, 2004. </li></ul>,\n",
       " <ul type=\"disc\"> <li> Digital Imaging Algorithms- Under the Hood- Parts I &amp; II, Tutorial for Kodak Digital Imaging Conference, 2003. </li></ul>,\n",
       " <ul type=\"disc\"> <li> Digital Image Processing Within the Image State Diagram, Tutorial for Kodak Digital Imaging Conference, 2002. </li></ul>,\n",
       " <ul type=\"disc\"> <li> How Can We Use Color To Our Advantage, Tutorial for Kodak Digital Imaging Conference, 2001. </li></ul>,\n",
       " <ul type=\"disc\"> <li> Digital Scanner Best Practices: Image Processing Path, Kodak video training series, 1997. </li></ul>,\n",
       " <ul type=\"disc\"> <li> 2016 KGCOE Exemplary Performance in Externally Disseminated Works. </li></ul>,\n",
       " <ul type=\"disc\"> <li> 2016 KGCOE Exemplary Performance in Engaging Students in Dissemination. </li></ul>,\n",
       " <ul type=\"disc\"> <li> 2016 Computer Engineering Favorite Faculty Mentor Award. </li></ul>,\n",
       " <ul type=\"disc\"> <li> 2015 KGCOE Exemplary Performance in Teaching. </li></ul>,\n",
       " <ul type=\"disc\"> <li> 2015 KGCOE Exemplary Performance in Engaging Students in Dissemination. </li></ul>,\n",
       " <ul type=\"disc\"> <li> 2015 Keynote speaker for RIT Graduate Research Symposium. </li></ul>,\n",
       " <ul type=\"disc\"> <li> 2014 Best RIT Doctoral Dissertation. </li></ul>,\n",
       " <ul type=\"disc\"> <li> 2013 International Conference on Image Processing- Top 10% Paper Award. </li></ul>,\n",
       " <ul type=\"disc\"> <li> 2013 Automatic Face and Gesture Recognition Doctoral Consortium recipient. </li></ul>,\n",
       " <ul type=\"disc\"> <li> 2012 Computer Vision and Pattern Recognition Doctoral Consortium recipient. </li></ul>,\n",
       " <ul type=\"disc\"> <li> Best presentation/paper, RIT Graduate Research Symposium, 2012. </li></ul>,\n",
       " <ul type=\"disc\"> <li> 2010 National Science Foundation Graduate Research Fellowship recipient. </li></ul>,\n",
       " <ul type=\"disc\"> <li> Best paper, RIT Graduate Research Symposium, 2009. </li></ul>,\n",
       " <ul type=\"disc\"> <li> RIT Outstanding Adult Student Award, 2009. </li></ul>,\n",
       " <ul type=\"disc\"> <li> Gold Program for Future Kodak Leaders, 2000-2004. </li></ul>,\n",
       " <ul type=\"disc\"> <li> Kodak instructor of the year nominee, 1998-2005. </li></ul>,\n",
       " <ul type=\"disc\"> <li> 2003 R&amp;D Team Leadership finalist. </li></ul>,\n",
       " <ul type=\"disc\"> <li> SOGP Masters Program, 2001-2002. </li></ul>,\n",
       " <ul type=\"disc\"> <li> The DIMA Innovative Digital Product of PIMA \\x9298 for the Advantix FD-300 Film Scanner. </li></ul>,\n",
       " <ul type=\"disc\"> <li> Image Science Career Development Program, 1994-1996. </li></ul>]"
      ]
     },
     "execution_count": 33,
     "metadata": {},
     "output_type": "execute_result"
    }
   ],
   "source": [
    "soup.find_all(type='disc')"
   ]
  },
  {
   "cell_type": "code",
   "execution_count": 34,
   "metadata": {},
   "outputs": [
    {
     "name": "stdout",
     "output_type": "stream",
     "text": [
      "[u' F. Petroski Such*, S. Sah*, M. Dominguez, S. Pillai, Chao Zhang, Andrew Michael, N. Cahill, R. Ptucha \\x93Robust Spatial Filtering with Graph Convolutional Neural Networks,\\x94 special issue IEEE Journal of Selected Topics in Signal Processing, Volume 11, Issue 6, 2017.  ', u' S. Sah, A. Shringi, R. Ptucha, A. Burry, R. Loce, \\x93Video Redaction: A Survey and Comparison of Enabling Technologies\\x94, Journal of Electronic Imaging Special issue on Video Analytics for Public Safety, 2017.  ', u' S. Sah , T. Nguyen, M. Dominguez, F. Petroski Such, R. Ptucha, \\x93Understanding Temporal Structure for Real Time Video Captioning\\x94 , IEEE Transactions on Multimedia, Special Issue on Video Analytics: Challenges, Algorithms, and Applications, under review.  ', u' S. Chennupati, S. Prasad Nooka, S. Sah, R. Ptucha, \\x93Adaptive Hierarchical Decomposition of Large Deep Networks\\x94, IJPRAI - International Journal of Pattern Recognition and Artificial Intelligence, under review.  ', u' R.W. Ptucha, A. Savakis, \\x93LGE-KSVD:  Robust Sparse Representation Classification\\x94, IEEE Transactions on Image Processing, Volume 23, Issue 4, 2014.  ']\n"
     ]
    }
   ],
   "source": [
    "# look up list comprehensions to understand this. Basically we are getting every item of type \"disc\" on the HTML page\n",
    "# then we get the \"li\" tag (list item) from each item of type disc, and putting its text in a list\n",
    "data = [listItem.li.text for listItem in soup.find_all(type='disc')]\n",
    "\n",
    "# print the first item in the lsit. Hey! That looks like good data to analyze.\n",
    "print(data[0:5])"
   ]
  },
  {
   "cell_type": "code",
   "execution_count": 35,
   "metadata": {},
   "outputs": [
    {
     "name": "stdout",
     "output_type": "stream",
     "text": [
      " R.W. Ptucha, A. Savakis, Facial Expression Recognition Using Facial Features and Manifold Learning, Proceedings of International Symposium on Visual Computing, Las Vegas, NV, 2010.  \n"
     ]
    }
   ],
   "source": [
    "# Some of it we don't want though\n",
    "print(data[53])"
   ]
  },
  {
   "cell_type": "code",
   "execution_count": 36,
   "metadata": {},
   "outputs": [
    {
     "name": "stdout",
     "output_type": "stream",
     "text": [
      "[u'R.W. Ptucha, A. Savakis, \\x93Manifold Based Sparse Representation for Facial Understanding in Natural Images\\x94, Image and Vision Computing, vol. 31, pp. 365-378, 2013.', u'R.W. Ptucha, A. Savakis, \\x93Facial Expression Recognition\\x94, IGI Global Encyclopedia of Information Science and Technology, 3rd Edition, 2013.']\n"
     ]
    }
   ],
   "source": [
    "# Lets grab only publications, patents, and presentations\n",
    "# Every publication has \"R.W. Ptucha\" in it\n",
    "# Every patent has \"U.S. Patent\" in it\n",
    "\n",
    "# make some regular expressions to match. These are super simple (just the text we want)\n",
    "# the 'r' in front of the string means raw string (I want this so the '.' in the string isn't a match-all character in the regex)\n",
    "pubRe = re.compile(r\"R.W. Ptucha\")\n",
    "patentRe = re.compile(r\"U.S. Patent\")\n",
    "\n",
    "# match those regexes, strip whitespace off the beginning/end of each match\n",
    "goodData = [d.strip() for d in data if pubRe.search(d) or patentRe.search(d)]\n",
    "\n",
    "# Wait. Where are the quotes in the paper title?\n",
    "print(goodData[1:3])"
   ]
  },
  {
   "cell_type": "code",
   "execution_count": 37,
   "metadata": {},
   "outputs": [
    {
     "name": "stdout",
     "output_type": "stream",
     "text": [
      "u'\\x93Method For Determining Necessary Resolution For Zoom And Crop Of Images\\x94, U.S. Patent 6,643,416, Nov. 4, 2003.'\n"
     ]
    }
   ],
   "source": [
    "# Hmmmmm. DARN INTERNET UNICODE!!\n",
    "print(repr(goodData[-1]))"
   ]
  },
  {
   "cell_type": "code",
   "execution_count": 38,
   "metadata": {},
   "outputs": [
    {
     "name": "stdout",
     "output_type": "stream",
     "text": [
      "u'\"Method For Determining Necessary Resolution For Zoom And Crop Of Images\", U.S. Patent 6,643,416, Nov. 4, 2003.'\n"
     ]
    }
   ],
   "source": [
    "# fix those unicode code points. \\x93 and \\x94 are quotes.\n",
    "# use regular expression to match those characters and replace (sub) them with quote character\n",
    "goodData = [re.sub(\"\\x93|\\x94\", '\"', d).strip() for d in data if pubRe.search(d) or patentRe.search(d)]\n",
    "print(repr(goodData[-1]))"
   ]
  },
  {
   "cell_type": "code",
   "execution_count": 39,
   "metadata": {},
   "outputs": [
    {
     "data": {
      "image/png": "[encoded data removed]",
      "text/plain": [
       "<matplotlib.figure.Figure at 0x7fda5f8>"
      ]
     },
     "metadata": {},
     "output_type": "display_data"
    }
   ],
   "source": [
    "# Let's do some analysis...finally...\n",
    "# Let's figure out what years Dr. Ptucha has been most prolific\n",
    "\n",
    "# matplotlib is a plotting library for python\n",
    "import matplotlib.pyplot as plt\n",
    "# make the plots inline with the notebook\n",
    "%matplotlib inline\n",
    "# numpy is a numerical package for working with fast, efficient, vectorized matrices like in MATLAB\n",
    "import numpy as np\n",
    "\n",
    "# look for numbers between 19xx and 20xx\n",
    "yearRe = re.compile(\"19\\d{2} | 20\\d{2}\")\n",
    "\n",
    "# make sure the matched object is not `None to call the group() function which returns the actual matched text\n",
    "years = np.array([int(yearRe.search(d).group(0)) for d in data if yearRe.search(d) is not None])\n",
    "numBins = np.max(years) - np.min(years) + 1\n",
    "plt.figure(figsize=(12, 6))\n",
    "plt.hist(years, numBins)\n",
    "plt.title(\"# of Dr. Ptucha's Publications, Patents, and Presentations per Year\")\n",
    "plt.annotate(\"Earned M.S.\", xy=(2002, 1), xytext=(2000, 4),\n",
    "            arrowprops=dict(facecolor='black', shrink=0.05),\n",
    "            )\n",
    "plt.annotate(\"Earned Ph.D.\\nAlso started working with me.\\nSo I'm obviously the reason\\nthis is his best year\", xy=(2013, 14), xytext=(2003, 14),\n",
    "            arrowprops=dict(facecolor='black', shrink=0.05),\n",
    "            )\n",
    "plt.annotate(\"Awarded NSF Graduate\\nResearch Fellowship\", xy=(2010, 5), xytext=(2001, 8),\n",
    "            arrowprops=dict(facecolor='black', shrink=0.05),\n",
    "            )\n",
    "plt.show()"
   ]
  },
  {
   "cell_type": "markdown",
   "metadata": {},
   "source": [
    "### Good. You're ready now with string functions and regular expressions. Let's start with NLTK"
   ]
  },
  {
   "cell_type": "code",
   "execution_count": 41,
   "metadata": {
    "collapsed": true
   },
   "outputs": [],
   "source": [
    "import nltk"
   ]
  },
  {
   "cell_type": "code",
   "execution_count": 42,
   "metadata": {},
   "outputs": [
    {
     "data": {
      "text/plain": [
       "['AbstractLazySequence',\n",
       " 'AffixTagger',\n",
       " 'AlignedSent',\n",
       " 'Alignment',\n",
       " 'AnnotationTask',\n",
       " 'ApplicationExpression',\n",
       " 'Assignment',\n",
       " 'BigramAssocMeasures',\n",
       " 'BigramCollocationFinder',\n",
       " 'BigramTagger',\n",
       " 'BinaryMaxentFeatureEncoding',\n",
       " 'BlanklineTokenizer',\n",
       " 'BllipParser',\n",
       " 'BottomUpChartParser',\n",
       " 'BottomUpLeftCornerChartParser',\n",
       " 'BottomUpProbabilisticChartParser',\n",
       " 'Boxer',\n",
       " 'BrillTagger',\n",
       " 'BrillTaggerTrainer',\n",
       " u'CFG',\n",
       " 'CRFTagger',\n",
       " 'CfgReadingCommand',\n",
       " 'ChartParser',\n",
       " 'ChunkParserI',\n",
       " 'ChunkScore',\n",
       " 'ClassifierBasedPOSTagger',\n",
       " 'ClassifierBasedTagger',\n",
       " 'ClassifierI',\n",
       " u'ConcordanceIndex',\n",
       " 'ConditionalExponentialClassifier',\n",
       " u'ConditionalFreqDist',\n",
       " u'ConditionalProbDist',\n",
       " u'ConditionalProbDistI',\n",
       " 'ConfusionMatrix',\n",
       " u'ContextIndex',\n",
       " 'ContextTagger',\n",
       " 'ContingencyMeasures',\n",
       " 'CoreNLPDependencyParser',\n",
       " 'CoreNLPParser',\n",
       " 'Counter',\n",
       " u'CrossValidationProbDist',\n",
       " 'DRS',\n",
       " 'DecisionTreeClassifier',\n",
       " 'DefaultTagger',\n",
       " 'DependencyEvaluator',\n",
       " u'DependencyGrammar',\n",
       " 'DependencyGraph',\n",
       " u'DependencyProduction',\n",
       " u'DictionaryConditionalProbDist',\n",
       " u'DictionaryProbDist',\n",
       " 'DiscourseTester',\n",
       " 'DrtExpression',\n",
       " 'DrtGlueReadingCommand',\n",
       " u'ELEProbDist',\n",
       " 'EarleyChartParser',\n",
       " 'Expression',\n",
       " 'FStructure',\n",
       " u'FeatDict',\n",
       " u'FeatList',\n",
       " u'FeatStruct',\n",
       " u'FeatStructReader',\n",
       " u'Feature',\n",
       " 'FeatureBottomUpChartParser',\n",
       " 'FeatureBottomUpLeftCornerChartParser',\n",
       " 'FeatureChartParser',\n",
       " 'FeatureEarleyChartParser',\n",
       " 'FeatureIncrementalBottomUpChartParser',\n",
       " 'FeatureIncrementalBottomUpLeftCornerChartParser',\n",
       " 'FeatureIncrementalChartParser',\n",
       " 'FeatureIncrementalTopDownChartParser',\n",
       " 'FeatureTopDownChartParser',\n",
       " u'FreqDist',\n",
       " 'HTTPPasswordMgrWithDefaultRealm',\n",
       " u'HeldoutProbDist',\n",
       " 'HiddenMarkovModelTagger',\n",
       " 'HiddenMarkovModelTrainer',\n",
       " 'HunposTagger',\n",
       " 'IBMModel',\n",
       " 'IBMModel1',\n",
       " 'IBMModel2',\n",
       " 'IBMModel3',\n",
       " 'IBMModel4',\n",
       " 'IBMModel5',\n",
       " 'ISRIStemmer',\n",
       " u'ImmutableMultiParentedTree',\n",
       " u'ImmutableParentedTree',\n",
       " u'ImmutableProbabilisticMixIn',\n",
       " u'ImmutableProbabilisticTree',\n",
       " u'ImmutableTree',\n",
       " 'IncrementalBottomUpChartParser',\n",
       " 'IncrementalBottomUpLeftCornerChartParser',\n",
       " 'IncrementalChartParser',\n",
       " 'IncrementalLeftCornerChartParser',\n",
       " 'IncrementalTopDownChartParser',\n",
       " 'Index',\n",
       " 'InsideChartParser',\n",
       " 'JSONTaggedDecoder',\n",
       " 'JSONTaggedEncoder',\n",
       " u'KneserNeyProbDist',\n",
       " 'LancasterStemmer',\n",
       " u'LaplaceProbDist',\n",
       " 'LazyConcatenation',\n",
       " 'LazyEnumerate',\n",
       " 'LazyIteratorList',\n",
       " 'LazyMap',\n",
       " 'LazySubsequence',\n",
       " 'LazyZip',\n",
       " 'LeftCornerChartParser',\n",
       " u'LidstoneProbDist',\n",
       " 'LineTokenizer',\n",
       " 'LogicalExpressionException',\n",
       " 'LongestChartParser',\n",
       " u'MLEProbDist',\n",
       " 'MWETokenizer',\n",
       " 'Mace',\n",
       " 'MaceCommand',\n",
       " 'MaltParser',\n",
       " 'MaxentClassifier',\n",
       " 'Model',\n",
       " 'MultiClassifierI',\n",
       " u'MultiParentedTree',\n",
       " u'MutableProbDist',\n",
       " 'NaiveBayesClassifier',\n",
       " 'NaiveBayesDependencyScorer',\n",
       " 'NgramAssocMeasures',\n",
       " 'NgramTagger',\n",
       " 'NonprojectiveDependencyParser',\n",
       " u'Nonterminal',\n",
       " 'OrderedDict',\n",
       " u'PCFG',\n",
       " 'Paice',\n",
       " 'ParallelProverBuilder',\n",
       " 'ParallelProverBuilderCommand',\n",
       " u'ParentedTree',\n",
       " 'ParserI',\n",
       " 'PerceptronTagger',\n",
       " 'PhraseTable',\n",
       " 'PorterStemmer',\n",
       " 'PositiveNaiveBayesClassifier',\n",
       " u'ProbDistI',\n",
       " u'ProbabilisticDependencyGrammar',\n",
       " u'ProbabilisticMixIn',\n",
       " 'ProbabilisticNonprojectiveParser',\n",
       " u'ProbabilisticProduction',\n",
       " 'ProbabilisticProjectiveDependencyParser',\n",
       " u'ProbabilisticTree',\n",
       " u'Production',\n",
       " 'ProjectiveDependencyParser',\n",
       " 'Prover9',\n",
       " 'Prover9Command',\n",
       " 'ProxyBasicAuthHandler',\n",
       " 'ProxyDigestAuthHandler',\n",
       " 'ProxyHandler',\n",
       " 'PunktSentenceTokenizer',\n",
       " 'QuadgramCollocationFinder',\n",
       " 'RSLPStemmer',\n",
       " 'RTEFeatureExtractor',\n",
       " 'RUS_PICKLE',\n",
       " 'RandomChartParser',\n",
       " u'RangeFeature',\n",
       " 'ReadingCommand',\n",
       " 'RecursiveDescentParser',\n",
       " 'RegexpChunkParser',\n",
       " 'RegexpParser',\n",
       " 'RegexpStemmer',\n",
       " 'RegexpTagger',\n",
       " 'RegexpTokenizer',\n",
       " 'ReppTokenizer',\n",
       " 'ResolutionProver',\n",
       " 'ResolutionProverCommand',\n",
       " 'SExprTokenizer',\n",
       " u'SLASH',\n",
       " 'Senna',\n",
       " 'SennaChunkTagger',\n",
       " 'SennaNERTagger',\n",
       " 'SennaTagger',\n",
       " 'SequentialBackoffTagger',\n",
       " 'ShiftReduceParser',\n",
       " u'SimpleGoodTuringProbDist',\n",
       " 'SklearnClassifier',\n",
       " u'SlashFeature',\n",
       " 'SnowballStemmer',\n",
       " 'SpaceTokenizer',\n",
       " 'StackDecoder',\n",
       " 'StanfordNERTagger',\n",
       " 'StanfordPOSTagger',\n",
       " 'StanfordSegmenter',\n",
       " 'StanfordTagger',\n",
       " 'StanfordTokenizer',\n",
       " 'StemmerI',\n",
       " 'SteppingChartParser',\n",
       " 'SteppingRecursiveDescentParser',\n",
       " 'SteppingShiftReduceParser',\n",
       " u'TYPE',\n",
       " 'TabTokenizer',\n",
       " 'TableauProver',\n",
       " 'TableauProverCommand',\n",
       " 'TaggerI',\n",
       " 'TestGrammar',\n",
       " u'Text',\n",
       " 'TextCat',\n",
       " u'TextCollection',\n",
       " 'TextTilingTokenizer',\n",
       " 'TnT',\n",
       " u'TokenSearcher',\n",
       " 'ToktokTokenizer',\n",
       " 'TopDownChartParser',\n",
       " 'TransitionParser',\n",
       " u'Tree',\n",
       " 'TreebankWordTokenizer',\n",
       " 'Trie',\n",
       " 'TrigramAssocMeasures',\n",
       " 'TrigramCollocationFinder',\n",
       " 'TrigramTagger',\n",
       " 'TweetTokenizer',\n",
       " 'TypedMaxentFeatureEncoding',\n",
       " 'Undefined',\n",
       " u'UniformProbDist',\n",
       " 'UnigramTagger',\n",
       " 'UnsortedChartParser',\n",
       " 'Valuation',\n",
       " 'Variable',\n",
       " 'ViterbiParser',\n",
       " 'WekaClassifier',\n",
       " 'WhitespaceTokenizer',\n",
       " u'WittenBellProbDist',\n",
       " 'WordNetLemmatizer',\n",
       " 'WordPunctTokenizer',\n",
       " '__author__',\n",
       " '__author_email__',\n",
       " '__builtins__',\n",
       " '__classifiers__',\n",
       " '__copyright__',\n",
       " '__doc__',\n",
       " '__file__',\n",
       " '__keywords__',\n",
       " '__license__',\n",
       " '__longdescr__',\n",
       " '__maintainer__',\n",
       " '__maintainer_email__',\n",
       " '__name__',\n",
       " '__package__',\n",
       " '__path__',\n",
       " '__url__',\n",
       " '__version__',\n",
       " 'absolute_import',\n",
       " 'accuracy',\n",
       " u'add_logs',\n",
       " 'agreement',\n",
       " 'align',\n",
       " 'alignment_error_rate',\n",
       " 'aline',\n",
       " 'api',\n",
       " 'app',\n",
       " 'apply_features',\n",
       " 'approxrand',\n",
       " 'arity',\n",
       " 'association',\n",
       " 'bigrams',\n",
       " 'binary_distance',\n",
       " 'binary_search_file',\n",
       " 'binding_ops',\n",
       " 'bisect',\n",
       " 'blankline_tokenize',\n",
       " 'bleu',\n",
       " 'bleu_score',\n",
       " 'bllip',\n",
       " 'boolean_ops',\n",
       " 'boxer',\n",
       " u'bracket_parse',\n",
       " 'breadth_first',\n",
       " 'brill',\n",
       " 'brill_trainer',\n",
       " 'build_opener',\n",
       " 'call_megam',\n",
       " 'casual',\n",
       " 'casual_tokenize',\n",
       " 'ccg',\n",
       " 'chain',\n",
       " 'chart',\n",
       " 'chat',\n",
       " 'choose',\n",
       " 'chunk',\n",
       " 'class_types',\n",
       " 'classify',\n",
       " 'clause',\n",
       " 'clean_html',\n",
       " 'clean_url',\n",
       " 'cluster',\n",
       " 'collections',\n",
       " 'collocations',\n",
       " 'combinations',\n",
       " 'compat',\n",
       " 'config_java',\n",
       " 'config_megam',\n",
       " 'config_weka',\n",
       " u'conflicts',\n",
       " 'confusionmatrix',\n",
       " 'conllstr2tree',\n",
       " 'conlltags2tree',\n",
       " 'corenlp',\n",
       " 'corpus',\n",
       " 'crf',\n",
       " 'custom_distance',\n",
       " 'data',\n",
       " 'decisiontree',\n",
       " 'decorator',\n",
       " 'decorators',\n",
       " 'defaultdict',\n",
       " 'demo',\n",
       " 'dependencygraph',\n",
       " 'deque',\n",
       " 'discourse',\n",
       " 'distance',\n",
       " 'download',\n",
       " 'download_gui',\n",
       " 'download_shell',\n",
       " 'downloader',\n",
       " 'draw',\n",
       " 'drt',\n",
       " 'earleychart',\n",
       " 'edit_distance',\n",
       " 'elementtree_indent',\n",
       " u'entropy',\n",
       " 'equality_preds',\n",
       " 'evaluate',\n",
       " 'evaluate_sents',\n",
       " 'everygrams',\n",
       " 'extract_rels',\n",
       " 'extract_test_sentences',\n",
       " 'f_measure',\n",
       " 'featstruct',\n",
       " 'featurechart',\n",
       " 'filestring',\n",
       " 'find',\n",
       " 'flatten',\n",
       " 'fractional_presence',\n",
       " 'getproxies',\n",
       " 'ghd',\n",
       " 'glue',\n",
       " 'grammar',\n",
       " 'guess_encoding',\n",
       " 'help',\n",
       " 'hmm',\n",
       " 'hunpos',\n",
       " 'ibm1',\n",
       " 'ibm2',\n",
       " 'ibm3',\n",
       " 'ibm4',\n",
       " 'ibm5',\n",
       " 'ibm_model',\n",
       " 'ieerstr2tree',\n",
       " 'improved_close_quote_regex',\n",
       " 'improved_open_quote_regex',\n",
       " 'improved_punct_regex',\n",
       " 'in_idle',\n",
       " u'induce_pcfg',\n",
       " 'inference',\n",
       " 'infile',\n",
       " 'inspect',\n",
       " 'install_opener',\n",
       " 'internals',\n",
       " 'interpret_sents',\n",
       " 'interval_distance',\n",
       " 'invert_dict',\n",
       " 'invert_graph',\n",
       " 'is_rel',\n",
       " 'islice',\n",
       " 'isri',\n",
       " 'jaccard_distance',\n",
       " 'json_tags',\n",
       " 'jsontags',\n",
       " 'lancaster',\n",
       " 'lazyimport',\n",
       " 'lfg',\n",
       " 'line_tokenize',\n",
       " 'linearlogic',\n",
       " 'load',\n",
       " 'load_parser',\n",
       " 'locale',\n",
       " u'log_likelihood',\n",
       " 'logic',\n",
       " 'mace',\n",
       " 'malt',\n",
       " 'map_tag',\n",
       " 'mapping',\n",
       " 'masi_distance',\n",
       " 'maxent',\n",
       " 'megam',\n",
       " 'memoize',\n",
       " 'metrics',\n",
       " 'misc',\n",
       " 'mwe',\n",
       " 'naivebayes',\n",
       " 'ne_chunk',\n",
       " 'ne_chunk_sents',\n",
       " 'ngrams',\n",
       " 'nonprojectivedependencyparser',\n",
       " u'nonterminals',\n",
       " 'numpy',\n",
       " 'os',\n",
       " 'pad_sequence',\n",
       " 'paice',\n",
       " 'parse',\n",
       " 'parse_sents',\n",
       " 'pchart',\n",
       " 'perceptron',\n",
       " 'pk',\n",
       " 'porter',\n",
       " 'pos_tag',\n",
       " 'pos_tag_sents',\n",
       " 'positivenaivebayes',\n",
       " 'pprint',\n",
       " 'pr',\n",
       " 'precision',\n",
       " 'presence',\n",
       " 'print_function',\n",
       " 'print_string',\n",
       " 'probability',\n",
       " 'projectivedependencyparser',\n",
       " 'prover9',\n",
       " 'punkt',\n",
       " 'py25',\n",
       " 'py26',\n",
       " 'py27',\n",
       " 'pydoc',\n",
       " 'python_2_unicode_compatible',\n",
       " 'raise_unorderable_types',\n",
       " 'ranks_from_scores',\n",
       " 'ranks_from_sequence',\n",
       " 're',\n",
       " 're_show',\n",
       " u'read_grammar',\n",
       " 'read_logic',\n",
       " 'read_valuation',\n",
       " 'recall',\n",
       " 'recursivedescent',\n",
       " 'regexp',\n",
       " 'regexp_span_tokenize',\n",
       " 'regexp_tokenize',\n",
       " 'register_tag',\n",
       " 'relextract',\n",
       " 'repp',\n",
       " 'resolution',\n",
       " 'ribes',\n",
       " 'ribes_score',\n",
       " 'root_semrep',\n",
       " 'rslp',\n",
       " 'rte_classifier',\n",
       " 'rte_classify',\n",
       " 'rte_features',\n",
       " 'rtuple',\n",
       " 'scikitlearn',\n",
       " 'scores',\n",
       " 'segmentation',\n",
       " 'sem',\n",
       " 'senna',\n",
       " 'sent_tokenize',\n",
       " 'sequential',\n",
       " 'set2rel',\n",
       " 'set_proxy',\n",
       " 'sexpr',\n",
       " 'sexpr_tokenize',\n",
       " 'shiftreduce',\n",
       " 'simple',\n",
       " u'sinica_parse',\n",
       " 'skipgrams',\n",
       " 'skolemize',\n",
       " 'slice_bounds',\n",
       " 'snowball',\n",
       " 'spearman',\n",
       " 'spearman_correlation',\n",
       " 'stack_decoder',\n",
       " 'stanford',\n",
       " 'stanford_segmenter',\n",
       " 'stem',\n",
       " 'str2tuple',\n",
       " 'string_span_tokenize',\n",
       " 'string_types',\n",
       " 'subprocess',\n",
       " u'subsumes',\n",
       " u'sum_logs',\n",
       " 'sys',\n",
       " 'tableau',\n",
       " 'tadm',\n",
       " 'tag',\n",
       " 'tagset_mapping',\n",
       " 'tagstr2tree',\n",
       " 'tbl',\n",
       " 'text',\n",
       " 'text_type',\n",
       " 'textcat',\n",
       " 'texttiling',\n",
       " 'textwrap',\n",
       " 'tkinter',\n",
       " 'tnt',\n",
       " 'tokenize',\n",
       " 'tokenwrap',\n",
       " 'toktok',\n",
       " 'toolbox',\n",
       " 'total_ordering',\n",
       " 'transitionparser',\n",
       " 'transitive_closure',\n",
       " 'translate',\n",
       " 'tree',\n",
       " 'tree2conllstr',\n",
       " 'tree2conlltags',\n",
       " 'treebank',\n",
       " 'treetransforms',\n",
       " 'trigrams',\n",
       " 'tuple2str',\n",
       " 'types',\n",
       " u'unify',\n",
       " 'unique_list',\n",
       " 'untag',\n",
       " 'usage',\n",
       " 'util',\n",
       " 'version_file',\n",
       " 'version_info',\n",
       " 'viterbi',\n",
       " 'weka',\n",
       " 'windowdiff',\n",
       " 'word_tokenize',\n",
       " 'wordnet',\n",
       " 'wordpunct_tokenize',\n",
       " 'wsd']"
      ]
     },
     "execution_count": 42,
     "metadata": {},
     "output_type": "execute_result"
    }
   ],
   "source": [
    "dir(nltk)"
   ]
  },
  {
   "cell_type": "code",
   "execution_count": 44,
   "metadata": {},
   "outputs": [
    {
     "name": "stdout",
     "output_type": "stream",
     "text": [
      "showing info https://raw.githubusercontent.com/nltk/nltk_data/gh-pages/index.xml\n"
     ]
    },
    {
     "data": {
      "text/plain": [
       "True"
      ]
     },
     "execution_count": 44,
     "metadata": {},
     "output_type": "execute_result"
    }
   ],
   "source": [
    " nltk.download()"
   ]
  },
  {
   "cell_type": "code",
   "execution_count": 45,
   "metadata": {},
   "outputs": [
    {
     "name": "stdout",
     "output_type": "stream",
     "text": [
      "[u'lge-ksvd', u'robust', u'sparse', u'representation', u'classification']\n"
     ]
    }
   ],
   "source": [
    "# Lets take a look at the unigrams in the titles of his papers/patents/presentations\n",
    "# regex matches anything inbetween quotation marks\n",
    "titles = [re.search('\".*\"', d).group(0) for d in goodData if re.search('\".*\"', d) is not None]\n",
    "\n",
    "# We don't want these symbols\n",
    "symbols = {\"``\", \"''\", \":\"}\n",
    "\n",
    "# tokenize each title, lowercase the tokens to normalize everything, place them all in a list\n",
    "tokens = [token.lower() for title in titles for token in nltk.word_tokenize(title) if token not in symbols]\n",
    "print(tokens[:5])"
   ]
  },
  {
   "cell_type": "code",
   "execution_count": 46,
   "metadata": {},
   "outputs": [
    {
     "data": {
      "text/plain": [
       "[u'lge-ksvd',\n",
       " u'robust',\n",
       " u'sparse',\n",
       " u'representation',\n",
       " u'classification',\n",
       " u'manifold',\n",
       " u'based',\n",
       " u'sparse',\n",
       " u'representation',\n",
       " u'for',\n",
       " u'facial',\n",
       " u'understanding',\n",
       " u'in',\n",
       " u'natural',\n",
       " u'images',\n",
       " u'facial',\n",
       " u'expression',\n",
       " u'recognition',\n",
       " u'keypoint',\n",
       " u'matching',\n",
       " u'and',\n",
       " u'image',\n",
       " u'registration',\n",
       " u'using',\n",
       " u'sparse',\n",
       " u'representations',\n",
       " u'localization',\n",
       " u'using',\n",
       " u'omnivision-based',\n",
       " u'manifold',\n",
       " u'particle',\n",
       " u'filters',\n",
       " u'gesture',\n",
       " u'control',\n",
       " u'using',\n",
       " u'active',\n",
       " u'difference',\n",
       " u'signatures',\n",
       " u'and',\n",
       " u'sparse',\n",
       " u'learning',\n",
       " u'heterogeneous',\n",
       " u'cmos/memristor',\n",
       " u'neural',\n",
       " u'networks',\n",
       " u'for',\n",
       " u'real-time',\n",
       " u'target',\n",
       " u'classification',\n",
       " u'automatic',\n",
       " u'image',\n",
       " u'assessment',\n",
       " u'from',\n",
       " u'facial',\n",
       " u'attributes',\n",
       " u'mobile',\n",
       " u'device',\n",
       " u'to',\n",
       " u'cloud',\n",
       " u'co-processing',\n",
       " u'of',\n",
       " u'asl',\n",
       " u'finger',\n",
       " u'spelling',\n",
       " u'to',\n",
       " u'text',\n",
       " u'conversion',\n",
       " u'keypoint',\n",
       " u'matching',\n",
       " u'and',\n",
       " u'image',\n",
       " u'registration',\n",
       " u'using',\n",
       " u'sparse',\n",
       " u'representations',\n",
       " u'fusion',\n",
       " u'of',\n",
       " u'depth',\n",
       " u'and',\n",
       " u'color',\n",
       " u'for',\n",
       " u'an',\n",
       " u'improved',\n",
       " u'active',\n",
       " u'shape',\n",
       " u'model',\n",
       " u'lge-ksvd',\n",
       " u'flexible',\n",
       " u'dictionary',\n",
       " u'learning',\n",
       " u'for',\n",
       " u'optimized',\n",
       " u'sparse',\n",
       " u'representation',\n",
       " u'classification',\n",
       " u'joint',\n",
       " u'optimization',\n",
       " u'of',\n",
       " u'manifold',\n",
       " u'learning',\n",
       " u'and',\n",
       " u'sparse',\n",
       " u'representations',\n",
       " u'auto',\n",
       " u'zoom',\n",
       " u'crop',\n",
       " u'from',\n",
       " u'face',\n",
       " u'detection',\n",
       " u'and',\n",
       " u'facial',\n",
       " u'features',\n",
       " u'fusion',\n",
       " u'of',\n",
       " u'static',\n",
       " u'and',\n",
       " u'temporal',\n",
       " u'predictors',\n",
       " u'for',\n",
       " u'unconstrained',\n",
       " u'facial',\n",
       " u'expression',\n",
       " u'recognition',\n",
       " u'towards',\n",
       " u'the',\n",
       " u'usage',\n",
       " u'of',\n",
       " u'optical',\n",
       " u'flow',\n",
       " u'temporal',\n",
       " u'features',\n",
       " u'for',\n",
       " u'facial',\n",
       " u'expression',\n",
       " u'classification',\n",
       " u'how',\n",
       " u'connections',\n",
       " u'matter',\n",
       " u'factors',\n",
       " u'affecting',\n",
       " u'student',\n",
       " u'performance',\n",
       " u'in',\n",
       " u'stem',\n",
       " u'disciplines',\n",
       " u'interactive',\n",
       " u'display',\n",
       " u'using',\n",
       " u'depth',\n",
       " u'and',\n",
       " u'rgb',\n",
       " u'sensors',\n",
       " u'for',\n",
       " u'face',\n",
       " u'and',\n",
       " u'gesture',\n",
       " u'control',\n",
       " u'manifold',\n",
       " u'based',\n",
       " u'sparse',\n",
       " u'representation',\n",
       " u'for',\n",
       " u'robust',\n",
       " u'expression',\n",
       " u'recognition',\n",
       " u'without',\n",
       " u'neutral',\n",
       " u'subtraction',\n",
       " u'manifold',\n",
       " u'learning',\n",
       " u'for',\n",
       " u'simultaneous',\n",
       " u'pose',\n",
       " u'and',\n",
       " u'facial',\n",
       " u'expression',\n",
       " u'recognition',\n",
       " u'facial',\n",
       " u'expression',\n",
       " u'recognition',\n",
       " u'using',\n",
       " u'facial',\n",
       " u'features',\n",
       " u'and',\n",
       " u'manifold',\n",
       " u'learning',\n",
       " u'pose',\n",
       " u'estimation',\n",
       " u'using',\n",
       " u'facial',\n",
       " u'feature',\n",
       " u'points',\n",
       " u'and',\n",
       " u'manifold',\n",
       " u'learning',\n",
       " u'facial',\n",
       " u'pose',\n",
       " u'tracking',\n",
       " u'for',\n",
       " u'interactive',\n",
       " u'display',\n",
       " u'facial',\n",
       " u'pose',\n",
       " u'estimation',\n",
       " u'using',\n",
       " u'a',\n",
       " u'symmetrical',\n",
       " u'feature',\n",
       " u'model',\n",
       " u'correction',\n",
       " u'of',\n",
       " u'high',\n",
       " u'frequency',\n",
       " u'smear',\n",
       " u'in',\n",
       " u'thermal',\n",
       " u'printers',\n",
       " u'image',\n",
       " u'quality',\n",
       " u'assessment',\n",
       " u'of',\n",
       " u'digital',\n",
       " u'scanners',\n",
       " u'and',\n",
       " u'electronic',\n",
       " u'still',\n",
       " u'cameras',\n",
       " u'the',\n",
       " u'necessary',\n",
       " u'resolution',\n",
       " u'to',\n",
       " u'zoom',\n",
       " u'and',\n",
       " u'crop',\n",
       " u'hardcopy',\n",
       " u'images',\n",
       " u'milpet-',\n",
       " u'voice',\n",
       " u'activated',\n",
       " u'wheelchair',\n",
       " u'voice',\n",
       " u'activated',\n",
       " u'wheelchair',\n",
       " u'enabling',\n",
       " u'ubiquitous',\n",
       " u'computing',\n",
       " u',',\n",
       " u'deep',\n",
       " u'belief',\n",
       " u'networks',\n",
       " u',',\n",
       " u'machine',\n",
       " u'learning',\n",
       " u'with',\n",
       " u'deep',\n",
       " u'belief',\n",
       " u'networks',\n",
       " u',',\n",
       " u'sparse',\n",
       " u'based',\n",
       " u'gesture',\n",
       " u'recognition',\n",
       " u'machine',\n",
       " u'learning',\n",
       " u'for',\n",
       " u'intelligent',\n",
       " u'behavior',\n",
       " u'interactive',\n",
       " u'storefront',\n",
       " u'display',\n",
       " u'with',\n",
       " u'face',\n",
       " u'and',\n",
       " u'gesture',\n",
       " u'control',\n",
       " u'joint',\n",
       " u'optimization',\n",
       " u'of',\n",
       " u'manifold',\n",
       " u'learning',\n",
       " u'and',\n",
       " u'sparse',\n",
       " u'representations',\n",
       " u'for',\n",
       " u'face',\n",
       " u'and',\n",
       " u'gesture',\n",
       " u'analysis',\n",
       " u'pervasive',\n",
       " u'intelligence',\n",
       " u'aided',\n",
       " u'by',\n",
       " u'depth',\n",
       " u'sensors',\n",
       " u'imaging',\n",
       " u'workflow',\n",
       " u'using',\n",
       " u'facial',\n",
       " u'and',\n",
       " u'non-facial',\n",
       " u'features',\n",
       " u'interactive',\n",
       " u'digital',\n",
       " u'advertising',\n",
       " u'system',\n",
       " u'camera',\n",
       " u'and',\n",
       " u'display',\n",
       " u'system',\n",
       " u'interactivity',\n",
       " u'method',\n",
       " u'for',\n",
       " u'group',\n",
       " u'interactivity',\n",
       " u'group',\n",
       " u'display',\n",
       " u'system',\n",
       " u'image',\n",
       " u'recomposition',\n",
       " u'from',\n",
       " u'face',\n",
       " u'detection',\n",
       " u'and',\n",
       " u'facial',\n",
       " u'features',\n",
       " u'image',\n",
       " u'recomposition',\n",
       " u'from',\n",
       " u'face',\n",
       " u'detection',\n",
       " u'and',\n",
       " u'facial',\n",
       " u'features',\n",
       " u'image',\n",
       " u'recomposition',\n",
       " u'from',\n",
       " u'face',\n",
       " u'detection',\n",
       " u'and',\n",
       " u'facial',\n",
       " u'features',\n",
       " u'image',\n",
       " u'recomposition',\n",
       " u'from',\n",
       " u'face',\n",
       " u'detection',\n",
       " u'and',\n",
       " u'facial',\n",
       " u'features',\n",
       " u'method',\n",
       " u'for',\n",
       " u'producing',\n",
       " u'artistic',\n",
       " u'image',\n",
       " u'template',\n",
       " u'designs',\n",
       " u'method',\n",
       " u'for',\n",
       " u'matching',\n",
       " u'artistic',\n",
       " u'attributes',\n",
       " u'of',\n",
       " u'a',\n",
       " u'template',\n",
       " u'and',\n",
       " u'secondary',\n",
       " u'images',\n",
       " u'to',\n",
       " u'a',\n",
       " u'primary',\n",
       " u'image',\n",
       " u'image',\n",
       " u'recomposition',\n",
       " u'from',\n",
       " u'face',\n",
       " u'detection',\n",
       " u'and',\n",
       " u'facial',\n",
       " u'features',\n",
       " u'method',\n",
       " u'for',\n",
       " u'controlling',\n",
       " u'interactive',\n",
       " u'display',\n",
       " u'system',\n",
       " u'multi-user',\n",
       " u'interactive',\n",
       " u'display',\n",
       " u'system',\n",
       " u'system',\n",
       " u'for',\n",
       " u'coordinating',\n",
       " u'user',\n",
       " u'images',\n",
       " u'in',\n",
       " u'an',\n",
       " u'artistic',\n",
       " u'design',\n",
       " u'system',\n",
       " u'for',\n",
       " u'matching',\n",
       " u'artistic',\n",
       " u'attributes',\n",
       " u'of',\n",
       " u'secondary',\n",
       " u'image',\n",
       " u'and',\n",
       " u'template',\n",
       " u'to',\n",
       " u'a',\n",
       " u'primary',\n",
       " u'image',\n",
       " u'display',\n",
       " u'system',\n",
       " u'for',\n",
       " u'personalized',\n",
       " u'consumer',\n",
       " u'goods',\n",
       " u'context',\n",
       " u'coordination',\n",
       " u'for',\n",
       " u'an',\n",
       " u'artistic',\n",
       " u'digital',\n",
       " u'template',\n",
       " u'for',\n",
       " u'image',\n",
       " u'display',\n",
       " u'method',\n",
       " u'of',\n",
       " u'generating',\n",
       " u'artistic',\n",
       " u'template',\n",
       " u'designs',\n",
       " u'method',\n",
       " u'of',\n",
       " u'making',\n",
       " u'an',\n",
       " u'artistic',\n",
       " u'digital',\n",
       " u'template',\n",
       " u'for',\n",
       " u'image',\n",
       " u'display',\n",
       " u'processing',\n",
       " u'digital',\n",
       " u'templates',\n",
       " u'for',\n",
       " u'image',\n",
       " u'display',\n",
       " u'image',\n",
       " u'capture',\n",
       " u'method',\n",
       " u'with',\n",
       " u'artistic',\n",
       " u'template',\n",
       " u'design',\n",
       " u'artistic',\n",
       " u'digital',\n",
       " u'template',\n",
       " u'for',\n",
       " u'image',\n",
       " u'display',\n",
       " u'printer',\n",
       " u'having',\n",
       " u'differential',\n",
       " u'filtering',\n",
       " u'smear',\n",
       " u'correction',\n",
       " u'selection',\n",
       " u'of',\n",
       " u'alternative',\n",
       " u'image',\n",
       " u'processing',\n",
       " u'operations',\n",
       " u'to',\n",
       " u'maintain',\n",
       " u'high',\n",
       " u'image',\n",
       " u'quality',\n",
       " u'applying',\n",
       " u'an',\n",
       " u'adjusted',\n",
       " u'image',\n",
       " u'enhancement',\n",
       " u'algorithm',\n",
       " u'to',\n",
       " u'a',\n",
       " u'digital',\n",
       " u'image',\n",
       " u'sharpening',\n",
       " u'a',\n",
       " u'digital',\n",
       " u'image',\n",
       " u'in',\n",
       " u'accordance',\n",
       " u'with',\n",
       " u'magnification',\n",
       " u'values',\n",
       " u'method',\n",
       " u'for',\n",
       " u'constructing',\n",
       " u'extended',\n",
       " u'color',\n",
       " u'gamut',\n",
       " u'digital',\n",
       " u'images',\n",
       " u'from',\n",
       " u'limited',\n",
       " u'color',\n",
       " u'gamut',\n",
       " u'digital',\n",
       " u'images',\n",
       " u'method',\n",
       " u'of',\n",
       " u'color',\n",
       " u'transformation',\n",
       " u'for',\n",
       " u'processing',\n",
       " u'digital',\n",
       " u'images',\n",
       " u'method',\n",
       " u'for',\n",
       " u'determining',\n",
       " u'necessary',\n",
       " u'resolution',\n",
       " u'for',\n",
       " u'zoom',\n",
       " u'and',\n",
       " u'crop',\n",
       " u'of',\n",
       " u'images']"
      ]
     },
     "execution_count": 46,
     "metadata": {},
     "output_type": "execute_result"
    }
   ],
   "source": [
    "tokens"
   ]
  },
  {
   "cell_type": "code",
   "execution_count": 47,
   "metadata": {},
   "outputs": [
    {
     "name": "stdout",
     "output_type": "stream",
     "text": [
      "<bound method FreqDist.freq of FreqDist({u'for': 28, u'and': 27, u'image': 23, u'facial': 18, u'of': 15, u'display': 12, u'digital': 11, u'method': 10, u'sparse': 10, u'using': 9, ...})>\n"
     ]
    },
    {
     "data": {
      "image/png": "[encoded data removed]",
      "text/plain": [
       "<matplotlib.figure.Figure at 0x1ee6eef0>"
      ]
     },
     "metadata": {},
     "output_type": "display_data"
    }
   ],
   "source": [
    "# Lets get a count of the tokens (NLTK has a nice convenient class to do this called FreqDist)\n",
    "# Python also has collections.Counter() which would do the same thing\n",
    "# but we don't get cool plotting then\n",
    "frequencyDistribution = nltk.FreqDist(tokens)\n",
    "print frequencyDistribution.freq\n",
    "plt.figure(figsize=(12, 6))\n",
    "# plot the top 20 tokens\n",
    "frequencyDistribution.plot(20)"
   ]
  },
  {
   "cell_type": "code",
   "execution_count": 48,
   "metadata": {},
   "outputs": [],
   "source": [
    "#nltk.download()"
   ]
  },
  {
   "cell_type": "code",
   "execution_count": 49,
   "metadata": {},
   "outputs": [
    {
     "name": "stdout",
     "output_type": "stream",
     "text": [
      "[u'i', u'me', u'my', u'myself', u'we', u'our', u'ours', u'ourselves', u'you', u'your', u'yours', u'yourself', u'yourselves', u'he', u'him']\n"
     ]
    }
   ],
   "source": [
    "# Hmmm..this is a good start...but we don't care about words like \"for\" and \"and\"\n",
    "from nltk.corpus import stopwords\n",
    "\n",
    "# let's use NLTK's built-in list of \"stopwords\"\n",
    "stoplist = stopwords.words('english')\n",
    "print(stoplist[:15])"
   ]
  },
  {
   "cell_type": "code",
   "execution_count": 50,
   "metadata": {},
   "outputs": [
    {
     "name": "stdout",
     "output_type": "stream",
     "text": [
      "<bound method FreqDist.freq of FreqDist({u'image': 23, u'facial': 18, u'display': 12, u'digital': 11, u'method': 10, u'sparse': 10, u'using': 9, u'features': 9, u'learning': 9, u'face': 9, ...})>\n"
     ]
    },
    {
     "data": {
      "image/png": "[encoded data removed]",
      "text/plain": [
       "<matplotlib.figure.Figure at 0x20ec3780>"
      ]
     },
     "metadata": {},
     "output_type": "display_data"
    }
   ],
   "source": [
    "tokens = [token for token in tokens if token not in stoplist]\n",
    "frequencyDistribution = nltk.FreqDist(tokens)\n",
    "print frequencyDistribution.freq\n",
    "plt.figure(figsize=(12, 6))\n",
    "# plot the top 20 tokens\n",
    "frequencyDistribution.plot(20)\n",
    "# MUCH BETTER!!"
   ]
  },
  {
   "cell_type": "code",
   "execution_count": 51,
   "metadata": {},
   "outputs": [
    {
     "name": "stdout",
     "output_type": "stream",
     "text": [
      "<bound method FreqDist.freq of FreqDist({(u'facial', u'features'): 7, (u'detection', u'facial'): 6, (u'face', u'detection'): 6, (u'expression', u'recognition'): 5, (u'manifold', u'learning'): 5, (u'recomposition', u'face'): 5, (u'image', u'recomposition'): 5, (u'display', u'system'): 5, (u'facial', u'expression'): 5, (u'image', u'display'): 4, ...})>\n"
     ]
    },
    {
     "data": {
      "image/png": "[encoded data removed]",
      "text/plain": [
       "<matplotlib.figure.Figure at 0x1f86d470>"
      ]
     },
     "metadata": {},
     "output_type": "display_data"
    },
    {
     "name": "stdout",
     "output_type": "stream",
     "text": [
      "<bound method FreqDist.freq of FreqDist({(u'face', u'detection', u'facial'): 6, (u'detection', u'facial', u'features'): 6, (u'image', u'recomposition', u'face'): 5, (u'recomposition', u'face', u'detection'): 5, (u'facial', u'expression', u'recognition'): 4, (u'artistic', u'digital', u'template'): 3, (u'template', u'image', u'display'): 3, (u'digital', u'template', u'image'): 3, (u'joint', u'optimization', u'manifold'): 2, (u'sparse', u'representation', u'classification'): 2, ...})>\n"
     ]
    },
    {
     "data": {
      "image/png": "[encoded data removed]",
      "text/plain": [
       "<matplotlib.figure.Figure at 0xf6ea668>"
      ]
     },
     "metadata": {},
     "output_type": "display_data"
    }
   ],
   "source": [
    "# So...we know Dr. Ptucha likes images, sparse things, digital stuff, manifolds, recognition...\n",
    "# Let's get some additional context with bigrams and trigrams\n",
    "from nltk.util import bigrams, trigrams\n",
    "from itertools import chain\n",
    "\n",
    "# we don't want to use the tokens all mashed together like before because we don't want to\n",
    "# connect the last token in a title with the first token in a different title\n",
    "# so we do it per title\n",
    "tokensPerTitle = [nltk.word_tokenize(title) for title in titles]\n",
    "tokensPerTitle = [[token.lower() for token in t if token.lower() not in symbols and token.lower() not in stoplist] for t in tokensPerTitle]\n",
    "\n",
    "# now we need to do some crazy python list unpacking which you might not understand\n",
    "# but this is just making a single list of the bigrams of each title\n",
    "b = list(chain(*[(list(bigrams(tokens))) for tokens in tokensPerTitle]))\n",
    "# same with trigrams\n",
    "t = list(chain(*[(list(trigrams(tokens))) for tokens in tokensPerTitle]))\n",
    "\n",
    "fdist = nltk.FreqDist(b)\n",
    "print fdist.freq\n",
    "plt.figure(figsize=(12, 6))\n",
    "# plot the top 20 bigrams\n",
    "fdist.plot(20)\n",
    "\n",
    "fdist = nltk.FreqDist(t)\n",
    "print fdist.freq\n",
    "plt.figure(figsize=(12, 6))\n",
    "# plot the top 20 trigrams\n",
    "fdist.plot(20)"
   ]
  },
  {
   "cell_type": "code",
   "execution_count": 55,
   "metadata": {},
   "outputs": [
    {
     "ename": "ImportError",
     "evalue": "No module named wordcloud",
     "output_type": "error",
     "traceback": [
      "\u001b[1;31m---------------------------------------------------------------------------\u001b[0m",
      "\u001b[1;31mImportError\u001b[0m                               Traceback (most recent call last)",
      "\u001b[1;32m<ipython-input-55-9aa4aad97600>\u001b[0m in \u001b[0;36m<module>\u001b[1;34m()\u001b[0m\n\u001b[0;32m      6\u001b[0m \u001b[1;32mimport\u001b[0m \u001b[0mrandom\u001b[0m\u001b[1;33m\u001b[0m\u001b[0m\n\u001b[0;32m      7\u001b[0m \u001b[1;33m\u001b[0m\u001b[0m\n\u001b[1;32m----> 8\u001b[1;33m \u001b[1;32mfrom\u001b[0m \u001b[0mwordcloud\u001b[0m \u001b[1;32mimport\u001b[0m \u001b[0mWordCloud\u001b[0m\u001b[1;33m,\u001b[0m \u001b[0mSTOPWORDS\u001b[0m\u001b[1;33m\u001b[0m\u001b[0m\n\u001b[0m\u001b[0;32m      9\u001b[0m \u001b[1;33m\u001b[0m\u001b[0m\n\u001b[0;32m     10\u001b[0m \u001b[1;31m#text = 'all your base are belong to us all of your base base base'\u001b[0m\u001b[1;33m\u001b[0m\u001b[1;33m\u001b[0m\u001b[0m\n",
      "\u001b[1;31mImportError\u001b[0m: No module named wordcloud"
     ]
    }
   ],
   "source": [
    "#Note: You need to install wordcloud using pip\n",
    "# Simple WordCloud\n",
    "from os import path\n",
    "from scipy.misc import imread\n",
    "import matplotlib.pyplot as plt\n",
    "import random\n",
    "\n",
    "from wordcloud import WordCloud, STOPWORDS\n",
    "\n",
    "#text = 'all your base are belong to us all of your base base base'\n",
    "wordcloud = WordCloud(font_path='/Library/Fonts/Verdana.ttf',\n",
    "                      relative_scaling = 1.0, wordcloud = WordCloud(width = 1000, height = 500).generate(' '.join(tokens)))"
   ]
  },
  {
   "cell_type": "code",
   "execution_count": null,
   "metadata": {
    "collapsed": true
   },
   "outputs": [],
   "source": []
  },
  {
   "cell_type": "code",
   "execution_count": null,
   "metadata": {
    "collapsed": true
   },
   "outputs": [],
   "source": []
  },
  {
   "cell_type": "code",
   "execution_count": null,
   "metadata": {
    "collapsed": true
   },
   "outputs": [],
   "source": []
  }
 ],
 "metadata": {
  "anaconda-cloud": {},
  "kernelspec": {
   "display_name": "Python [default]",
   "language": "python",
   "name": "python2"
  },
  "language_info": {
   "codemirror_mode": {
    "name": "ipython",
    "version": 2
   },
   "file_extension": ".py",
   "mimetype": "text/x-python",
   "name": "python",
   "nbconvert_exporter": "python",
   "pygments_lexer": "ipython2",
   "version": "2.7.13"
  }
 },
 "nbformat": 4,
 "nbformat_minor": 1
}
