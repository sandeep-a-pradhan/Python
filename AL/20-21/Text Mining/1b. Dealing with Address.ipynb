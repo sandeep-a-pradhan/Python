{
 "cells": [
  {
   "cell_type": "markdown",
   "metadata": {},
   "source": [
    "# Text Mining"
   ]
  },
  {
   "cell_type": "markdown",
   "metadata": {},
   "source": [
    "---"
   ]
  },
  {
   "cell_type": "markdown",
   "metadata": {},
   "source": [
    "## Address and Name Matching"
   ]
  },
  {
   "cell_type": "markdown",
   "metadata": {},
   "source": [
    "### Identifying address and it's components\n"
   ]
  },
  {
   "cell_type": "code",
   "execution_count": 1,
   "metadata": {
    "collapsed": true
   },
   "outputs": [],
   "source": [
    "import re\n",
    "import pyparsing as pp"
   ]
  },
  {
   "cell_type": "code",
   "execution_count": 2,
   "metadata": {},
   "outputs": [
    {
     "name": "stdout",
     "output_type": "stream",
     "text": [
      "3120 De la Cruz Boulevard\n",
      "('Number:', '3120 ')\n",
      "('Street:', 'De la Cruz')\n",
      "('Type:', 'Boulevard')\n",
      "['3120 ', 'De la Cruz', 'Boulevard']\n",
      "- name: De la Cruz\n",
      "- number: 3120 \n",
      "- street: ['3120 ', 'De la Cruz', 'Boulevard']\n",
      "  - name: De la Cruz\n",
      "  - number: 3120 \n",
      "  - type: Boulevard\n",
      "- type: Boulevard\n",
      "()\n",
      "100 South Street\n",
      "('Number:', '100 ')\n",
      "('Street:', 'South')\n",
      "('Type:', 'Street')\n",
      "['100 ', 'South', 'Street']\n",
      "- name: South\n",
      "- number: 100 \n",
      "- street: ['100 ', 'South', 'Street']\n",
      "  - name: South\n",
      "  - number: 100 \n",
      "  - type: Street\n",
      "- type: Street\n",
      "()\n",
      "14 Main Road\n",
      "('Number:', '14 ')\n",
      "('Street:', 'Main')\n",
      "('Type:', 'Road')\n",
      "['14 ', 'Main', 'Road']\n",
      "- name: Main\n",
      "- number: 14 \n",
      "- street: ['14 ', 'Main', 'Road']\n",
      "  - name: Main\n",
      "  - number: 14 \n",
      "  - type: Road\n",
      "- type: Road\n",
      "()\n",
      "23 Sector\n",
      "('Number:', '')\n",
      "('Street:', '23 ')\n",
      "('Type:', 'Sector')\n",
      "['23 ', 'Sector']\n",
      "- name: 23 \n",
      "- street: ['23 ', 'Sector']\n",
      "  - name: 23 \n",
      "  - type: Sector\n",
      "- type: Sector\n",
      "()\n",
      "One Union Square, Apt 22-C\n",
      "('Number:', 'One ')\n",
      "('Street:', 'Union')\n",
      "('Type:', 'Square')\n",
      "['One ', 'Union', 'Square', 'Apt', '22-C']\n",
      "- name: Union\n",
      "- number: One \n",
      "- street: ['One ', 'Union', 'Square']\n",
      "  - name: Union\n",
      "  - number: One \n",
      "  - type: Square\n",
      "- suite: ['Apt', '22-C']\n",
      "  - suitenumber: 22-C\n",
      "- suitenumber: 22-C\n",
      "- type: Square\n",
      "()\n"
     ]
    }
   ],
   "source": [
    "from pyparsing import *\n",
    "\n",
    "# define number as a set of words\n",
    "units = oneOf(\"Zero One Two Three Four Five Six Seven Eight Nine Ten\"\n",
    "          \"Eleven Twelve Thirteen Fourteen Fifteen Sixteen Seventeen Eighteen Nineteen\",\n",
    "          caseless=True)\n",
    "tens = oneOf(\"Ten Twenty Thirty Forty Fourty Fifty Sixty Seventy Eighty Ninety\",caseless=True)\n",
    "hundred = CaselessLiteral(\"Hundred\")\n",
    "thousand = CaselessLiteral(\"Thousand\")\n",
    "OPT_DASH = Optional(\"-\")\n",
    "numberword = ((( units + OPT_DASH + Optional(thousand) + OPT_DASH + \n",
    "                  Optional(units + OPT_DASH + hundred) + OPT_DASH + \n",
    "                  Optional(tens)) ^ tens ) \n",
    "               + OPT_DASH + Optional(units) )\n",
    "\n",
    "# number can be any of the forms 123, 21B, 222-A or 23 1/2\n",
    "housenumber = originalTextFor( numberword | Combine(Word(nums) + \n",
    "                    Optional(OPT_DASH + oneOf(list(alphas))+FollowedBy(White()))) + \n",
    "                    Optional(OPT_DASH + \"1/2\")\n",
    "                    )\n",
    "numberSuffix = oneOf(\"st th nd rd\").setName(\"numberSuffix\")\n",
    "streetnumber = originalTextFor( Word(nums) + \n",
    "                 Optional(OPT_DASH + \"1/2\") +\n",
    "                 Optional(numberSuffix) )\n",
    "\n",
    "# just a basic word of alpha characters, Maple, Main, etc.\n",
    "name = ~numberSuffix + Word(alphas)\n",
    "\n",
    "# types of streets - extend as desired\n",
    "type_ = Combine( MatchFirst(map(Keyword,\"Street St Boulevard Blvd Lane Ln Road Rd Avenue Ave \"\n",
    "                        \"Circle Cir Cove Cv Drive Dr Parkway Pkwy Court Ct Square Sq\"\n",
    "                        \"Loop Lp Sector\".split())) + Optional(\".\").suppress())\n",
    "\n",
    "# street name \n",
    "nsew = Combine(oneOf(\"N S E W North South East West NW NE SW SE\") + Optional(\".\"))\n",
    "streetName = (Combine( Optional(nsew) + streetnumber + \n",
    "                        Optional(\"1/2\") + \n",
    "                        Optional(numberSuffix), joinString=\" \", adjacent=False )\n",
    "                ^ Combine(~numberSuffix + OneOrMore(~type_ + Combine(Word(alphas) + Optional(\".\"))), joinString=\" \", adjacent=False) \n",
    "                ^ Combine(\"Avenue\" + Word(alphas), joinString=\" \", adjacent=False)).setName(\"streetName\")\n",
    "\n",
    "# PO Box handling\n",
    "acronym = lambda s : Regex(r\"\\.?\\s*\".join(s)+r\"\\.?\")\n",
    "poBoxRef = ((acronym(\"PO\") | acronym(\"APO\") | acronym(\"AFP\")) + \n",
    "             Optional(CaselessLiteral(\"BOX\"))) + Word(alphanums)(\"boxnumber\")\n",
    "\n",
    "# basic street address\n",
    "streetReference = streetName.setResultsName(\"name\") + Optional(type_).setResultsName(\"type\")\n",
    "direct = housenumber.setResultsName(\"number\") + streetReference\n",
    "intersection = ( streetReference.setResultsName(\"crossStreet\") + \n",
    "                 ( '@' | Keyword(\"and\",caseless=True)) +\n",
    "                 streetReference.setResultsName(\"street\") )\n",
    "streetAddress = ( poBoxRef(\"street\")\n",
    "                  ^ direct.setResultsName(\"street\")\n",
    "                  ^ streetReference.setResultsName(\"street\")\n",
    "                  ^ intersection )\n",
    "\n",
    "tests = \"\"\"\\\n",
    "    3120 De la Cruz Boulevard\n",
    "    100 South Street\n",
    "    14 Main Road\n",
    "    23 Sector\n",
    "    One Union Square, Apt 22-C\n",
    "    \"\"\".split(\"\\n\")\n",
    "\n",
    "# how to add Apt, Suite, etc.\n",
    "suiteRef = (\n",
    "            oneOf(\"Suite Ste Apt Apartment Room Rm #\", caseless=True) + \n",
    "            Optional(\".\") + \n",
    "            Word(alphanums+'-')(\"suitenumber\"))\n",
    "streetAddress = streetAddress + Optional(Suppress(',') + suiteRef(\"suite\"))\n",
    "\n",
    "for t in map(str.strip,tests):\n",
    "    if t:\n",
    "        #~ print \"1234567890\"*3\n",
    "        print(t)\n",
    "        addr = streetAddress.parseString(t, parseAll=True)\n",
    "        #~ # use this version for testing\n",
    "        #~ addr = streetAddress.parseString(t)\n",
    "        print(\"Number:\", addr.street.number)\n",
    "        print(\"Street:\", addr.street.name)\n",
    "        print(\"Type:\", addr.street.type)\n",
    "        if addr.street.boxnumber:\n",
    "            print(\"Box:\", addr.street.boxnumber)\n",
    "        print(addr.dump())\n",
    "        print()"
   ]
  },
  {
   "cell_type": "code",
   "execution_count": 74,
   "metadata": {
    "collapsed": true
   },
   "outputs": [],
   "source": [
    "import nameparser"
   ]
  },
  {
   "cell_type": "code",
   "execution_count": 95,
   "metadata": {},
   "outputs": [
    {
     "data": {
      "text/plain": [
       "<HumanName : [\n",
       "\ttitle: '' \n",
       "\tfirst: 'Sumeet' \n",
       "\tmiddle: '' \n",
       "\tlast: 'Bansal' \n",
       "\tsuffix: ''\n",
       "\tnickname: ''\n",
       "]>"
      ]
     },
     "execution_count": 95,
     "metadata": {},
     "output_type": "execute_result"
    }
   ],
   "source": [
    "name1 = \"Sunit Prasad\"\n",
    "name2 = \"Dr. Bruce Banter\"\n",
    "name3 = \"Sumeet Bansal\"\n",
    "\n",
    "nameparser.HumanName(name3)"
   ]
  },
  {
   "cell_type": "code",
   "execution_count": 98,
   "metadata": {},
   "outputs": [
    {
     "name": "stdout",
     "output_type": "stream",
     "text": [
      "M/s Alabs Pvt Ltd\n"
     ]
    }
   ],
   "source": [
    "coname = \"M/s Alabs Pvt Ltd\"\n",
    "co_pattern = re.compile(r\"^[Ms|M/S]*[a-zA-Z0-9][a-zA-Z0-9\\.\\-#&\\s]*$\")\n",
    "\n",
    "m = re.match(co_pattern,coname)\n",
    "if(m):\n",
    "    print(m.group(0))"
   ]
  },
  {
   "cell_type": "code",
   "execution_count": null,
   "metadata": {
    "collapsed": true
   },
   "outputs": [],
   "source": []
  }
 ],
 "metadata": {
  "kernelspec": {
   "display_name": "Python [default]",
   "language": "python",
   "name": "python2"
  },
  "language_info": {
   "codemirror_mode": {
    "name": "ipython",
    "version": 2
   },
   "file_extension": ".py",
   "mimetype": "text/x-python",
   "name": "python",
   "nbconvert_exporter": "python",
   "pygments_lexer": "ipython2",
   "version": "2.7.13"
  }
 },
 "nbformat": 4,
 "nbformat_minor": 2
}
