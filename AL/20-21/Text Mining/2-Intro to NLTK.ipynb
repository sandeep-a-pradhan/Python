{
 "cells": [
  {
   "cell_type": "markdown",
   "metadata": {},
   "source": [
    "## Import NLTKs corpora, books etc."
   ]
  },
  {
   "cell_type": "markdown",
   "metadata": {},
   "source": [
    "!python -m nltk.downloader all"
   ]
  },
  {
   "cell_type": "code",
   "execution_count": 11,
   "metadata": {
    "collapsed": true
   },
   "outputs": [],
   "source": [
    "import nltk"
   ]
  },
  {
   "cell_type": "code",
   "execution_count": 12,
   "metadata": {},
   "outputs": [
    {
     "data": {
      "text/plain": [
       "['AbstractLazySequence',\n",
       " 'AffixTagger',\n",
       " 'AlignedSent',\n",
       " 'Alignment',\n",
       " 'AnnotationTask',\n",
       " 'ApplicationExpression',\n",
       " 'Assignment',\n",
       " 'BigramAssocMeasures',\n",
       " 'BigramCollocationFinder',\n",
       " 'BigramTagger',\n",
       " 'BinaryMaxentFeatureEncoding',\n",
       " 'BlanklineTokenizer',\n",
       " 'BllipParser',\n",
       " 'BottomUpChartParser',\n",
       " 'BottomUpLeftCornerChartParser',\n",
       " 'BottomUpProbabilisticChartParser',\n",
       " 'Boxer',\n",
       " 'BrillTagger',\n",
       " 'BrillTaggerTrainer',\n",
       " u'CFG',\n",
       " 'CRFTagger',\n",
       " 'CfgReadingCommand',\n",
       " 'ChartParser',\n",
       " 'ChunkParserI',\n",
       " 'ChunkScore',\n",
       " 'ClassifierBasedPOSTagger',\n",
       " 'ClassifierBasedTagger',\n",
       " 'ClassifierI',\n",
       " u'ConcordanceIndex',\n",
       " 'ConditionalExponentialClassifier',\n",
       " u'ConditionalFreqDist',\n",
       " u'ConditionalProbDist',\n",
       " u'ConditionalProbDistI',\n",
       " 'ConfusionMatrix',\n",
       " u'ContextIndex',\n",
       " 'ContextTagger',\n",
       " 'ContingencyMeasures',\n",
       " 'CoreNLPDependencyParser',\n",
       " 'CoreNLPParser',\n",
       " 'Counter',\n",
       " u'CrossValidationProbDist',\n",
       " 'DRS',\n",
       " 'DecisionTreeClassifier',\n",
       " 'DefaultTagger',\n",
       " 'DependencyEvaluator',\n",
       " u'DependencyGrammar',\n",
       " 'DependencyGraph',\n",
       " u'DependencyProduction',\n",
       " u'DictionaryConditionalProbDist',\n",
       " u'DictionaryProbDist',\n",
       " 'DiscourseTester',\n",
       " 'DrtExpression',\n",
       " 'DrtGlueReadingCommand',\n",
       " u'ELEProbDist',\n",
       " 'EarleyChartParser',\n",
       " 'Expression',\n",
       " 'FStructure',\n",
       " u'FeatDict',\n",
       " u'FeatList',\n",
       " u'FeatStruct',\n",
       " u'FeatStructReader',\n",
       " u'Feature',\n",
       " 'FeatureBottomUpChartParser',\n",
       " 'FeatureBottomUpLeftCornerChartParser',\n",
       " 'FeatureChartParser',\n",
       " 'FeatureEarleyChartParser',\n",
       " 'FeatureIncrementalBottomUpChartParser',\n",
       " 'FeatureIncrementalBottomUpLeftCornerChartParser',\n",
       " 'FeatureIncrementalChartParser',\n",
       " 'FeatureIncrementalTopDownChartParser',\n",
       " 'FeatureTopDownChartParser',\n",
       " u'FreqDist',\n",
       " 'HTTPPasswordMgrWithDefaultRealm',\n",
       " u'HeldoutProbDist',\n",
       " 'HiddenMarkovModelTagger',\n",
       " 'HiddenMarkovModelTrainer',\n",
       " 'HunposTagger',\n",
       " 'IBMModel',\n",
       " 'IBMModel1',\n",
       " 'IBMModel2',\n",
       " 'IBMModel3',\n",
       " 'IBMModel4',\n",
       " 'IBMModel5',\n",
       " 'ISRIStemmer',\n",
       " u'ImmutableMultiParentedTree',\n",
       " u'ImmutableParentedTree',\n",
       " u'ImmutableProbabilisticMixIn',\n",
       " u'ImmutableProbabilisticTree',\n",
       " u'ImmutableTree',\n",
       " 'IncrementalBottomUpChartParser',\n",
       " 'IncrementalBottomUpLeftCornerChartParser',\n",
       " 'IncrementalChartParser',\n",
       " 'IncrementalLeftCornerChartParser',\n",
       " 'IncrementalTopDownChartParser',\n",
       " 'Index',\n",
       " 'InsideChartParser',\n",
       " 'JSONTaggedDecoder',\n",
       " 'JSONTaggedEncoder',\n",
       " u'KneserNeyProbDist',\n",
       " 'LancasterStemmer',\n",
       " u'LaplaceProbDist',\n",
       " 'LazyConcatenation',\n",
       " 'LazyEnumerate',\n",
       " 'LazyIteratorList',\n",
       " 'LazyMap',\n",
       " 'LazySubsequence',\n",
       " 'LazyZip',\n",
       " 'LeftCornerChartParser',\n",
       " u'LidstoneProbDist',\n",
       " 'LineTokenizer',\n",
       " 'LogicalExpressionException',\n",
       " 'LongestChartParser',\n",
       " u'MLEProbDist',\n",
       " 'MWETokenizer',\n",
       " 'Mace',\n",
       " 'MaceCommand',\n",
       " 'MaltParser',\n",
       " 'MaxentClassifier',\n",
       " 'Model',\n",
       " 'MultiClassifierI',\n",
       " u'MultiParentedTree',\n",
       " u'MutableProbDist',\n",
       " 'NaiveBayesClassifier',\n",
       " 'NaiveBayesDependencyScorer',\n",
       " 'NgramAssocMeasures',\n",
       " 'NgramTagger',\n",
       " 'NonprojectiveDependencyParser',\n",
       " u'Nonterminal',\n",
       " 'OrderedDict',\n",
       " u'PCFG',\n",
       " 'Paice',\n",
       " 'ParallelProverBuilder',\n",
       " 'ParallelProverBuilderCommand',\n",
       " u'ParentedTree',\n",
       " 'ParserI',\n",
       " 'PerceptronTagger',\n",
       " 'PhraseTable',\n",
       " 'PorterStemmer',\n",
       " 'PositiveNaiveBayesClassifier',\n",
       " u'ProbDistI',\n",
       " u'ProbabilisticDependencyGrammar',\n",
       " u'ProbabilisticMixIn',\n",
       " 'ProbabilisticNonprojectiveParser',\n",
       " u'ProbabilisticProduction',\n",
       " 'ProbabilisticProjectiveDependencyParser',\n",
       " u'ProbabilisticTree',\n",
       " u'Production',\n",
       " 'ProjectiveDependencyParser',\n",
       " 'Prover9',\n",
       " 'Prover9Command',\n",
       " 'ProxyBasicAuthHandler',\n",
       " 'ProxyDigestAuthHandler',\n",
       " 'ProxyHandler',\n",
       " 'PunktSentenceTokenizer',\n",
       " 'QuadgramCollocationFinder',\n",
       " 'RSLPStemmer',\n",
       " 'RTEFeatureExtractor',\n",
       " 'RUS_PICKLE',\n",
       " 'RandomChartParser',\n",
       " u'RangeFeature',\n",
       " 'ReadingCommand',\n",
       " 'RecursiveDescentParser',\n",
       " 'RegexpChunkParser',\n",
       " 'RegexpParser',\n",
       " 'RegexpStemmer',\n",
       " 'RegexpTagger',\n",
       " 'RegexpTokenizer',\n",
       " 'ReppTokenizer',\n",
       " 'ResolutionProver',\n",
       " 'ResolutionProverCommand',\n",
       " 'SExprTokenizer',\n",
       " u'SLASH',\n",
       " 'Senna',\n",
       " 'SennaChunkTagger',\n",
       " 'SennaNERTagger',\n",
       " 'SennaTagger',\n",
       " 'SequentialBackoffTagger',\n",
       " 'ShiftReduceParser',\n",
       " u'SimpleGoodTuringProbDist',\n",
       " 'SklearnClassifier',\n",
       " u'SlashFeature',\n",
       " 'SnowballStemmer',\n",
       " 'SpaceTokenizer',\n",
       " 'StackDecoder',\n",
       " 'StanfordNERTagger',\n",
       " 'StanfordPOSTagger',\n",
       " 'StanfordSegmenter',\n",
       " 'StanfordTagger',\n",
       " 'StanfordTokenizer',\n",
       " 'StemmerI',\n",
       " 'SteppingChartParser',\n",
       " 'SteppingRecursiveDescentParser',\n",
       " 'SteppingShiftReduceParser',\n",
       " u'TYPE',\n",
       " 'TabTokenizer',\n",
       " 'TableauProver',\n",
       " 'TableauProverCommand',\n",
       " 'TaggerI',\n",
       " 'TestGrammar',\n",
       " u'Text',\n",
       " 'TextCat',\n",
       " u'TextCollection',\n",
       " 'TextTilingTokenizer',\n",
       " 'TnT',\n",
       " u'TokenSearcher',\n",
       " 'ToktokTokenizer',\n",
       " 'TopDownChartParser',\n",
       " 'TransitionParser',\n",
       " u'Tree',\n",
       " 'TreebankWordTokenizer',\n",
       " 'Trie',\n",
       " 'TrigramAssocMeasures',\n",
       " 'TrigramCollocationFinder',\n",
       " 'TrigramTagger',\n",
       " 'TweetTokenizer',\n",
       " 'TypedMaxentFeatureEncoding',\n",
       " 'Undefined',\n",
       " u'UniformProbDist',\n",
       " 'UnigramTagger',\n",
       " 'UnsortedChartParser',\n",
       " 'Valuation',\n",
       " 'Variable',\n",
       " 'ViterbiParser',\n",
       " 'WekaClassifier',\n",
       " 'WhitespaceTokenizer',\n",
       " u'WittenBellProbDist',\n",
       " 'WordNetLemmatizer',\n",
       " 'WordPunctTokenizer',\n",
       " '__author__',\n",
       " '__author_email__',\n",
       " '__builtins__',\n",
       " '__classifiers__',\n",
       " '__copyright__',\n",
       " '__doc__',\n",
       " '__file__',\n",
       " '__keywords__',\n",
       " '__license__',\n",
       " '__longdescr__',\n",
       " '__maintainer__',\n",
       " '__maintainer_email__',\n",
       " '__name__',\n",
       " '__package__',\n",
       " '__path__',\n",
       " '__url__',\n",
       " '__version__',\n",
       " 'absolute_import',\n",
       " 'accuracy',\n",
       " u'add_logs',\n",
       " 'agreement',\n",
       " 'align',\n",
       " 'alignment_error_rate',\n",
       " 'aline',\n",
       " 'api',\n",
       " 'app',\n",
       " 'apply_features',\n",
       " 'approxrand',\n",
       " 'arity',\n",
       " 'association',\n",
       " 'bigrams',\n",
       " 'binary_distance',\n",
       " 'binary_search_file',\n",
       " 'binding_ops',\n",
       " 'bisect',\n",
       " 'blankline_tokenize',\n",
       " 'bleu',\n",
       " 'bleu_score',\n",
       " 'bllip',\n",
       " 'boolean_ops',\n",
       " 'boxer',\n",
       " u'bracket_parse',\n",
       " 'breadth_first',\n",
       " 'brill',\n",
       " 'brill_trainer',\n",
       " 'build_opener',\n",
       " 'call_megam',\n",
       " 'casual',\n",
       " 'casual_tokenize',\n",
       " 'ccg',\n",
       " 'chain',\n",
       " 'chart',\n",
       " 'chat',\n",
       " 'choose',\n",
       " 'chunk',\n",
       " 'class_types',\n",
       " 'classify',\n",
       " 'clause',\n",
       " 'clean_html',\n",
       " 'clean_url',\n",
       " 'cluster',\n",
       " 'collections',\n",
       " 'collocations',\n",
       " 'combinations',\n",
       " 'compat',\n",
       " 'config_java',\n",
       " 'config_megam',\n",
       " 'config_weka',\n",
       " u'conflicts',\n",
       " 'confusionmatrix',\n",
       " 'conllstr2tree',\n",
       " 'conlltags2tree',\n",
       " 'corenlp',\n",
       " 'corpus',\n",
       " 'crf',\n",
       " 'custom_distance',\n",
       " 'data',\n",
       " 'decisiontree',\n",
       " 'decorator',\n",
       " 'decorators',\n",
       " 'defaultdict',\n",
       " 'demo',\n",
       " 'dependencygraph',\n",
       " 'deque',\n",
       " 'discourse',\n",
       " 'distance',\n",
       " 'download',\n",
       " 'download_gui',\n",
       " 'download_shell',\n",
       " 'downloader',\n",
       " 'draw',\n",
       " 'drt',\n",
       " 'earleychart',\n",
       " 'edit_distance',\n",
       " 'elementtree_indent',\n",
       " u'entropy',\n",
       " 'equality_preds',\n",
       " 'evaluate',\n",
       " 'evaluate_sents',\n",
       " 'everygrams',\n",
       " 'extract_rels',\n",
       " 'extract_test_sentences',\n",
       " 'f_measure',\n",
       " 'featstruct',\n",
       " 'featurechart',\n",
       " 'filestring',\n",
       " 'find',\n",
       " 'flatten',\n",
       " 'fractional_presence',\n",
       " 'getproxies',\n",
       " 'ghd',\n",
       " 'glue',\n",
       " 'grammar',\n",
       " 'guess_encoding',\n",
       " 'help',\n",
       " 'hmm',\n",
       " 'hunpos',\n",
       " 'ibm1',\n",
       " 'ibm2',\n",
       " 'ibm3',\n",
       " 'ibm4',\n",
       " 'ibm5',\n",
       " 'ibm_model',\n",
       " 'ieerstr2tree',\n",
       " 'improved_close_quote_regex',\n",
       " 'improved_open_quote_regex',\n",
       " 'improved_punct_regex',\n",
       " 'in_idle',\n",
       " u'induce_pcfg',\n",
       " 'inference',\n",
       " 'infile',\n",
       " 'inspect',\n",
       " 'install_opener',\n",
       " 'internals',\n",
       " 'interpret_sents',\n",
       " 'interval_distance',\n",
       " 'invert_dict',\n",
       " 'invert_graph',\n",
       " 'is_rel',\n",
       " 'islice',\n",
       " 'isri',\n",
       " 'jaccard_distance',\n",
       " 'json_tags',\n",
       " 'jsontags',\n",
       " 'lancaster',\n",
       " 'lazyimport',\n",
       " 'lfg',\n",
       " 'line_tokenize',\n",
       " 'linearlogic',\n",
       " 'load',\n",
       " 'load_parser',\n",
       " 'locale',\n",
       " u'log_likelihood',\n",
       " 'logic',\n",
       " 'mace',\n",
       " 'malt',\n",
       " 'map_tag',\n",
       " 'mapping',\n",
       " 'masi_distance',\n",
       " 'maxent',\n",
       " 'megam',\n",
       " 'memoize',\n",
       " 'metrics',\n",
       " 'misc',\n",
       " 'mwe',\n",
       " 'naivebayes',\n",
       " 'ne_chunk',\n",
       " 'ne_chunk_sents',\n",
       " 'ngrams',\n",
       " 'nonprojectivedependencyparser',\n",
       " u'nonterminals',\n",
       " 'numpy',\n",
       " 'os',\n",
       " 'pad_sequence',\n",
       " 'paice',\n",
       " 'parse',\n",
       " 'parse_sents',\n",
       " 'pchart',\n",
       " 'perceptron',\n",
       " 'pk',\n",
       " 'porter',\n",
       " 'pos_tag',\n",
       " 'pos_tag_sents',\n",
       " 'positivenaivebayes',\n",
       " 'pprint',\n",
       " 'pr',\n",
       " 'precision',\n",
       " 'presence',\n",
       " 'print_function',\n",
       " 'print_string',\n",
       " 'probability',\n",
       " 'projectivedependencyparser',\n",
       " 'prover9',\n",
       " 'punkt',\n",
       " 'py25',\n",
       " 'py26',\n",
       " 'py27',\n",
       " 'pydoc',\n",
       " 'python_2_unicode_compatible',\n",
       " 'raise_unorderable_types',\n",
       " 'ranks_from_scores',\n",
       " 'ranks_from_sequence',\n",
       " 're',\n",
       " 're_show',\n",
       " u'read_grammar',\n",
       " 'read_logic',\n",
       " 'read_valuation',\n",
       " 'recall',\n",
       " 'recursivedescent',\n",
       " 'regexp',\n",
       " 'regexp_span_tokenize',\n",
       " 'regexp_tokenize',\n",
       " 'register_tag',\n",
       " 'relextract',\n",
       " 'repp',\n",
       " 'resolution',\n",
       " 'ribes',\n",
       " 'ribes_score',\n",
       " 'root_semrep',\n",
       " 'rslp',\n",
       " 'rte_classifier',\n",
       " 'rte_classify',\n",
       " 'rte_features',\n",
       " 'rtuple',\n",
       " 'scikitlearn',\n",
       " 'scores',\n",
       " 'segmentation',\n",
       " 'sem',\n",
       " 'senna',\n",
       " 'sent_tokenize',\n",
       " 'sequential',\n",
       " 'set2rel',\n",
       " 'set_proxy',\n",
       " 'sexpr',\n",
       " 'sexpr_tokenize',\n",
       " 'shiftreduce',\n",
       " 'simple',\n",
       " u'sinica_parse',\n",
       " 'skipgrams',\n",
       " 'skolemize',\n",
       " 'slice_bounds',\n",
       " 'snowball',\n",
       " 'spearman',\n",
       " 'spearman_correlation',\n",
       " 'stack_decoder',\n",
       " 'stanford',\n",
       " 'stanford_segmenter',\n",
       " 'stem',\n",
       " 'str2tuple',\n",
       " 'string_span_tokenize',\n",
       " 'string_types',\n",
       " 'subprocess',\n",
       " u'subsumes',\n",
       " u'sum_logs',\n",
       " 'sys',\n",
       " 'tableau',\n",
       " 'tadm',\n",
       " 'tag',\n",
       " 'tagset_mapping',\n",
       " 'tagstr2tree',\n",
       " 'tbl',\n",
       " 'text',\n",
       " 'text_type',\n",
       " 'textcat',\n",
       " 'texttiling',\n",
       " 'textwrap',\n",
       " 'tkinter',\n",
       " 'tnt',\n",
       " 'tokenize',\n",
       " 'tokenwrap',\n",
       " 'toktok',\n",
       " 'toolbox',\n",
       " 'total_ordering',\n",
       " 'transitionparser',\n",
       " 'transitive_closure',\n",
       " 'translate',\n",
       " 'tree',\n",
       " 'tree2conllstr',\n",
       " 'tree2conlltags',\n",
       " 'treebank',\n",
       " 'treetransforms',\n",
       " 'trigrams',\n",
       " 'tuple2str',\n",
       " 'types',\n",
       " u'unify',\n",
       " 'unique_list',\n",
       " 'untag',\n",
       " 'usage',\n",
       " 'util',\n",
       " 'version_file',\n",
       " 'version_info',\n",
       " 'viterbi',\n",
       " 'weka',\n",
       " 'windowdiff',\n",
       " 'word_tokenize',\n",
       " 'wordnet',\n",
       " 'wordpunct_tokenize',\n",
       " 'wsd']"
      ]
     },
     "execution_count": 12,
     "metadata": {},
     "output_type": "execute_result"
    }
   ],
   "source": [
    "# Explore \n",
    "dir(nltk)"
   ]
  },
  {
   "cell_type": "code",
   "execution_count": 14,
   "metadata": {},
   "outputs": [
    {
     "data": {
      "text/plain": [
       "['AlignedCorpusReader',\n",
       " 'AlpinoCorpusReader',\n",
       " 'BNCCorpusReader',\n",
       " 'BracketParseCorpusReader',\n",
       " 'CHILDESCorpusReader',\n",
       " 'CMUDictCorpusReader',\n",
       " 'CategorizedBracketParseCorpusReader',\n",
       " 'CategorizedCorpusReader',\n",
       " 'CategorizedPlaintextCorpusReader',\n",
       " 'CategorizedSentencesCorpusReader',\n",
       " 'CategorizedTaggedCorpusReader',\n",
       " 'ChasenCorpusReader',\n",
       " 'ChunkedCorpusReader',\n",
       " 'ComparativeSentencesCorpusReader',\n",
       " 'ConllChunkCorpusReader',\n",
       " 'ConllCorpusReader',\n",
       " 'CorpusReader',\n",
       " 'CrubadanCorpusReader',\n",
       " 'DependencyCorpusReader',\n",
       " 'EuroparlCorpusReader',\n",
       " 'FramenetCorpusReader',\n",
       " 'IEERCorpusReader',\n",
       " 'IPIPANCorpusReader',\n",
       " 'IndianCorpusReader',\n",
       " 'KNBCorpusReader',\n",
       " 'LazyCorpusLoader',\n",
       " 'LinThesaurusCorpusReader',\n",
       " 'MTECorpusReader',\n",
       " 'MWAPPDBCorpusReader',\n",
       " 'MacMorphoCorpusReader',\n",
       " 'NKJPCorpusReader',\n",
       " 'NPSChatCorpusReader',\n",
       " 'NombankCorpusReader',\n",
       " 'NonbreakingPrefixesCorpusReader',\n",
       " 'OpinionLexiconCorpusReader',\n",
       " 'PPAttachmentCorpusReader',\n",
       " 'PanLexLiteCorpusReader',\n",
       " 'Pl196xCorpusReader',\n",
       " 'PlaintextCorpusReader',\n",
       " 'PortugueseCategorizedPlaintextCorpusReader',\n",
       " 'PropbankCorpusReader',\n",
       " 'ProsConsCorpusReader',\n",
       " 'RTECorpusReader',\n",
       " 'RegexpTokenizer',\n",
       " 'ReviewsCorpusReader',\n",
       " 'SemcorCorpusReader',\n",
       " 'SensevalCorpusReader',\n",
       " 'SentiSynset',\n",
       " 'SentiWordNetCorpusReader',\n",
       " 'SinicaTreebankCorpusReader',\n",
       " 'StringCategoryCorpusReader',\n",
       " 'SwadeshCorpusReader',\n",
       " 'SwitchboardCorpusReader',\n",
       " 'SyntaxCorpusReader',\n",
       " 'TEICorpusView',\n",
       " 'TaggedCorpusReader',\n",
       " 'TimitCorpusReader',\n",
       " 'TimitTaggedCorpusReader',\n",
       " 'ToolboxCorpusReader',\n",
       " 'TwitterCorpusReader',\n",
       " 'UdhrCorpusReader',\n",
       " 'UnicharsCorpusReader',\n",
       " 'VerbnetCorpusReader',\n",
       " 'WordListCorpusReader',\n",
       " 'WordNetCorpusReader',\n",
       " 'WordNetICCorpusReader',\n",
       " 'XMLCorpusReader',\n",
       " 'YCOECorpusReader',\n",
       " '_LazyModule__lazymodule_globals',\n",
       " '_LazyModule__lazymodule_import',\n",
       " '_LazyModule__lazymodule_init',\n",
       " '_LazyModule__lazymodule_loaded',\n",
       " '_LazyModule__lazymodule_locals',\n",
       " '_LazyModule__lazymodule_name',\n",
       " '__builtins__',\n",
       " '__doc__',\n",
       " '__file__',\n",
       " '__getattr__',\n",
       " '__init__',\n",
       " '__lazymodule_loaded',\n",
       " '__module__',\n",
       " '__name__',\n",
       " '__package__',\n",
       " '__path__',\n",
       " '__repr__',\n",
       " '__setattr__',\n",
       " 'abc',\n",
       " 'alpino',\n",
       " 'brown',\n",
       " 'cess_cat',\n",
       " 'cess_esp',\n",
       " 'cmudict',\n",
       " 'comparative_sentences',\n",
       " 'comtrans',\n",
       " 'conll2000',\n",
       " 'conll2002',\n",
       " 'conll2007',\n",
       " 'crubadan',\n",
       " 'demo',\n",
       " 'dependency_treebank',\n",
       " 'find_corpus_fileids',\n",
       " 'floresta',\n",
       " 'framenet',\n",
       " 'framenet15',\n",
       " 'gazetteers',\n",
       " 'genesis',\n",
       " 'gutenberg',\n",
       " 'ieer',\n",
       " 'inaugural',\n",
       " 'indian',\n",
       " 'jeita',\n",
       " 'knbc',\n",
       " 'lin_thesaurus',\n",
       " 'mac_morpho',\n",
       " 'machado',\n",
       " 'masc_tagged',\n",
       " 'movie_reviews',\n",
       " 'multext_east',\n",
       " 'names',\n",
       " 'nombank',\n",
       " 'nombank_ptb',\n",
       " 'nonbreaking_prefixes',\n",
       " 'nps_chat',\n",
       " 'opinion_lexicon',\n",
       " 'perluniprops',\n",
       " 'ppattach',\n",
       " 'product_reviews_1',\n",
       " 'product_reviews_2',\n",
       " 'propbank',\n",
       " 'propbank_ptb',\n",
       " 'pros_cons',\n",
       " 'ptb',\n",
       " 'qc',\n",
       " 're',\n",
       " 'reader',\n",
       " 'reuters',\n",
       " 'rte',\n",
       " 'semcor',\n",
       " 'senseval',\n",
       " 'sentence_polarity',\n",
       " 'sentiwordnet',\n",
       " 'shakespeare',\n",
       " 'sinica_treebank',\n",
       " 'state_union',\n",
       " 'stopwords',\n",
       " 'subjectivity',\n",
       " 'swadesh',\n",
       " 'swadesh110',\n",
       " 'swadesh207',\n",
       " 'switchboard',\n",
       " 'tagged_treebank_para_block_reader',\n",
       " 'teardown_module',\n",
       " 'timit',\n",
       " 'timit_tagged',\n",
       " 'toolbox',\n",
       " 'treebank',\n",
       " 'treebank_chunk',\n",
       " 'treebank_raw',\n",
       " 'twitter_samples',\n",
       " 'udhr',\n",
       " 'udhr2',\n",
       " 'universal_treebanks',\n",
       " 'util',\n",
       " 'verbnet',\n",
       " 'webtext',\n",
       " 'wordnet',\n",
       " 'wordnet_ic',\n",
       " 'words']"
      ]
     },
     "execution_count": 14,
     "metadata": {},
     "output_type": "execute_result"
    }
   ],
   "source": [
    "# Explore\n",
    "dir(nltk.corpus)"
   ]
  },
  {
   "cell_type": "code",
   "execution_count": 15,
   "metadata": {},
   "outputs": [
    {
     "data": {
      "text/plain": [
       "[u'austen-emma.txt',\n",
       " u'austen-persuasion.txt',\n",
       " u'austen-sense.txt',\n",
       " u'bible-kjv.txt',\n",
       " u'blake-poems.txt',\n",
       " u'bryant-stories.txt',\n",
       " u'burgess-busterbrown.txt',\n",
       " u'carroll-alice.txt',\n",
       " u'chesterton-ball.txt',\n",
       " u'chesterton-brown.txt',\n",
       " u'chesterton-thursday.txt',\n",
       " u'edgeworth-parents.txt',\n",
       " u'melville-moby_dick.txt',\n",
       " u'milton-paradise.txt',\n",
       " u'shakespeare-caesar.txt',\n",
       " u'shakespeare-hamlet.txt',\n",
       " u'shakespeare-macbeth.txt',\n",
       " u'whitman-leaves.txt']"
      ]
     },
     "execution_count": 15,
     "metadata": {},
     "output_type": "execute_result"
    }
   ],
   "source": [
    "nltk.corpus.gutenberg.fileids()"
   ]
  },
  {
   "cell_type": "code",
   "execution_count": 16,
   "metadata": {},
   "outputs": [
    {
     "name": "stdout",
     "output_type": "stream",
     "text": [
      "*** Introductory Examples for the NLTK Book ***\n",
      "Loading text1, ..., text9 and sent1, ..., sent9\n",
      "Type the name of the text or sentence to view it.\n",
      "Type: 'texts()' or 'sents()' to list the materials.\n",
      "text1: Moby Dick by Herman Melville 1851\n",
      "text2: Sense and Sensibility by Jane Austen 1811\n",
      "text3: The Book of Genesis\n",
      "text4: Inaugural Address Corpus\n",
      "text5: Chat Corpus\n",
      "text6: Monty Python and the Holy Grail\n",
      "text7: Wall Street Journal\n",
      "text8: Personals Corpus\n",
      "text9: The Man Who Was Thursday by G . K . Chesterton 1908\n"
     ]
    }
   ],
   "source": [
    "from nltk.book import text4"
   ]
  },
  {
   "cell_type": "code",
   "execution_count": 17,
   "metadata": {},
   "outputs": [
    {
     "data": {
      "text/plain": [
       "nltk.text.Text"
      ]
     },
     "execution_count": 17,
     "metadata": {},
     "output_type": "execute_result"
    }
   ],
   "source": [
    "type(text4)"
   ]
  },
  {
   "cell_type": "code",
   "execution_count": 18,
   "metadata": {},
   "outputs": [
    {
     "name": "stdout",
     "output_type": "stream",
     "text": [
      "[u'Fellow', u'-', u'Citizens', u'of', u'the', u'Senate', u'and', u'of', u'the', u'House']\n"
     ]
    }
   ],
   "source": [
    "print text4[:10]"
   ]
  },
  {
   "cell_type": "code",
   "execution_count": 19,
   "metadata": {},
   "outputs": [
    {
     "data": {
      "text/plain": [
       "145735"
      ]
     },
     "execution_count": 19,
     "metadata": {},
     "output_type": "execute_result"
    }
   ],
   "source": [
    "len(text4)"
   ]
  },
  {
   "cell_type": "code",
   "execution_count": 20,
   "metadata": {},
   "outputs": [
    {
     "data": {
      "text/plain": [
       "8185"
      ]
     },
     "execution_count": 20,
     "metadata": {},
     "output_type": "execute_result"
    }
   ],
   "source": [
    "len(set([word.lower() for word in text4 if len(word) >= 5]))"
   ]
  },
  {
   "cell_type": "code",
   "execution_count": 21,
   "metadata": {},
   "outputs": [
    {
     "data": {
      "text/plain": [
       "u'Fellow - Citizens of the Senate and of the House of Representatives : Among the vicissitudes incident to life no event could have filled me with greater anxieties than that of which the notification was transmitted by your order , and received on the 14th day of the present month . On the one hand , I was summoned by my Country , whose voice I can never hear but with veneration and love , from a retreat which I had chosen with the fondest predilection , and , in my flattering hopes , with an immutable decision , as'"
      ]
     },
     "execution_count": 21,
     "metadata": {},
     "output_type": "execute_result"
    }
   ],
   "source": [
    "' '.join(text4[:100])"
   ]
  },
  {
   "cell_type": "markdown",
   "metadata": {},
   "source": [
    "#### Words in context\n",
    "\n",
    "Search word in text, diasplay the results together with the context:\n"
   ]
  },
  {
   "cell_type": "code",
   "execution_count": 22,
   "metadata": {
    "collapsed": true
   },
   "outputs": [],
   "source": [
    "text4.concordance?"
   ]
  },
  {
   "cell_type": "code",
   "execution_count": 23,
   "metadata": {},
   "outputs": [
    {
     "name": "stdout",
     "output_type": "stream",
     "text": [
      "Displaying 25 of 192 matches:\n",
      "posed in me by the people of united America . Previous to the execution of any \n",
      "y times , that no middle course for America remained between unlimited submissi\n",
      "this dangerous crisis the people of America were not abandoned by their usual g\n",
      "ay be exposed ) which the people of America have exhibited to the admiration an\n",
      "ty toward the aboriginal nations of America , and a disposition to meliorate th\n",
      "onor and integrity of the people of America and the internal sentiment of their\n",
      "een Spain and the colonies in South America , which had commenced many years be\n",
      " Britannic Majesty ' s dominions in America , with other differences on importa\n",
      " generations yet to come , and that America will present to every friend of man\n",
      "route across the isthmus of Central America . It is impossible to conceive that\n",
      "thmus that connects North and South America as will protect our national intere\n",
      ", in the Philippines , and in South America are known to everyone who has given\n",
      "of steamers between North and South America has been brought to the attention o\n",
      "ates and the western coast of South America , and , indeed , with some of the i\n",
      "nt ports on the east coast of South America reached by rail from the west coast\n",
      "action will avail , is the unity of America -- an America united in feeling , i\n",
      "ail , is the unity of America -- an America united in feeling , in purpose and \n",
      "friendship and harbor no hate . But America , our America , the America builded\n",
      " harbor no hate . But America , our America , the America builded on the founda\n",
      "e . But America , our America , the America builded on the foundation laid by t\n",
      "ligent , dependable popular will of America . In a deliberate questioning of a \n",
      "mandate in manifest understanding . America is ready to encourage , eager to in\n",
      "lization , and we hold a maintained America , the proven Republic , the unshake\n",
      "ome , it also revealed the heart of America as sound and fearless , and beating\n",
      "lective strength and consecrate all America , materially and spiritually , body\n"
     ]
    }
   ],
   "source": [
    "#text4.concordance(\"people\")\n",
    "text4.concordance(\"america\")"
   ]
  },
  {
   "cell_type": "markdown",
   "metadata": {},
   "source": [
    "What other words appear in a similar range of contexts? "
   ]
  },
  {
   "cell_type": "code",
   "execution_count": 24,
   "metadata": {
    "collapsed": true
   },
   "outputs": [],
   "source": [
    "text4.similar?"
   ]
  },
  {
   "cell_type": "code",
   "execution_count": 25,
   "metadata": {
    "scrolled": true
   },
   "outputs": [
    {
     "name": "stdout",
     "output_type": "stream",
     "text": [
      "it freedom peace government god\n"
     ]
    }
   ],
   "source": [
    "text4.similar(\"America\", num=5)"
   ]
  },
  {
   "cell_type": "markdown",
   "metadata": {},
   "source": [
    "Examine just the contexts that are shared by two or more words:"
   ]
  },
  {
   "cell_type": "code",
   "execution_count": 26,
   "metadata": {},
   "outputs": [
    {
     "data": {
      "text/plain": [
       "<bound method Text.common_contexts of <Text: Inaugural Address Corpus>>"
      ]
     },
     "execution_count": 26,
     "metadata": {},
     "output_type": "execute_result"
    }
   ],
   "source": [
    "text4.common_contexts"
   ]
  },
  {
   "cell_type": "code",
   "execution_count": 27,
   "metadata": {},
   "outputs": [
    {
     "name": "stdout",
     "output_type": "stream",
     "text": [
      "of_the of_and of_but the_to the_the\n"
     ]
    }
   ],
   "source": [
    "text4.common_contexts([\"war\", \"freedom\"], num=5)"
   ]
  },
  {
   "cell_type": "markdown",
   "metadata": {},
   "source": [
    "Location of a word in the text: how many spaces from the beginning does it appear? \n",
    "\n",
    "This positional information can be displayed using a dispersion plot. \n",
    "\n",
    "You need NumPy and Matplotlib. \n"
   ]
  },
  {
   "cell_type": "code",
   "execution_count": 28,
   "metadata": {},
   "outputs": [
    {
     "name": "stdout",
     "output_type": "stream",
     "text": [
      "Populating the interactive namespace from numpy and matplotlib\n"
     ]
    }
   ],
   "source": [
    "# Start pylab inline mode, so figures will appear in the notebook\n",
    "%pylab inline"
   ]
  },
  {
   "cell_type": "code",
   "execution_count": 29,
   "metadata": {},
   "outputs": [
    {
     "name": "stdout",
     "output_type": "stream",
     "text": [
      "Object `dispersion_plot` not found.\n"
     ]
    }
   ],
   "source": [
    "dispersion_plot?"
   ]
  },
  {
   "cell_type": "code",
   "execution_count": 30,
   "metadata": {},
   "outputs": [
    {
     "data": {
      "image/png": "[encoded data removed]",
      "text/plain": [
       "<matplotlib.figure.Figure at 0x5c2c4a8>"
      ]
     },
     "metadata": {},
     "output_type": "display_data"
    }
   ],
   "source": [
    "import matplotlib.pyplot as plt\n",
    "\n",
    "from nltk.draw.dispersion import dispersion_plot\n",
    "dispersion_plot(text4, [\"citizens\", \"democracy\", \"freedom\", \"war\", \"America\", \"vote\"])"
   ]
  },
  {
   "cell_type": "markdown",
   "metadata": {},
   "source": [
    "#### Counting\n",
    "The length of a text from start to finish, in terms of the words and punctuation symbols that appear. All tokens. \n",
    "\n",
    "\n",
    "\n",
    "\n",
    "\n"
   ]
  },
  {
   "cell_type": "code",
   "execution_count": 31,
   "metadata": {},
   "outputs": [
    {
     "data": {
      "text/plain": [
       "145735"
      ]
     },
     "execution_count": 31,
     "metadata": {},
     "output_type": "execute_result"
    }
   ],
   "source": [
    "len(text4)"
   ]
  },
  {
   "cell_type": "markdown",
   "metadata": {},
   "source": [
    "Count how often a word occurs in a text:\n"
   ]
  },
  {
   "cell_type": "code",
   "execution_count": 32,
   "metadata": {},
   "outputs": [
    {
     "data": {
      "text/plain": [
       "158"
      ]
     },
     "execution_count": 32,
     "metadata": {},
     "output_type": "execute_result"
    }
   ],
   "source": [
    "text4.count(\"war\")"
   ]
  },
  {
   "cell_type": "markdown",
   "metadata": {},
   "source": [
    "How many distinct words does the book of Genesis contain? \n",
    "The vocabulary of a text is just the set of tokens that it uses. "
   ]
  },
  {
   "cell_type": "code",
   "execution_count": 33,
   "metadata": {},
   "outputs": [
    {
     "data": {
      "text/plain": [
       "14"
      ]
     },
     "execution_count": 33,
     "metadata": {},
     "output_type": "execute_result"
    }
   ],
   "source": [
    "len(set(text4)) #types\n",
    "\n",
    "# Each word used on average x times. Richness of the text. \n",
    "len(text4) / len(set(text4)) "
   ]
  },
  {
   "cell_type": "markdown",
   "metadata": {},
   "source": [
    "#### Define functions: \n",
    "\n",
    "What do you think they do? \n"
   ]
  },
  {
   "cell_type": "code",
   "execution_count": 34,
   "metadata": {
    "collapsed": true
   },
   "outputs": [],
   "source": [
    "def lexical_diversity(text):\n",
    "    \"\"\"\n",
    "    \"\"\"\n",
    "    return len(set(text))/float(len(text))"
   ]
  },
  {
   "cell_type": "code",
   "execution_count": 35,
   "metadata": {
    "collapsed": true
   },
   "outputs": [],
   "source": [
    "def percentage(count, total):\n",
    "    return count/float(total)"
   ]
  },
  {
   "cell_type": "markdown",
   "metadata": {},
   "source": [
    "Then use the defined functions:"
   ]
  },
  {
   "cell_type": "code",
   "execution_count": 36,
   "metadata": {},
   "outputs": [
    {
     "data": {
      "text/plain": [
       "0.06692970116993173"
      ]
     },
     "execution_count": 36,
     "metadata": {},
     "output_type": "execute_result"
    }
   ],
   "source": [
    "from __future__ import division #to get precise (float) division in Python 2.x. In Python 3.0 you get it automatically. \n",
    "lexical_diversity(text4)"
   ]
  },
  {
   "cell_type": "code",
   "execution_count": 37,
   "metadata": {},
   "outputs": [
    {
     "data": {
      "text/plain": [
       "0.06368408412529591"
      ]
     },
     "execution_count": 37,
     "metadata": {},
     "output_type": "execute_result"
    }
   ],
   "source": [
    "percentage(text4.count('the'), len(text4)) "
   ]
  },
  {
   "cell_type": "markdown",
   "metadata": {},
   "source": [
    "#### Simple statistics\n",
    "\n",
    "Counting Words Appearing in a Text (a frequency distribution). \n"
   ]
  },
  {
   "cell_type": "code",
   "execution_count": 38,
   "metadata": {},
   "outputs": [
    {
     "data": {
      "text/plain": [
       "[(u'writings', 1),\n",
       " (u'four', 32),\n",
       " (u'Does', 1),\n",
       " (u'aegis', 3),\n",
       " (u'hanging', 1),\n",
       " (u'Until', 3),\n",
       " (u'aggression', 13),\n",
       " (u'looking', 11),\n",
       " (u'granting', 1),\n",
       " (u'aggregations', 2)]"
      ]
     },
     "execution_count": 38,
     "metadata": {},
     "output_type": "execute_result"
    }
   ],
   "source": [
    "from nltk import FreqDist\n",
    "fdist1 = FreqDist(text4)\n",
    "fdist1.items()[:10]"
   ]
  },
  {
   "cell_type": "code",
   "execution_count": 39,
   "metadata": {},
   "outputs": [
    {
     "data": {
      "text/plain": [
       "[u'writings', u'four', u'Does']"
      ]
     },
     "execution_count": 39,
     "metadata": {},
     "output_type": "execute_result"
    }
   ],
   "source": [
    "vocabulary1 = fdist1.keys() # list of all the distinct types in the text\n",
    "vocabulary1[:3] # look at first 3"
   ]
  },
  {
   "cell_type": "markdown",
   "metadata": {},
   "source": [
    "- words that occur only once, called hapaxes: "
   ]
  },
  {
   "cell_type": "code",
   "execution_count": 40,
   "metadata": {},
   "outputs": [
    {
     "name": "stdout",
     "output_type": "stream",
     "text": [
      "[u'writings', u'Does', u'hanging', u'granting', u'refunding', u'impoverishment', u'sinking', u'shielding', u'pages', u'appropriation', u'politician', u'internally', u'prize', u'Xthough', u'persisted', u'deter', u'inheritances', u'immunities', u'straight', u'nigh']\n"
     ]
    }
   ],
   "source": [
    "print fdist1.hapaxes()[:20]"
   ]
  },
  {
   "cell_type": "markdown",
   "metadata": {},
   "source": [
    " \n",
    "- words that meet a condition, are long for example\n",
    "    "
   ]
  },
  {
   "cell_type": "code",
   "execution_count": 41,
   "metadata": {},
   "outputs": [
    {
     "name": "stdout",
     "output_type": "stream",
     "text": [
      "[u'RESPONSIBILITIES', u'antiphilosophists', u'constitutionally', u'contradistinction', u'discountenancing', u'disqualification', u'enthusiastically', u'instrumentalities', u'internationality', u'irresponsibility', u'misappropriation', u'misrepresentation', u'misunderstanding', u'responsibilities', u'sentimentalizing', u'transcontinental', u'uncharitableness', u'unconstitutional']\n"
     ]
    }
   ],
   "source": [
    "V = set(text4)\n",
    "long_words = [w for w in V if len(w) > 15]\n",
    "print sorted(long_words)"
   ]
  },
  {
   "cell_type": "markdown",
   "metadata": {},
   "source": [
    "- words that characterize a text (are relatively long, and occur frequently)"
   ]
  },
  {
   "cell_type": "code",
   "execution_count": 42,
   "metadata": {},
   "outputs": [
    {
     "data": {
      "text/plain": [
       "[u'Administration',\n",
       " u'accountability',\n",
       " u'administration',\n",
       " u'circumstances',\n",
       " u'consciousness',\n",
       " u'consideration',\n",
       " u'considerations',\n",
       " u'constitutional',\n",
       " u'controversies',\n",
       " u'determination',\n",
       " u'distinguished',\n",
       " u'encouragement',\n",
       " u'establishment',\n",
       " u'extraordinary',\n",
       " u'fortifications',\n",
       " u'indispensable',\n",
       " u'international',\n",
       " u'opportunities',\n",
       " u'participation',\n",
       " u'recommendations',\n",
       " u'representative',\n",
       " u'representatives',\n",
       " u'responsibilities',\n",
       " u'responsibility',\n",
       " u'righteousness',\n",
       " u'understanding']"
      ]
     },
     "execution_count": 42,
     "metadata": {},
     "output_type": "execute_result"
    }
   ],
   "source": [
    "fdist = FreqDist(text4)\n",
    "sorted([w for w in set(text4) if len(w) > 12 and fdist[w] > 7])"
   ]
  },
  {
   "cell_type": "markdown",
   "metadata": {},
   "source": [
    "#### Conditional frequency distributions\n",
    "\n",
    "Working with the inaugural corpus:\n",
    "\n",
    "\n",
    "\n",
    "\n",
    "\n",
    "\n",
    "\n",
    "\n",
    "\n",
    "\n",
    "\n",
    "\n",
    "\n"
   ]
  },
  {
   "cell_type": "code",
   "execution_count": 43,
   "metadata": {},
   "outputs": [
    {
     "name": "stdout",
     "output_type": "stream",
     "text": [
      "[u'1973-Nixon.txt', u'1977-Carter.txt', u'1981-Reagan.txt', u'1985-Reagan.txt', u'1989-Bush.txt', u'1993-Clinton.txt', u'1997-Clinton.txt', u'2001-Bush.txt', u'2005-Bush.txt', u'2009-Obama.txt']\n"
     ]
    }
   ],
   "source": [
    "from nltk.corpus import inaugural\n",
    "inaugural.fileids()[:2]\n",
    "\n",
    "print [fileid for fileid in inaugural.fileids()][-10:] \n",
    "# Get the first 4 characters of the file IDs"
   ]
  },
  {
   "cell_type": "markdown",
   "metadata": {},
   "source": [
    "How are the words \"America\" and \"citizen\" are used over time?"
   ]
  },
  {
   "cell_type": "code",
   "execution_count": 44,
   "metadata": {},
   "outputs": [
    {
     "data": {
      "image/png": "[encoded data removed]",
      "text/plain": [
       "<matplotlib.figure.Figure at 0x25954518>"
      ]
     },
     "metadata": {},
     "output_type": "display_data"
    }
   ],
   "source": [
    "cfd = nltk.ConditionalFreqDist(\n",
    "    (target, fileid[:4])\n",
    "    for fileid in inaugural.fileids()\n",
    "    for w in inaugural.words(fileid)\n",
    "    for target in ['america', 'war']\n",
    "    if w.lower().startswith(target))\n",
    "cfd.plot()"
   ]
  },
  {
   "cell_type": "markdown",
   "metadata": {},
   "source": [
    "Working with the news database corpus:\n"
   ]
  },
  {
   "cell_type": "code",
   "execution_count": 45,
   "metadata": {
    "collapsed": true
   },
   "outputs": [],
   "source": [
    "from nltk.corpus import brown\n",
    "brown?"
   ]
  },
  {
   "cell_type": "code",
   "execution_count": 46,
   "metadata": {
    "scrolled": true
   },
   "outputs": [
    {
     "name": "stdout",
     "output_type": "stream",
     "text": [
      "[u'The', u'Fulton', u'County', u'Grand', u'Jury', ...]\n"
     ]
    }
   ],
   "source": [
    "news_words = brown.words(categories=\"news\") \n",
    "print(news_words) # get the first words in the corpus"
   ]
  },
  {
   "cell_type": "code",
   "execution_count": 47,
   "metadata": {},
   "outputs": [
    {
     "data": {
      "text/plain": [
       "100554"
      ]
     },
     "execution_count": 47,
     "metadata": {},
     "output_type": "execute_result"
    }
   ],
   "source": [
    "len(news_words)"
   ]
  },
  {
   "cell_type": "code",
   "execution_count": 48,
   "metadata": {},
   "outputs": [
    {
     "data": {
      "image/png": "[encoded data removed]",
      "text/plain": [
       "<matplotlib.figure.Figure at 0x263b8cf8>"
      ]
     },
     "metadata": {},
     "output_type": "display_data"
    }
   ],
   "source": [
    "freq = nltk.FreqDist(news_words)\n",
    "freq.plot(30) # frequency of most commonly used words in the corpus"
   ]
  },
  {
   "cell_type": "markdown",
   "metadata": {},
   "source": [
    "How are different verbs used in different news genres? "
   ]
  },
  {
   "cell_type": "code",
   "execution_count": 49,
   "metadata": {},
   "outputs": [
    {
     "name": "stdout",
     "output_type": "stream",
     "text": [
      "news <FreqDist with 3 samples and 248 outcomes>\n",
      "government <FreqDist with 3 samples and 411 outcomes>\n",
      "romance <FreqDist with 3 samples and 123 outcomes>\n"
     ]
    }
   ],
   "source": [
    "from nltk import FreqDist\n",
    "\n",
    "verbs = [\"should\", \"may\", \"can\"]\n",
    "genres = [\"news\", \"government\", \"romance\"]\n",
    "for g in genres:\n",
    "    words=brown.words(categories=g)\n",
    "    freq=FreqDist([w.lower() for w in words if w.lower() in verbs])\n",
    "    print g, freq\n"
   ]
  },
  {
   "cell_type": "markdown",
   "metadata": {},
   "source": [
    "#### Stopwords\n",
    "\n",
    "What percentage of the words in a corpus are NOT stopwords? \n"
   ]
  },
  {
   "cell_type": "code",
   "execution_count": 50,
   "metadata": {},
   "outputs": [
    {
     "data": {
      "text/plain": [
       "153"
      ]
     },
     "execution_count": 50,
     "metadata": {},
     "output_type": "execute_result"
    }
   ],
   "source": [
    "from nltk.corpus import stopwords\n",
    "len(stopwords.words('english'))"
   ]
  },
  {
   "cell_type": "code",
   "execution_count": 51,
   "metadata": {
    "collapsed": true
   },
   "outputs": [],
   "source": [
    "def content_fraction(text):\n",
    "    \"\"\"\n",
    "    \"\"\"\n",
    "    stopwords = nltk.corpus.stopwords.words('english')\n",
    "    content = [w for w in text if w.lower() not in stopwords]\n",
    "    return len(content) / len(text)\n"
   ]
  },
  {
   "cell_type": "code",
   "execution_count": 52,
   "metadata": {},
   "outputs": [
    {
     "name": "stdout",
     "output_type": "stream",
     "text": [
      "0.52285998559\n"
     ]
    }
   ],
   "source": [
    "print content_fraction(nltk.corpus.inaugural.words())"
   ]
  },
  {
   "cell_type": "code",
   "execution_count": 53,
   "metadata": {},
   "outputs": [
    {
     "data": {
      "text/plain": [
       "0.5931344687183515"
      ]
     },
     "execution_count": 53,
     "metadata": {},
     "output_type": "execute_result"
    }
   ],
   "source": [
    "content_fraction(nltk.corpus.brown.words())"
   ]
  },
  {
   "cell_type": "markdown",
   "metadata": {},
   "source": [
    "## Importing and accessing your own text"
   ]
  },
  {
   "cell_type": "markdown",
   "metadata": {},
   "source": [
    "Useful libraries: "
   ]
  },
  {
   "cell_type": "code",
   "execution_count": 54,
   "metadata": {
    "collapsed": true
   },
   "outputs": [],
   "source": [
    "import nltk, re, pprint\n",
    "from urllib import urlopen"
   ]
  },
  {
   "cell_type": "markdown",
   "metadata": {},
   "source": [
    "### User input\n"
   ]
  },
  {
   "cell_type": "code",
   "execution_count": 55,
   "metadata": {},
   "outputs": [
    {
     "name": "stdout",
     "output_type": "stream",
     "text": [
      "Enter some text: chandra\n"
     ]
    }
   ],
   "source": [
    "s = raw_input(\"Enter some text: \")"
   ]
  },
  {
   "cell_type": "markdown",
   "metadata": {},
   "source": [
    "### Online articles\n",
    "Getting text out of HTML is a sufficiently common task that NLTK provides a helper function nltk.clean_html(), which takes an HTML string and returns raw text."
   ]
  },
  {
   "cell_type": "code",
   "execution_count": 56,
   "metadata": {
    "collapsed": true
   },
   "outputs": [],
   "source": [
    "from bs4 import BeautifulSoup"
   ]
  },
  {
   "cell_type": "code",
   "execution_count": 57,
   "metadata": {},
   "outputs": [],
   "source": [
    "url = \"http://www.bbc.co.uk/news/education-24367153\"\n",
    "html = urlopen(url).read()\n",
    "soup = BeautifulSoup(html, 'html.parser')"
   ]
  },
  {
   "cell_type": "code",
   "execution_count": 58,
   "metadata": {
    "collapsed": true
   },
   "outputs": [],
   "source": [
    "raw = BeautifulSoup.get_text(soup)  "
   ]
  },
  {
   "cell_type": "code",
   "execution_count": 59,
   "metadata": {},
   "outputs": [
    {
     "data": {
      "text/plain": [
       "u'\\n\\n\\n\\n\\nLondon top city in global university rankings - BBC News\\n\\n\\n\\n\\n\\n\\n\\n\\n\\n\\n\\n\\n\\n\\n\\n\\n\\n\\n\\n\\n\\n\\n\\n\\n\\n\\n\\n\\n\\n\\n\\n\\n\\n\\n    {\"@context\":\"http:\\\\/\\\\/schema.org\",\"@type\":\"ReportageNewsArticle\",\"url\":\"http:\\\\/\\\\/www.bbc.co.uk\\\\/news\\\\/education-24367153\",\"publisher\":{\"@type\":\"NewsMediaOrganization\",\"name\":\"BBC News\",\"publishingPrinciples\":\"http:\\\\/\\\\/www.bbc.co.uk\\\\/news\\\\/help-41670342\",\"logo\":{\"@type\":\"ImageObject\",\"url\":\"http:\\\\/\\\\/www.bbc.co.uk\\\\/news\\\\/special\\\\/2015\\\\/newsspec_10857\\\\/bbc_news_logo.png?cb=1\"}},\"datePublished\":\"2013-10-03T11:37:32+01:00\",\"dateModified\":\"2013-10-03T11:37:32+01:00\",\"headline\":\"London top city in university table\",\"image\":{\"@type\":\"ImageObject\",\"width\":720,\"height\":405,\"url\":\"https:\\\\/\\\\/ichef.bbci.co.uk\\\\/news\\\\/720\\\\/media\\\\/images\\\\/70240000\\\\/jpg\\\\/_70240062_018409458-1.jpg\"},\"thumbnailUrl\":\"https:\\\\/\\\\/ichef-1.bbci.co.uk\\\\/news\\\\/208\\\\/media\\\\/images\\\\/70240000\\\\/jpg\\\\/_70240062_018409458-1.jpg\",\"author\":{\"@type\":\"Person\",\"name\":\"Sean Coughlan\"},\"mainEntityOfPage\":\"http:\\\\/\\\\/www.bbc.co.uk\\\\/news\\\\/education-24367153\"}\\n    \\n\\n\\n\\n\\n\\n\\n\\n\\n\\n\\n\\n\\n\\n\\nvar _sf_startpt=(new Date()).getTime()\\n\\n        (function() {\\n            if (navigator.userAgent.match(/IEMobile\\\\/10\\\\.0/)) {\\n                var msViewportStyle = document.createElement(\"style\");\\n                msViewportStyle.appendChild(\\n                    document.createTextNode(\"@-ms-viewport{width:auto!important}\")\\n                );\\n                document.getElementsByTagName(\"head\")[0].appendChild(msViewportStyle);\\n            }\\n        })();\\n    \\nwindow.fig = window.fig || {}; window.fig.async = true;\\n\\n  window.bbcredirection={geo:true}\\n\\n\\n\\n\\n    bbcRequireMap = {\"jquery-1\":\"http://static.bbci.co.uk/frameworks/jquery/0.4.1/sharedmodules/jquery-1.7.2\", \"jquery-1.4\":\"http://static.bbci.co.uk/frameworks/jquery/0.4.1/sharedmodules/jquery-1.4\", \"jquery-1.9\":\"http://static.bbci.co.uk/frameworks/jquery/0.4.1/sharedmodules/jquery-1.9.1\", \"jquery-1.12\":\"http://static.bbci.co.uk/frameworks/jquery/0.4.1/sharedmodules/jquery-1.12.0.min\", \"jquery-2.2\":\"http://static.bbci.co.uk/frameworks/jquery/0.4.1/sharedmodules/jquery-2.2.0.min\", \"istats-1\":\"//nav.files.bbci.co.uk/nav-analytics/0.1.0-43/js/istats-1\", \"swfobject-2\":\"http://static.bbci.co.uk/frameworks/swfobject/0.1.10/sharedmodules/swfobject-2\", \"demi-1\":\"http://static.bbci.co.uk/frameworks/demi/0.10.1/sharedmodules/demi-1\", \"gelui-1\":\"http://static.bbci.co.uk/frameworks/gelui/0.9.13/sharedmodules/gelui-1\", \"cssp!gelui-1/overlay\":\"http://static.bbci.co.uk/frameworks/gelui/0.9.13/sharedmodules/gelui-1/overlay.css\", \"relay-1\":\"http://static.bbci.co.uk/frameworks/relay/0.2.6/sharedmodules/relay-1\", \"clock-1\":\"http://static.bbci.co.uk/frameworks/clock/0.1.9/sharedmodules/clock-1\", \"canvas-clock-1\":\"http://static.bbci.co.uk/frameworks/clock/0.1.9/sharedmodules/canvas-clock-1\", \"cssp!clock-1\":\"http://static.bbci.co.uk/frameworks/clock/0.1.9/sharedmodules/clock-1.css\", \"jssignals-1\":\"http://static.bbci.co.uk/frameworks/jssignals/0.3.6/modules/jssignals-1\", \"jcarousel-1\":\"http://static.bbci.co.uk/frameworks/jcarousel/0.1.10/modules/jcarousel-1\", \"bump-3\":\"//emp.bbci.co.uk/emp/bump-3/bump-3\"}; require({ baseUrl: \\'http://static.bbci.co.uk/\\', paths: bbcRequireMap, waitSeconds: 30 });  /*<![CDATA[*/ if (typeof bbccookies_flag === \\'undefined\\') { bbccookies_flag = \\'ON\\'; } showCTA_flag = true; cta_enabled = (showCTA_flag && (bbccookies_flag === \\'ON\\')); (function(){var m=\"ckns_policy\",q=\"Thu, 01 Jan 1970 00:00:00 GMT\",i={ads:true,personalisation:true,performance:true,necessary:true};function c(u){if(c.cache[u]){return c.cache[u]}var t=u.split(\"/\"),v=[\"\"];do{v.unshift((t.join(\"/\")||\"/\"));t.pop()}while(v[0]!==\"/\");c.cache[u]=v;return v}c.cache={};function a(u){if(a.cache[u]){return a.cache[u]}var v=u.split(\".\"),t=[];while(v.length&&\"|co.uk|com|\".indexOf(\"|\"+v.join(\".\")+\"|\")===-1){if(v.length){t.push(v.join(\".\"))}v.shift()}c.cache[u]=t;return t}a.cache={};function s(t,y,u){var E=[\"\"].concat(a(window.location.hostname)),B=c(window.location.pathname),D=\"\",w,C;for(var x=0,A=E.length;x<A;x++){w=E[x];for(var v=0,z=B.length;v<z;v++){C=B[v];D=t+\"=\"+y+\";\"+(w?\"domain=\"+w+\";\":\"\")+(C?\"path=\"+C+\";\":\"\")+(u?\"expires=\"+u+\";\":\"\");bbccookies.set(D,true)}}}window.bbccookies={POLICY_REFRESH_DATE_MILLIS:new Date(2015,4,21,0,0,0,0).getTime(),POLICY_EXPIRY_COOKIENAME:\"ckns_policy_exp\",_setEverywhere:s,cookiesEnabled:function(){var t=\"ckns_testcookie\"+Math.floor(Math.random()*100000);this.set(t+\"=1\");if(this.get().indexOf(t)>-1){e(t);return true}return false},get:function(){return document.cookie},getCrumb:function(t){if(!t){return null}return decodeURIComponent(document.cookie.replace(new RegExp(\"(?:(?:^|.*;)\\\\\\\\s*\"+encodeURIComponent(t).replace(/[\\\\-\\\\.\\\\+\\\\*]/g,\"\\\\\\\\$&\")+\"\\\\\\\\s*\\\\\\\\=\\\\\\\\s*([^;]*).*$)|^.*$\"),\"$1\"))||null},policyRequiresRefresh:function(){var u=new Date();u.setHours(0);u.setMinutes(0);u.setSeconds(0);u.setMilliseconds(0);if(bbccookies.POLICY_REFRESH_DATE_MILLIS<=u.getTime()){var t=bbccookies.getCrumb(bbccookies.POLICY_EXPIRY_COOKIENAME);if(t){t=new Date(parseInt(t));t.setYear(t.getFullYear()-1);return bbccookies.POLICY_REFRESH_DATE_MILLIS>=t.getTime()}else{return true}}else{return false}},_setPolicy:function(t){return f.apply(this,arguments)},readPolicy:function(){return l.apply(this,arguments)},_deletePolicy:function(){s(m,\"\",q)},_isConfirmed:function(){return n()!==null},_acceptsAll:function(){var t=l();return t&&!(j(t).indexOf(\"0\")>-1)},_getCookieName:function(){return b.apply(this,arguments)},_showPrompt:function(){var t=((!this._isConfirmed()||this.policyRequiresRefresh())&&window.cta_enabled&&this.cookiesEnabled()&&!window.bbccookies_disable);return(window.orb&&window.orb.fig)?t&&(window.orb.fig(\"no\")||window.orb.fig(\"ck\")):t},_getPolicy:this.readPolicy};function b(u){var t=(\"\"+u).match(/^([^=]+)(?==)/);return(t&&t.length?t[0]:\"\")}function j(t){return\"\"+(t.ads?1:0)+(t.personalisation?1:0)+(t.performance?1:0)}function f(x){if(typeof x===\"undefined\"){x=i}if(typeof arguments[0]===\"string\"){var u=arguments[0],w=arguments[1];if(u===\"necessary\"){w=true}x=l();x[u]=w}else{if(typeof arguments[0]===\"object\"){x.necessary=true}}var v=new Date();v.setYear(v.getFullYear()+1);bbccookies.set(m+\"=\"+j(x)+\";domain=bbc.co.uk;path=/;expires=\"+v.toUTCString()+\";\");bbccookies.set(m+\"=\"+j(x)+\";domain=bbc.com;path=/;expires=\"+v.toUTCString()+\";\");bbccookies.set(m+\"=\"+j(x)+\";domain=bbci.co.uk;path=/;expires=\"+v.toUTCString()+\";\");var t=new Date(v.getTime());t.setMonth(t.getMonth()+1);bbccookies.set(bbccookies.POLICY_EXPIRY_COOKIENAME+\"=\"+v.getTime()+\";domain=bbc.co.uk;path=/;expires=\"+t.toUTCString()+\";\");bbccookies.set(bbccookies.POLICY_EXPIRY_COOKIENAME+\"=\"+v.getTime()+\";domain=bbc.com;path=/;expires=\"+t.toUTCString()+\";\");bbccookies.set(bbccookies.POLICY_EXPIRY_COOKIENAME+\"=\"+v.getTime()+\";domain=bbci.co.uk;path=/;expires=\"+t.toUTCString()+\";\");return x}function o(t){if(t===null){return null}var u=t.split(\"\");return{ads:!!+u[0],personalisation:!!+u[1],performance:!!+u[2],necessary:true}}function n(){var t=new RegExp(\"(?:^|; ?)\"+m+\"=(\\\\\\\\d\\\\\\\\d\\\\\\\\d)($|;)\"),u=document.cookie.match(t);if(!u){return null}return u[1]}function l(t){var u=o(n());if(!u){u=i}if(t){return u[t]}else{return u}}function e(t){return document.cookie=t+\"=;expires=\"+q+\";\"}var g=!(window.bbccookies_flag===\"ON\"&&!bbccookies._acceptsAll()&&!window.bbccookies_disable);var k={},d={\"personalisation\":\"ckps_.+|X-AB-iplayer-.+|ACTVTYMKR|BBC_EXAMPLE_COOKIE|BBCIplayer|BBCiPlayerM|BBCIplayerSession|BBCMediaselector|BBCPostcoder|bbctravel|CGISESSID|ed|food-view|forceDesktop|h4|IMRID|locserv|MyLang|myloc|NTABS|ttduserPrefs|V5|WEATHER|BBCScienceDiscoveryPlaylist_.+|bitratePref|correctAnswerCount|genreCookie|highestQuestionScore|incorrectAnswerCount|longestStreak|MSCSProfile|programmes-oap-expanded|quickestAnswer|score|servicePanel|slowestAnswer|totalTimeForAllFormatted|v|BBCwords|score|correctAnswerCount|highestQuestionScore|hploc|BGUID|BBCWEACITY|mstouch|myway|BBCNewsCustomisation|cbbc_anim|cbeebies_snd|bbcsr_usersx|cbeebies_rd|BBC-Latest_Blogs|zh-enc|pref_loc|m|bbcEmp.+|recs-.+|_lvd2|_lvs2|tick|_fcap_CAM1|_rcc2\",\"performance\":\"ckpf_.+|optimizely.*|BBCLiveStatsClick|id|_em_.+|cookies_enabled|mbox|mbox-admin|mc_.+|omniture_unique|s_.+|sc_.+|adpolicyAdDisplayFrequency|s1|ns_session|ns_cookietest|ns_ux|NO-SA|tr_pr1|gvsurvey|bbcsurvey|si_v|sa_labels|obuid|mm_.+|mmid|mmcore.+|mmpa.+\",\"ads\":\"ckad_.+|rsi_segs|c\",\"necessary\":\"ckns_.+|BBC-UID|blq\\\\\\\\.dPref|SSO2-UID|BBC-H2-User|rmRpDetectReal|bbcComSurvey|IDENTITY_ENV|IDENTITY|IDENTITY-HTTPS|IDENTITY_SESSION|BBCCOMMENTSMODULESESSID|bbcBump.+|IVOTE_VOTE_HISTORY|pulse|BBCPG|BBCPGstat|ecos\\\\\\\\.dt\"};function r(){var x=document.cookie.replace(/; +/g,\";\").split(\";\"),u,v=[];for(var w=0,t=x.length;w<t;w++){u=x[w];v.push(bbccookies._getCookieName(u))}return v}function h(w){var v=JSON.stringify(w);if(typeof(k[v])!==\"undefined\"){return k[v]}var u=\"\";for(var t in w){if(w.hasOwnProperty(t)&&d[t]){if(w[t]===true){u+=(u?\"|\":\"\")+d[t]}}}k[v]=new RegExp(\"^(\"+(u?u:\".*\")+\")$\",\"i\");return k[v]}bbccookies.getPolicyExpiryDateTime=function(){return bbccookies.POLICY_EXPIRY_COOKIENAME};bbccookies.purge=function(){var u=bbccookies.readPolicy(),w=r(),x;for(var v=0,t=w.length;v<t;v++){if(!bbccookies.isAllowed(w[v],u)){x=new Date();x.setTime(0);x=x.toUTCString();s(w[v],\"deleted\",x)}}};function p(){if(g){return}bbccookies.purge();contentLoaded(window,bbccookies.purge);if(window.addEventListener){window.addEventListener(\"beforeunload\",bbccookies.purge,false)}else{if(window.attachEvent){window.attachEvent(\"onbeforeunload\",bbccookies.purge)}else{window.onbeforeunload=bbccookies.purge}}}bbccookies.set=function(u,t){if(g){return document.cookie=u}var v=bbccookies._getCookieName(u);if(t||bbccookies.isAllowed(v)){return document.cookie=u}return null};bbccookies.isAllowed=function(v){var u=bbccookies.readPolicy();var t=h(u);return t.test(v)};p()})();\\n/*!\\n * contentloaded.js\\n *\\n * Author: Diego Perini (diego.perini at gmail.com)\\n * Summary: cross-browser wrapper for DOMContentLoaded\\n * Updated: 20101020\\n * License: MIT\\n * Version: 1.2\\n *\\n * URL:\\n * http://javascript.nwbox.com/ContentLoaded/\\n * http://javascript.nwbox.com/ContentLoaded/MIT-LICENSE\\n *\\n */\\nfunction contentLoaded(d,i){var c=false,h=true,k=d.document,j=k.documentElement,a=k.addEventListener,n=a?\"addEventListener\":\"attachEvent\",l=a?\"removeEventListener\":\"detachEvent\",b=a?\"\":\"on\",m=function(o){if(o.type===\"readystatechange\"&&k.readyState!=\"complete\"){return}(o.type===\"load\"?d:k)[l](b+o.type,m,false);if(!c&&(c=true)){i.call(d,o.type||o)}},g=function(){try{j.doScroll(\"left\")}catch(o){setTimeout(g,50);return}m(\"poll\")};if(k.readyState===\"complete\"){i.call(d,\"lazy\")}else{if(!a&&j.doScroll){try{h=!d.frameElement}catch(f){}if(h){g()}}k[n](b+\"DOMContentLoaded\",m,false);k[n](b+\"readystatechange\",m,false);d[n](b+\"load\",m,false)}}if(typeof(require)===\"function\"&&!require.defined(\"orb/cookies\")){define(\"orb/cookies\",function(){return window.bbccookies})}; /*]]>*/  define(\\'orb/cookies\\', function() { return window.bbccookies; });  /*<![CDATA[*/\\n(function(){window.orb={};window.orb.figState={ad:0,ap:0,ck:1,eu:1,mb:0,tb:0,uk:1,df:1};window.orb.fig=function(a){return(arguments.length)?window.orb.figState[a]:window.orb.figState};window.orb.fig.device={};window.orb.fig.geo={};window.orb.fig.user={};window.orb.fig.isDefault=function(){return window.orb.fig(\"df\")};window.orb.fig.device.isTablet=function(){return window.orb.fig(\"tb\")};window.orb.fig.device.isMobile=function(){return window.orb.fig(\"mb\")};window.orb.fig.geo.isUK=function(){return window.orb.fig(\"uk\")};window.orb.fig.geo.isEU=function(){return window.orb.fig(\"eu\")};window.fig=window.fig||{};window.fig.manager={include:function(e){e=e||window;var g=false;var j=e.document,k=j.cookie,i=k.match(/(?:^|; ?)ckns_orb_fig=([^;]+)/),h;if(i){i=this.deserialise(decodeURIComponent(RegExp.$1));this.setFig(e,i)}if(window.fig.async&&typeof JSON!=\"undefined\"){var b=(document.cookie.match(\"(^|; )ckns_orb_cachedfig=([^;]*)\")||0)[2];h=b?JSON.parse(b):null;if(h){this.setFig(e,h);g=true}}var a=\"https://fig.bbc.co.uk/frameworks/fig/1/fig.js\";if(g){j.write(\\'<script src=\"\\'+a+\\'\" async><\\'+\"/script>\")}else{j.write(\\'<script src=\"\\'+a+\\'\"><\\'+\"/script>\")}},confirm:function(a){return true},setFig:function(a,b){(function(){a.orb=a.orb||{};a.orb.figState=b})()},deserialise:function(b){var a={};b.replace(/([a-z]{2}):([0-9]+)/g,function(){a[RegExp.$1]=+RegExp.$2});return a}}})();fig.manager.include();/*]]>*/\\n\\nwindow.bbcFlagpoles_istats=\"ON\",require.config({paths:{\"istats-1\":\"//nav.files.bbci.co.uk/nav-analytics/0.1.0-89/js/istats-1\",\"megavolt-client\":\"//nav.files.bbci.co.uk/nav-analytics/0.1.0-89/js/megavolt-client\"},config:{\"megavolt-client\":{baseUrl:\"https://mvt.api.bbc.com\"}}}),require([\"istats-1\",\"orb/cookies\"],function(e,t){if(t.isAllowed(\"s1\")){e.addCollector({name:\"default\",url:\"https://sa.bbc.co.uk/bbc/bbc/s\",separator:\"&\"});var a=\"news.education.story.24367153.page\";e.setCountername(a),window.istats_countername&&e.setCountername(window.istats_countername),e.addLabels(\"ml_name=webmodule&ml_version=89\")}});\\n/*<![CDATA[*/\\n    window.bbcFlagpoles_istats = \\'ON\\';\\n    window.orb = window.orb || {};\\n\\n    if (typeof bbccookies !== \\'undefined\\' && bbccookies.isAllowed(\\'s1\\')) {\\n        var istatsTrackingUrl = \\'//sa.bbc.co.uk/bbc/bbc/s?name=news.education.story.24367153.page&cps_asset_id=24367153&page_type=Story&section=%2Fnews%2Feducation&first_pub=2013-10-02T14%3A44%3A35%2B00%3A00&last_editorial_update=2013-10-03T10%3A37%3A32%2B00%3A00&curie=72048ba3-2970-6342-aeb1-ad64ac5f9914&title=London+top+city+in+global+university+rankings&for_nation=in&app_version=1.220.0&bbc_site=news&pal_route=asset&app_type=responsive&language=en-GB&pal_webapp=tabloid&prod_name=news&app_name=news\\';\\n        require([\\'istats-1\\'], function (istats) {\\n            var counterName = (window.istats_countername) ? window.istats_countername : istatsTrackingUrl.match(/[\\\\?&]name=([^&]*)/i)[1];\\n            istats.setCountername(counterName);\\n\\n            istats.addLabels(\\'cps_asset_id=24367153&page_type=Story&section=%2Fnews%2Feducation&first_pub=2013-10-02T14%3A44%3A35%2B00%3A00&last_editorial_update=2013-10-03T10%3A37%3A32%2B00%3A00&curie=72048ba3-2970-6342-aeb1-ad64ac5f9914&title=London+top+city+in+global+university+rankings&for_nation=in&app_version=1.220.0&bbc_site=news&pal_route=asset&app_type=responsive&language=en-GB&pal_webapp=tabloid&prod_name=news&app_name=news\\');\\n            var c = (document.cookie.match(/\\\\bckns_policy=(\\\\d\\\\d\\\\d)/) || []).pop() || \\'\\';\\n            istats.addLabels({\\n                                        \\'blq_s\\': \\'4d\\',\\n                    \\'blq_r\\': \\'2.7\\',\\n                    \\'blq_v\\': \\'default\\',\\n                    \\'blq_e\\': \\'pal\\',\\n                                        \\'bbc_mc\\': (c ? \\'ad\\' + c.charAt(0) + \\'ps\\' + c.charAt(1) + \\'pf\\' + c.charAt(2) : \\'not_set\\')\\n                }\\n            );\\n        });\\n    }\\n    /*]]>*/\\n/*<![CDATA[*/ (function(undefined){if(!window.bbc){window.bbc={}}var ROLLING_PERIOD_DAYS=30;window.bbc.Mandolin=function(id,segments,opts){var now=new Date().getTime(),storedItem,DEFAULT_START=now,DEFAULT_RATE=1,COOKIE_NAME=\"ckpf_mandolin\";opts=opts||{};this._id=id;this._segmentSet=segments;this._store=new window.window.bbc.Mandolin.Storage(COOKIE_NAME);this._opts=opts;this._rate=(opts.rate!==undefined)?+opts.rate:DEFAULT_RATE;this._startTs=(opts.start!==undefined)?new Date(opts.start).getTime():new Date(DEFAULT_START).getTime();this._endTs=(opts.end!==undefined)?new Date(opts.end).getTime():daysFromNow(ROLLING_PERIOD_DAYS);this._signupEndTs=(opts.signupEnd!==undefined)?new Date(opts.signupEnd).getTime():this._endTs;this._segment=null;if(typeof id!==\"string\"){throw new Error(\"Invalid Argument: id must be defined and be a string\")}if(Object.prototype.toString.call(segments)!==\"[object Array]\"){throw new Error(\"Invalid Argument: Segments are required.\")}if(opts.rate!==undefined&&(opts.rate<0||opts.rate>1)){throw new Error(\"Invalid Argument: Rate must be between 0 and 1.\")}if(this._startTs>this._endTs){throw new Error(\"Invalid Argument: end date must occur after start date.\")}if(!(this._startTs<this._signupEndTs&&this._signupEndTs<=this._endTs)){throw new Error(\"Invalid Argument: SignupEnd must be between start and end date\")}removeExpired.call(this,now);var overrides=window.bbccookies.get().match(/ckns_mandolin_setSegments=([^;]+)/);if(overrides!==null){eval(\"overrides = \"+decodeURIComponent(RegExp.$1)+\";\");if(overrides[this._id]&&this._segmentSet.indexOf(overrides[this._id])==-1){throw new Error(\"Invalid Override: overridden segment should exist in segments array\")}}if(overrides!==null&&overrides[this._id]){this._segment=overrides[this._id]}else{if((storedItem=this._store.getItem(this._id))){this._segment=storedItem.segment}else{if(this._startTs<=now&&now<this._signupEndTs&&now<=this._endTs&&this._store.isEnabled()===true){this._segment=pick(segments,this._rate);if(opts.end===undefined){this._store.setItem(this._id,{segment:this._segment})}else{this._store.setItem(this._id,{segment:this._segment,end:this._endTs})}log.call(this,\"mandolin_segment\")}}}log.call(this,\"mandolin_view\")};window.bbc.Mandolin.prototype.getSegment=function(){return this._segment};function log(actionType,params){var that=this;require([\"istats-1\"],function(istats){istats.log(actionType,that._id+\":\"+that._segment,params?params:{})})}function removeExpired(expires){var items=this._store.getItems(),expiresInt=+expires;for(var key in items){if(items[key].end!==undefined&&+items[key].end<expiresInt){this._store.removeItem(key)}}}function getLastExpirationDate(data){var winner=0,rollingExpire=daysFromNow(ROLLING_PERIOD_DAYS);for(var key in data){if(data[key].end===undefined&&rollingExpire>winner){winner=rollingExpire}else{if(+data[key].end>winner){winner=+data[key].end}}}return(winner)?new Date(winner):new Date(rollingExpire)}window.bbc.Mandolin.prototype.log=function(params){log.call(this,\"mandolin_log\",params)};window.bbc.Mandolin.prototype.convert=function(params){log.call(this,\"mandolin_convert\",params);this.convert=function(){}};function daysFromNow(n){var endDate;endDate=new Date().getTime()+(n*60*60*24)*1000;return endDate}function pick(segments,rate){var picked,min=0,max=segments.length-1;if(typeof rate===\"number\"&&Math.random()>rate){return null}do{picked=Math.floor(Math.random()*(max-min+1))+min}while(picked>max);return segments[picked]}window.bbc.Mandolin.Storage=function(name){validateCookieName(name);this._cookieName=name;this._isEnabled=(bbccookies.isAllowed(this._cookieName)===true&&bbccookies.cookiesEnabled()===true)};window.bbc.Mandolin.Storage.prototype.setItem=function(key,value){var storeData=this.getItems();storeData[key]=value;this.save(storeData);return value};window.bbc.Mandolin.Storage.prototype.isEnabled=function(){return this._isEnabled};window.bbc.Mandolin.Storage.prototype.getItem=function(key){var storeData=this.getItems();return storeData[key]};window.bbc.Mandolin.Storage.prototype.removeItem=function(key){var storeData=this.getItems();delete storeData[key];this.save(storeData)};window.bbc.Mandolin.Storage.prototype.getItems=function(){return deserialise(this.readCookie(this._cookieName)||\"\")};window.bbc.Mandolin.Storage.prototype.save=function(data){window.bbccookies.set(this._cookieName+\"=\"+encodeURIComponent(serialise(data))+\"; expires=\"+getLastExpirationDate(data).toUTCString()+\";\")};window.bbc.Mandolin.Storage.prototype.readCookie=function(name){var nameEq=name+\"=\",ca=window.bbccookies.get().split(\"; \"),i,c;validateCookieName(name);for(i=0;i<ca.length;i++){c=ca[i];if(c.indexOf(nameEq)===0){return decodeURIComponent(c.substring(nameEq.length,c.length))}}return null};function serialise(o){var str=\"\";for(var p in o){if(o.hasOwnProperty(p)){str+=\\'\"\\'+p+\\'\"\\'+\":\"+(typeof o[p]===\"object\"?(o[p]===null?\"null\":\"{\"+serialise(o[p])+\"}\"):\\'\"\\'+o[p].toString()+\\'\"\\')+\",\"}}return str.replace(/,\\\\}/g,\"}\").replace(/,$/g,\"\")}function deserialise(str){var o;str=\"{\"+str+\"}\";if(!validateSerialisation(str)){throw\"Invalid input provided for deserialisation.\"}eval(\"o = \"+str);return o}var validateSerialisation=(function(){var OBJECT_TOKEN=\"<Object>\",ESCAPED_CHAR=\\'\"\\\\\\\\n\\\\\\\\r\\\\\\\\u2028\\\\\\\\u2029\\\\\\\\u000A\\\\\\\\u000D\\\\\\\\u005C\\',ALLOWED_CHAR=\"([^\"+ESCAPED_CHAR+\"]|\\\\\\\\\\\\\\\\[\"+ESCAPED_CHAR+\"])\",KEY=\\'\"\\'+ALLOWED_CHAR+\\'+\"\\',VALUE=\\'(null|\"\\'+ALLOWED_CHAR+\\'*\"|\\'+OBJECT_TOKEN+\")\",KEY_VALUE=KEY+\":\"+VALUE,KEY_VALUE_SEQUENCE=\"(\"+KEY_VALUE+\",)*\"+KEY_VALUE,OBJECT_LITERAL=\"({}|{\"+KEY_VALUE_SEQUENCE+\"})\",objectPattern=new RegExp(OBJECT_LITERAL,\"g\");return function(str){if(str.indexOf(OBJECT_TOKEN)!==-1){return false}while(str.match(objectPattern)){str=str.replace(objectPattern,OBJECT_TOKEN)}return str===OBJECT_TOKEN}})();function validateCookieName(name){if(name.match(/ ,;/)){throw\"Illegal name provided, must be valid in browser cookie.\"}}})(); /*]]>*/   document.documentElement.className += (document.documentElement.className? \\' \\' : \\'\\') + \\'orb-js\\';  fig.manager.confirm();     var blq = { environment: function() { return \\'live\\'; } }   /*<![CDATA[*/ function oqsSurveyManager(w, flag) { if (flag !== \\'OFF\\' && (w.orb.fig(\"no\") || w.orb.fig(\"uk\"))) { w.document.write(\\'<script type=\"text/javascript\" src=\"http://static.bbci.co.uk/frameworks/barlesque/3.21.31/orb/4/script/vendor/edr.min.js\"><\\'+\\'/script>\\'); } } oqsSurveyManager(window, \\'ON\\'); /*]]>*/  \\n /*<![CDATA[*/ var _sf_startpt = (new Date()).getTime(); /*]]>*/ .bbccom_display_none{display:none;} /*<![CDATA[*/ var bbcdotcomConfig, googletag = googletag || {}; googletag.cmd = googletag.cmd || []; var bbcdotcom = false; (function(){ if(typeof require !== \\'undefined\\') { require({ paths:{ \"bbcdotcom\":\"http://static.bbci.co.uk/bbcdotcom/1.72.365/script\" } }); } })(); /*]]>*/  /*<![CDATA[*/ var bbcdotcom = { adverts: { keyValues: { set: function() {} } }, advert: { write: function () {}, show: function () {}, isActive: function () { return false; }, layout: function() { return { reset: function() {} } } }, config: { init: function() {}, isActive: function() {}, setSections: function() {}, isAdsEnabled: function() {}, setAdsEnabled: function() {}, isAnalyticsEnabled: function() {}, setAnalyticsEnabled: function() {}, setAssetPrefix: function() {}, setVersion: function () {}, setJsPrefix: function() {}, setSwfPrefix: function() {}, setCssPrefix: function() {}, setConfig: function() {}, getAssetPrefix: function() {}, getJsPrefix: function () {}, getSwfPrefix: function () {}, getCssPrefix: function () {} }, survey: { init: function(){ return false; } }, data: {}, init: function() {}, objects: function(str) { return false; }, locale: { set: function() {}, get: function() {} }, setAdKeyValue: function() {}, utils: { addEvent: function() {}, addHtmlTagClass: function() {}, log: function () {} }, addLoadEvent: function() {} }; /*]]>*/  /*<![CDATA[*/ (function(){ if (typeof orb !== \\'undefined\\' && typeof orb.fig === \\'function\\') { if (orb.fig(\\'ad\\') && orb.fig(\\'uk\\') == 0) { bbcdotcom.data = { ads: (orb.fig(\\'ad\\') ? 1 : 0), stats: (orb.fig(\\'uk\\') == 0 ? 1 : 0), statsProvider: orb.fig(\\'ap\\') }; } } else { document.write(\\'<script type=\"text/javascript\" src=\"\\'+(\\'https:\\' == document.location.protocol ? \\'https://www.bbc.com\\' : \\'http://tps.bbc.com\\')+\\'/wwscripts/data\">\\\\x3C/script>\\'); } })(); /*]]>*/  /*<![CDATA[*/ (function(){ if (typeof orb === \\'undefined\\' || typeof orb.fig !== \\'function\\') { bbcdotcom.data = { ads: bbcdotcom.data.a, stats: bbcdotcom.data.b, statsProvider: bbcdotcom.data.c }; } if (bbcdotcom.data.ads == 1) { document.write(\\'<script type=\"text/javascript\" src=\"\\'+(\\'https:\\' == document.location.protocol ? \\'https://www.bbc.com\\' : \\'http://www.bbc.com\\')+\\'/wwscripts/flag\">\\\\x3C/script>\\'); } })(); /*]]>*/  /*<![CDATA[*/ (function(){ if (window.bbcdotcom && (typeof bbcdotcom.flag == \\'undefined\\' || (typeof bbcdotcom.data.ads !== \\'undefined\\' && bbcdotcom.flag.a != 1))) { bbcdotcom.data.ads = 0; } if (/[?|&]ads/.test(window.location.href) || /(^|; )ads=on; /.test(document.cookie) || /; ads=on(; |$)/.test(document.cookie)) { bbcdotcom.data.ads = 1; bbcdotcom.data.stats = 1; } if (window.bbcdotcom && (bbcdotcom.data.ads == 1 || bbcdotcom.data.stats == 1)) { bbcdotcom.assetPrefix = \"http://static.bbci.co.uk/bbcdotcom/1.72.365/\"; if (/(sandbox|int)(.dev)*.bbc.co*/.test(window.location.href) || /[?|&]ads-debug/.test(window.location.href) || document.cookie.indexOf(\\'ads-debug=\\') !== -1) { document.write(\\'<script type=\"text/javascript\" src=\"http://static.bbci.co.uk/bbcdotcom/1.72.365/script/dist/bbcdotcom.dev.js\">\\\\x3C/script>\\'); } else { document.write(\\'<script type=\"text/javascript\" src=\"http://static.bbci.co.uk/bbcdotcom/1.72.365/script/dist/bbcdotcom.js\">\\\\x3C/script>\\'); } } })(); /*]]>*/  if (window.bbcdotcom && bbcdotcom.data.stats == 1) { document.write(\\'<link rel=\"dns-prefetch\" href=\"//secure-us.imrworldwide.com/\">\\'); document.write(\\'<link rel=\"dns-prefetch\" href=\"//me-cdn.effectivemeasure.net/\">\\'); document.write(\\'<link rel=\"dns-prefetch\" href=\"//ssc.api.bbc.com/\">\\'); } if (window.bbcdotcom && bbcdotcom.data.ads == 1) { document.write(\\'<link rel=\"dns-prefetch\" href=\"//www.googletagservices.com/\">\\'); }  if (window.bbcdotcom && bbcdotcom.data.ads == 1) { document.write(\\'<meta name=\"google-site-verification\" content=\"auTeTTwSt_KBY_4iDoR00Lwb7-qzx1IgzJy6ztaWgEI\" />\\'); }  /*<![CDATA[*/ (function(){ if (window.bbcdotcom && (bbcdotcom.data.ads == 1 || bbcdotcom.data.stats == 1)) { bbcdotcomConfig = {\"adFormat\":\"standard\",\"adKeyword\":\"\",\"adMode\":\"smart\",\"adsEnabled\":true,\"appAnalyticsSections\":\"news>education\",\"asyncEnabled\":true,\"disableInitialLoad\":false,\"advertInfoPageUrl\":\"http:\\\\/\\\\/www.bbc.com\\\\/privacy\\\\/cookies\\\\/international\\\\/\",\"advertisementText\":\"Advertisement\",\"analyticsEnabled\":true,\"appName\":\"tabloid\",\"assetPrefix\":\"http:\\\\/\\\\/static.bbci.co.uk\\\\/bbcdotcom\\\\/1.72.365\\\\/\",\"customAdParams\":[],\"customStatsParams\":[],\"headline\":\"London top city in global university rankings\",\"id\":\"24367153\",\"inAssociationWithText\":\"in association with\",\"keywords\":\"\",\"language\":\"\",\"orbTransitional\":false,\"outbrainEnabled\":true,\"adsenseEnabled\":true,\"adsportappEnabled\":true,\"lotameEnabled\":true,\"sherlockEnabled\":false,\"platinumEnabled\":false,\"tlNewsIndexEnabled\":false,\"tlNewsStoryEnabled\":true,\"tlNewsFpEnabled\":false,\"palEnv\":\"live\",\"productName\":\"\",\"sections\":[],\"comScoreEnabled\":true,\"comscoreSite\":\"bbc\",\"comscoreID\":\"19293874\",\"comscorePageName\":\"news.education-24367153\",\"slots\":\"\",\"sponsoredByText\":\"is sponsored by\",\"adsByGoogleText\":\"Ads by Google\",\"summary\":\"London has more universities ranked in the top 40 of a global table than any other city, although only one of the four makes the top 10.\",\"type\":\"STORY\",\"features\":{\"testfeature\":{\"name\":\"testfeature\",\"envs\":[\"sandbox\",\"int\",\"test\"],\"on\":true,\"options\":{},\"override\":null},\"lxadverts\":{\"name\":\"lxadverts\",\"envs\":[],\"on\":true,\"options\":{},\"override\":null}},\"staticBase\":\"\\\\/bbcdotcom\",\"staticHost\":\"http:\\\\/\\\\/static.bbci.co.uk\",\"staticVersion\":\"1.72.365\",\"staticPrefix\":\"http:\\\\/\\\\/static.bbci.co.uk\\\\/bbcdotcom\\\\/1.72.365\",\"dataHttp\":\"tps.bbc.com\",\"dataHttps\":\"www.bbc.com\",\"flagHttp\":\"www.bbc.co.uk\",\"flagHttps\":\"www.bbc.co.uk\",\"analyticsHttp\":\"sa.bbc.com\",\"analyticsHttps\":\"ssa.bbc.com\"}; bbcdotcom.config.init(bbcdotcomConfig, bbcdotcom.data, window.location, window.document); bbcdotcom.config.setAssetPrefix(\"http://static.bbci.co.uk/bbcdotcom/1.72.365/\"); bbcdotcom.config.setVersion(\"1.72.365\"); document.write(\\'<!--[if IE 7]><script type=\"text/javascript\">bbcdotcom.config.setIE7(true);\\\\x3C/script><![endif]-->\\'); document.write(\\'<!--[if IE 8]><script type=\"text/javascript\">bbcdotcom.config.setIE8(true);\\\\x3C/script><![endif]-->\\'); document.write(\\'<!--[if IE 9]><script type=\"text/javascript\">bbcdotcom.config.setIE9(true);\\\\x3C/script><![endif]-->\\'); if (/[?|&]ex-dp/.test(window.location.href) || document.cookie.indexOf(\\'ex-dp=\\') !== -1) { bbcdotcom.utils.addHtmlTagClass(\\'bbcdotcom-ex-dp\\'); } } })(); /*]]>*/  /*<![CDATA[*/ (function() { window.bbcdotcom.head = true; }()); /*]]>*/   \\n  // Globally available search context\\n  window.SEARCHBOX={\"variant\":\"default\",\"locale\":\"en\",\"navSearchboxStaticPrefix\":\"//nav.files.bbci.co.uk/searchbox/1.0.0-133\",\"searchboxAppStaticPrefix\":\"//search.files.bbci.co.uk/searchbox-app/1.0.19\",\"searchFormHtml\":\"<div tabindex=\\\\\"-1\\\\\" data-reactid=\\\\\".jval9y49og\\\\\" data-react-checksum=\\\\\"1886463233\\\\\"><div data-reactid=\\\\\".jval9y49og.0\\\\\"><section class=\\\\\"se-searchbox-panel\\\\\" data-reactid=\\\\\".jval9y49og.0.0\\\\\"><div class=\\\\\"se-g-wrap\\\\\" data-reactid=\\\\\".jval9y49og.0.0.0\\\\\"><div class=\\\\\"se-g-layout\\\\\" data-reactid=\\\\\".jval9y49og.0.0.0.0\\\\\"><div class=\\\\\"se-g-layout__item se-searchbox-title\\\\\" aria-hidden=\\\\\"true\\\\\" data-reactid=\\\\\".jval9y49og.0.0.0.0.0\\\\\">search</div><div class=\\\\\"se-g-layout__item se-searchbox\\\\\" data-reactid=\\\\\".jval9y49og.0.0.0.0.1\\\\\"><form accept-charset=\\\\\"utf-8\\\\\" id=\\\\\"searchboxDrawerForm\\\\\" method=\\\\\"get\\\\\" action=\\\\\"https://search.bbc.co.uk/search\\\\\" data-reactid=\\\\\".jval9y49og.0.0.0.0.1.0\\\\\"><label class=\\\\\"se-searchbox__input\\\\\" for=\\\\\"se-searchbox-input-field\\\\\" data-reactid=\\\\\".jval9y49og.0.0.0.0.1.0.0\\\\\"><span class=\\\\\"se-sr-only\\\\\" data-reactid=\\\\\".jval9y49og.0.0.0.0.1.0.0.0\\\\\">Search Term</span><input name=\\\\\"q\\\\\" type=\\\\\"text\\\\\" value=\\\\\"\\\\\" id=\\\\\"se-searchbox-input-field\\\\\" class=\\\\\"se-searchbox__input__field\\\\\" maxlength=\\\\\"512\\\\\" autocomplete=\\\\\"off\\\\\" autocorrect=\\\\\"off\\\\\" autocapitalize=\\\\\"off\\\\\" spellcheck=\\\\\"false\\\\\" tabindex=\\\\\"0\\\\\" data-reactid=\\\\\".jval9y49og.0.0.0.0.1.0.0.1\\\\\"/></label><input type=\\\\\"hidden\\\\\" name=\\\\\"scope\\\\\" value=\\\\\"\\\\\" data-reactid=\\\\\".jval9y49og.0.0.0.0.1.0.2\\\\\"/><button type=\\\\\"submit\\\\\" class=\\\\\"se-searchbox__submit\\\\\" tabindex=\\\\\"0\\\\\" data-reactid=\\\\\".jval9y49og.0.0.0.0.1.0.3\\\\\">Search</button><button type=\\\\\"button\\\\\" class=\\\\\"se-searchbox__clear se-searchbox__clear--visible\\\\\" tabindex=\\\\\"0\\\\\" data-reactid=\\\\\".jval9y49og.0.0.0.0.1.0.4\\\\\">Close</button></form></div></div></div></section><div aria-live=\\\\\"polite\\\\\" aria-atomic=\\\\\"true\\\\\" class=\\\\\"se-suggestions-container\\\\\" data-reactid=\\\\\".jval9y49og.0.1\\\\\"><section class=\\\\\"se-g-wrap\\\\\" data-reactid=\\\\\".jval9y49og.0.1.0\\\\\"></section></div></div></div>\",\"searchScopePlaceholder\":\"\",\"searchScopeParam\":\"\",\"searchScopeTemplate\":\"\",\"searchPlaceholderWrapperStart\":\"\",\"searchPlaceholderWrapperEnd\":\"\"};\\n  window.SEARCHBOX.suppress = false;\\n  window.SEARCHBOX.searchScope = SEARCHBOX.searchScopeTemplate.split(\\'-\\')[0];\\n\\n\\n\\n\\n     /* <![CDATA[ */ var map = {};  if (typeof(map[\\'jssignals-1\\']) == \\'undefined\\') { map[\\'jssignals-1\\'] = \\'https://static.bbc.co.uk/frameworks/jssignals/0.3.6/modules/jssignals-1\\'; }  require({paths: map}); /* ]]> */    (function () { if (!window.require) { throw new Error(\\'idcta: could not find require module\\'); } if(typeof(map) == \\'undefined\\') { var map = {}; } if(!!document.createElementNS && !!document.createElementNS(\\'http://www.w3.org/2000/svg\\', \"svg\").createSVGRect) { document.documentElement.className += \\' id-svg\\'; } var ptrt = RegExp(\"[\\\\\\\\?&]ptrt=([^&#]*)\").exec(document.location.href); var ENDPOINT_URL = \\'//\\' + ((window.location.protocol == \"https:\") ? (\\'ssl.bbc.co.uk\\').replace(\"www.\", \"ssl.\") : (\\'ssl.bbc.co.uk\\').replace(\"ssl.\", \"www.\")); var ENDPOINT_CONFIG = (\\'/idcta/config?callback&amp;locale=en-GB&ptrt=\\' + encodeURI((ptrt ? ptrt[1] : document.location.href))).replace(/\\\\&amp;/g, \\'&\\'); var ENDPOINT_TRANSLATIONS = \\'/idcta/translations?callback&locale=en-GB\\'; map[\\'idapp-1\\'] = \\'//static.bbc.co.uk/idapp/0.72.58/modules/idapp/idapp-1\\'; map[\\'idcta\\'] = \\'//static.bbc.co.uk/id/0.37.24/modules/idcta\\'; map[\\'idcta/config\\'] = [ENDPOINT_URL + ENDPOINT_CONFIG, \\'//static.bbc.co.uk/id/0.37.24/modules/idcta/fallbackConfig\\']; map[\\'idcta/translations\\'] = [ENDPOINT_URL + ENDPOINT_TRANSLATIONS, \\'//static.bbc.co.uk/id/0.37.24/modules/idcta/fallbackTranslations\\']; require({paths: map}); /* * Temporary code * To be removed when old id-statusbar-config is no longer supported */ define(\\'id-statusbar-config\\', [\\'idcta/id-config\\'], function(conf) { return conf; }); define(\\'idcta/id-statusbar-config\\', [\\'idcta/id-config\\'], function(conf) { return conf; }); })(); \\n\\n\\n\\n if (document.getElementById(\"responsive-news\")) { window.bbcNewsResponsive = true; } var isIE = (function() { var undef, v = 3, div = document.createElement(\\'div\\'), all = div.getElementsByTagName(\\'i\\'); while ( div.innerHTML = \\'<!--[if gt IE \\' + (++v) + \\']><i></i><![endif]-->\\', all[0] ); return v > 4 ? v : undef; }()); var modernDevice = \\'querySelector\\' in document && \\'localStorage\\' in window && \\'addEventListener\\' in window, forceCore = document.cookie.indexOf(\\'ckps_force_core\\') !== -1; window.cutsTheMustard = modernDevice && !forceCore; if (window.cutsTheMustard) { document.documentElement.className += \\' ctm\\'; var insertPoint = document.getElementById(\\'news-loader\\'), config = {\"asset\":{\"asset_id\":\"24367153\",\"asset_locator\":\"urn:bbc:cps:asset:24367153\",\"asset_uri\":\"\\\\/news\\\\/education-24367153\",\"original_asset_uri\":null,\"first_created\":{\"date\":\"2013-10-02 15:44:35\",\"timezone_type\":3,\"timezone\":\"Europe\\\\/London\"},\"first_published\":{\"date\":\"2013-10-02 22:07:58\",\"timezone_type\":3,\"timezone\":\"Europe\\\\/London\"},\"last_updated\":{\"date\":\"2013-10-03 11:37:32\",\"timezone_type\":3,\"timezone\":\"Europe\\\\/London\"},\"options\":{\"allowHeadline\":true,\"allowDateStamp\":true,\"allowRelatedStoriesBox\":true,\"allowRightHandSide\":true,\"includeComments\":false,\"allowPrintingSharingLinks\":true,\"allowAdvertising\":true},\"section\":{\"name\":\"Education & Family\",\"id\":\"99105\",\"uri\":\"\\\\/news\\\\/education\",\"urlIdentifier\":\"\\\\/news\\\\/education\"},\"language\":\"en-gb\",\"edition\":\"Domestic\",\"audience\":null,\"iStats_counter_name\":\"news.education.story.24367153.page\",\"type\":\"STY\",\"curie\":\"asset:72048ba3-2970-6342-aeb1-ad64ac5f9914\",\"length\":3617,\"byline\":{\"name\":\"By Sean Coughlan\",\"persons\":{\"0\":{\"name\":\"Sean Coughlan\",\"function\":\"BBC News education correspondent\"}},\"title\":\"BBC News education correspondent\"},\"headline\":\"London top city in global university rankings\",\"mediaType\":null,\"topicTags\":null},\"smpBrand\":null,\"staticHost\":\"http:\\\\/\\\\/static.bbci.co.uk\",\"environment\":\"live\",\"locatorVersion\":\"0.46.3\",\"pathPrefix\":\"\\\\/news\",\"staticPrefix\":\"http:\\\\/\\\\/static.bbci.co.uk\\\\/news\\\\/1.220.02180\",\"jsPath\":\"http:\\\\/\\\\/static.bbci.co.uk\\\\/news\\\\/1.220.02180\\\\/js\",\"cssPath\":\"http:\\\\/\\\\/static.bbci.co.uk\\\\/news\\\\/1.220.02180\\\\/stylesheets\\\\/services\\\\/news\",\"cssPostfix\":\"\",\"dynamic\":null,\"features\":{\"localnews\":true,\"video\":true,\"liveeventcomponent\":true,\"mediaassetpage\":true,\"gallery\":true,\"rollingnews\":true,\"sportstories\":true,\"radiopromo\":true,\"fromothernewssites\":true,\"locallive\":true,\"weather\":true},\"features2\":{\"svg_brand\":true,\"waf_deprecation_notice\":true,\"chartbeat\":true,\"connected_stream\":true,\"connected_stream_promo\":true,\"nav\":true,\"pulse_survey\":false,\"local_survey\":true,\"correspondents\":true,\"blogs\":true,\"open_graph\":true,\"follow_us\":true,\"marketdata_markets\":true,\"marketdata_shares\":true,\"nations_pseudo_nav\":true,\"politics_election2015_topic_pages\":true,\"responsive_breaking_news\":true,\"live_event\":true,\"most_popular\":true,\"most_popular_tabs\":true,\"most_popular_by_day\":false,\"routing\":true,\"radiopromonownext\":true,\"config_based_layout\":true,\"orb\":true,\"map_most_watched\":true,\"top_stories_promo\":true,\"features_and_analysis\":true,\"section_labels\":true,\"index_title\":true,\"share_tools\":true,\"extracted_share_tools\":true,\"local_live_promo\":true,\"adverts\":true,\"adverts_async\":true,\"adexpert\":true,\"igor_geo_redirect\":true,\"igor_device_redirect\":true,\"live\":true,\"comscore_mmx\":true,\"find_local_news\":true,\"comments\":true,\"comments_enhanced\":true,\"browser_notify\":true,\"stream_grid_promo\":true,\"breaking_news\":false,\"top_stories_max_volume\":true,\"record_livestats\":true,\"contact_form\":true,\"channel_page\":true,\"portlet_global_variants\":true,\"suppress_lep_timezone\":true,\"story_sticky_player\":true,\"story_end_slate\":true,\"story_smp_preview\":true,\"embed_player_pid\":true,\"cedexis\":true,\"mpulse\":true,\"story_single_column_layout\":true,\"story_image_copyright_labels\":true,\"ovp_resolve_primary_media_vpids\":false,\"media_player\":true,\"services_bar\":true,\"live_v2_stream\":true,\"ldp_tag_augmentation\":true,\"map_related_topic_tags\":true,\"rio2016_medals\":true,\"embedephant-social-embeds\":true,\"interactive-social-embeds\":true,\"social-embeds\":true,\"amp_link\":true},\"configuration\":{\"showtimestamp\":\"1\",\"showweather\":\"1\",\"showsport\":\"1\",\"showolympics\":\"1\",\"showfeaturemain\":\"1\",\"candyplatform\":\"EnhancedMobile\",\"showwatchlisten\":\"1\",\"showspecialreports\":\"\",\"videotopiccandyid\":\"\",\"showvideofeedsections\":\"1\",\"showstorytopstories\":\"\",\"showstoryfeaturesandanalysis\":\"1\",\"showstorymostpopular\":\"\",\"showgallery\":\"1\",\"cms\":\"cps\",\"channelpagecandyid\":\"10318089\"},\"pollingHost\":\"https:\\\\/\\\\/polling.bbc.co.uk\",\"service\":\"news\",\"locale\":\"en-GB\",\"locatorHost\":null,\"locatorFlagPole\":true,\"local\":{\"allowLocationLookup\":true},\"isWorldService\":false,\"isChannelPage\":false,\"languageVariant\":\"\",\"commentsHost\":\"https:\\\\/\\\\/www.bbc.co.uk\",\"search\":null,\"comscoreAnalytics\":null}; config.configuration[\\'get\\'] = function (key) { return this[key.toLowerCase()]; };  var bootstrapUI=function(){var e=function(){if(navigator.userAgent.match(/(Android (2.0|2.1))|(Nokia)|(OSRE\\\\/)|(Opera (Mini|Mobi))|(w(eb)?OSBrowser)|(UCWEB)|(Windows Phone)|(XBLWP)|(ZuneWP)/))return!1;if(navigator.userAgent.match(/MSIE 10.0/))return!0;var e,t=document,n=t.head||t.getElementsByTagName(\"head\")[0],r=t.createElement(\"style\"),s=t.implementation||{hasFeature:function(){return!1}};r.type=\"text/css\",n.insertBefore(r,n.firstChild),e=r.sheet||r.styleSheet;var i=s.hasFeature(\"CSS2\",\"\")?function(t){if(!e||!t)return!1;var n=!1;try{e.insertRule(t,0),n=!/unknown/i.test(e.cssRules[0].cssText),e.deleteRule(e.cssRules.length-1)}catch(r){}return n}:function(t){return e&&t?(e.cssText=t,0!==e.cssText.length&&!/unknown/i.test(e.cssText)&&0===e.cssText.replace(/\\\\r+|\\\\n+/g,\"\").indexOf(t.split(\" \")[0])):!1};return i(\\'@font-face{ font-family:\"font\";src:\"font.ttf\"; }\\')}();e&&(document.getElementsByTagName(\"html\")[0].className+=\" ff\"),function(){var e=document.documentElement.style;(\"flexBasis\"in e||\"WebkitFlexBasis\"in e||\"msFlexBasis\"in e)&&(document.documentElement.className+=\" flex\")}();var t,n,r,s,i,a={},o=function(){var e=document.documentElement.clientWidth,n=window.innerWidth,r=n>1.5*e;t=r?e:n},u=function(e){var t=document.createElement(\"link\");t.setAttribute(\"rel\",\"stylesheet\"),t.setAttribute(\"type\",\"text/css\"),t.setAttribute(\"href\",n+e+r+\".css\"),t.setAttribute(\"media\",i[e]),s.parentNode.insertBefore(t,s),delete i[e]},c=function(e,n,r){n&&!r&&t>=n&&u(e),r&&!n&&r>=t&&u(e),n&&r&&t>=n&&r>=t&&u(e)},l=function(e){if(a[e])return a[e];var t=e.match(/\\\\(min\\\\-width:[\\\\s]*([\\\\s]*[0-9\\\\.]+)(px|em)[\\\\s]*\\\\)/),n=e.match(/\\\\(max\\\\-width:[\\\\s]*([\\\\s]*[0-9\\\\.]+)(px|em)[\\\\s]*\\\\)/),r=t&&parseFloat(t[1])||null,s=n&&parseFloat(n[1])||null;return a[e]=[r,s],a[e]},f=function(){var e=0;for(var t in i)e++;return e},m=function(){f()||window.removeEventListener(\"resize\",d,!1);for(var e in i){var t=i[e],n=l(t);c(e,n[0],n[1])}},d=function(){o(),m()},h=function(e,t){i=e,n=t.path+(\"/\"!==t.path.substr(-1)?\"/\":\"\"),r=t.postfix,s=t.insertBefore,o(),m(),window.addEventListener(\"resize\",d,!1)};return{stylesheetLoaderInit:h}}(); var stylesheets = {\"compact\":\"(max-width: 599px)\",\"tablet\":\"(min-width: 600px)\",\"wide\":\"(min-width: 1008px)\"}; bootstrapUI.stylesheetLoaderInit(stylesheets, { path: \\'http://static.bbci.co.uk/news/1.220.02180/stylesheets/services/news\\', postfix: \\'\\', insertBefore: insertPoint }); var loadRequire = function(){ var js_paths = {\"jquery-1.9\":\"vendor\\\\/jquery-1\\\\/jquery\",\"jquery-1\":\"http:\\\\/\\\\/static.bbci.co.uk\\\\/frameworks\\\\/jquery\\\\/0.4.1\\\\/sharedmodules\\\\/jquery-1.7.2\",\"demi-1\":\"http:\\\\/\\\\/static.bbci.co.uk\\\\/frameworks\\\\/demi\\\\/0.10.1\\\\/sharedmodules\\\\/demi-1\",\"swfobject-2\":\"http:\\\\/\\\\/static.bbci.co.uk\\\\/frameworks\\\\/swfobject\\\\/0.1.10\\\\/sharedmodules\\\\/swfobject-2\",\"jquery\":\"vendor\\\\/jquery-2\\\\/jquery.min\",\"domReady\":\"vendor\\\\/require\\\\/domReady\",\"translation\":\"module\\\\/translations\\\\/en-GB\",\"bump-3\":\"\\\\/\\\\/emp.bbci.co.uk\\\\/emp\\\\/bump-3\\\\/bump-3\"};  js_paths.navigation = \\'module/nav/navManager\\';  requirejs.config({ baseUrl: \\'http://static.bbci.co.uk/news/1.220.02180/js\\', map: { \\'vendor/locator\\': { \\'module/bootstrap\\': \\'vendor/locator/bootstrap\\', \\'locator/stats\\': \\'vendor/locator/stats\\', \\'locator/locatorView\\': \\'vendor/locator/locatorView\\' } }, paths: js_paths, waitSeconds: 30 }); define(\\'config\\', function () { return config; });              require([\"compiled\\\\/all\"], function() {\\n      require([\\'domReady\\'], function (domReady) { domReady(function () { require([\"module\\\\/dotcom\\\\/handlerAdapter\",\"module\\\\/stats\\\\/statsSubscriberAdapter\",\"module\\\\/alternativeJsStrategy\\\\/controller\",\"module\\\\/iconLoaderAdapter\",\"module\\\\/polyfill\\\\/location.origin\",\"module\\\\/components\\\\/breakingNewsAdapter\",\"module\\\\/indexTitleAdaptor\",\"module\\\\/navigation\\\\/handlerAdaptor\",\"module\\\\/noTouchDetectionForCss\",\"module\\\\/components\\\\/stickyPlayer\\\\/mainAdapter\",\"module\\\\/components\\\\/responsiveImage\",\"module\\\\/components\\\\/timestampAdaptor\",\"module\\\\/components\\\\/twiteAdapter\",\"module\\\\/tableScrollAdapter\",\"module\\\\/userScrollAdapter\",\"module\\\\/components\\\\/mediaPlayer\\\\/mainAdapter\",\"module\\\\/endSlateAdaptor\",\"module\\\\/components\\\\/fauxBlockLink\"], function() {  require([\"module\\\\/strategiserAdaptor\"]);  }); }); });              });\\n     };  loadRequire();  } else { var l = document.createElement(\\'link\\'); l.href = \\'http://static.bbci.co.uk/news/1.220.02180/icons/generated/icons.fallback.css\\'; l.rel = \\'stylesheet\\'; document.getElementsByTagName(\\'head\\')[0].appendChild(l); }   /*<![CDATA[*/ bbcdotcom.init({adsToDisplay:[\\'leaderboard\\', \\'sponsor_section\\', \\'mpu\\', \\'infeed_news_story\\', \\'outbrain_ar_5\\', \\'outbrain_ar_7\\', \\'outbrain_ar_8\\', \\'outbrain_ar_9\\', \\'native\\', \\'mpu_bottom\\', \\'adsense\\', \\'inread\\']}); /*]]>*/  \\n\\n\\n\\n\\n\\n /*<![CDATA[*/ (function() { if (window.bbcdotcom && bbcdotcom.config.isActive(\\'ads\\')) { googletag.cmd.push(function() { googletag.display(\\'bbccom_interstitial\\'); }); } }()); /*]]>*/  /*<![CDATA[*/ (function() { var wallpaper; if (window.bbcdotcom && bbcdotcom.config.isActive(\\'ads\\')) { if (bbcdotcom.config.isAsync()) { googletag.cmd.push(function() { googletag.display(\\'bbccom_wallpaper\\'); }); } else if (typeof googletag !== \"undefined\" && typeof googletag.display === \"function\") { googletag.display(\"wallpaper\"); } wallpaper = bbcdotcom.adverts.adRegister.getAd(\\'wallpaper\\'); } }()); /*]]>*/  /*<![CDATA[*/ (function() { if (window.bbcdotcom && bbcdotcom.config.isActive(\\'ads\\')) { document.write(unescape(\\'%3Cscript id=\"gnlAdsEnabled\" class=\"bbccom_display_none\"%3E%3C/script%3E\\')); } if (window.bbcdotcom && bbcdotcom.config.isActive(\\'analytics\\')) { document.write(unescape(\\'%3Cscript id=\"gnlAnalyticsEnabled\" class=\"bbccom_display_none\"%3E%3C/script%3E\\')); } }()); /*]]>*/  /*<![CDATA[*/ (function() { window.bbcdotcom.bodyFirst = true; }()); /*]]>*/      <![CDATA[ <section> <div id=\"bbccookies\" class=\"bbccookies-banner orb-banner-wrapper bbccookies-d\"> <div id=\"bbccookies-prompt\" class=\"orb-banner b-g-p b-r b-f\"> <h2 class=\"orb-banner-title\"> Cookies on the BBC website </h2> <p class=\"orb-banner-content\" dir=\"ltr\"> The BBC has updated its cookie policy. We use cookies to ensure that we give you the best experience on our website. This includes cookies from third party social media websites if you visit a page which contains embedded content from social media. Such third party cookies may track your use of the BBC website.<span class=\"bbccookies-international-message\"> We and our partners also use cookies to ensure we show you advertising that is relevant to you.</span> If you continue without changing your settings, we\\'ll assume that you are happy to receive all cookies on the BBC website. However, you can change your cookie settings at any time. </p> <ul class=\"orb-banner-options\"> <li id=\"bbccookies-continue\"> <button type=\"button\" id=\"bbccookies-continue-button\">Continue</button> </li> <li id=\"bbccookies-settings\"> <a href=\"/privacy/cookies/managing/cookie-settings.html\">Change settings</a> </li> <li id=\"bbccookies-more\"><a href=\"/privacy/cookies/bbc\">Find out more</a></li></ul> </div> </div> </section> ]]> /*<![CDATA[*/ (function(){if(bbccookies._showPrompt()){var g=document,b=g.getElementById(\"blq-pre-mast\"),e=g.getElementById(\"blq-bbccookies-tmpl\"),a,f;if(b&&g.createElement){a=g.createElement(\"div\");f=e.innerHTML;f=f.replace(\"<\"+\"![CDATA[\",\"\").replace(\"]]\"+\">\",\"\");a.innerHTML=f;b.appendChild(a);blqCookieContinueButton=g.getElementById(\"bbccookies-continue-button\");blqCookieContinueButton.onclick=function(){a.parentNode.removeChild(a);return false};bbccookies._setPolicy(bbccookies.readPolicy())}var c=g.getElementById(\"bbccookies\");if(c&&!window.orb.fig(\"uk\")){c.className=c.className.replace(/\\\\bbbccookies-d\\\\b/,\"\");c.className=c.className+(\" bbccookies-w\")}}})(); /*]]>*/   /*<![CDATA[*/ if (typeof bbccookies !== \\'undefined\\' && bbccookies.isAllowed(\\'s1\\')) { (function () { require([\\'istats-1\\'], function (istats) { istatsTrackingUrl = istats.getDefaultURL(); if (istats.isEnabled() && bbcFlagpoles_istats === \\'ON\\') { sitestat(istatsTrackingUrl); } else { window.ns_pixelUrl = istatsTrackingUrl; /* used by Flash library to track */ } function sitestat(n) { var j = document, f = j.location, b = \"\"; if (j.cookie.indexOf(\"st_ux=\") != -1) { var k = j.cookie.split(\";\"); var e = \"st_ux\", h = document.domain, a = \"/\"; if (typeof ns_ != \"undefined\" && typeof ns_.ux != \"undefined\") { e = ns_.ux.cName || e; h = ns_.ux.cDomain || h; a = ns_.ux.cPath || a } for (var g = 0, f = k.length; g < f; g++) { var m = k[g].indexOf(\"st_ux=\"); if (m != -1) { b = \"&\" + decodeURI(k[g].substring(m + 6)) } } bbccookies.set(e + \"=; expires=\" + new Date(new Date().getTime() - 60).toGMTString() + \"; path=\" + a + \"; domain=\" + h); } window.ns_pixelUrl = n;  } }); })(); } else { window.istats = {enabled: false}; } /*]]>*/ \\n             Accessibility links  Skip to content Accessibility Help       BBC iD    require([\\'idcta/statusbar\\'], function(statusbar) { new statusbar.Statusbar({\"id\":\"idcta-statusbar\",\"publiclyCacheable\":true}); }); \\n\\nNotifications\\n\\n\\n\\n\\n   BBC navigation   Home   Home   News   News   Sport   Weather   Shop   Earth   Travel   Capital   iPlayer   Culture   Autos   Future   TV   Radio   CBBC   CBeebies   Food   iWonder   Bitesize   Travel   Music   Earth   Arts   Make It Digital   Taster   Nature   Local   Tomorrow\\'s World  Menu     Search\\n\\n\\nSearch the BBC\\n\\nSearch the BBC\\n\\n\\n\\n   <![CDATA[ <div id=\"orb-panel-<%= panelname %>\" class=\"orb-panel\" aria-labelledby=\"orb-nav-<%= panelname %>\"> <div class=\"orb-panel-content b-g-p b-r\"> <%= panelcontent %> </div> </div> ]]>     \\n\\n \\n\\n\\n\\n\\n\\n\\nNews\\n BBC News Navigation\\n\\nSections\\n\\n\\n\\n\\n\\n\\n\\nHome\\n\\n\\n\\n\\nUK\\n\\n\\n\\n\\nWorld\\n\\n\\n\\n\\nBusiness\\n\\n\\n\\n\\nPolitics\\n\\n\\n\\n\\nTech\\n\\n\\n\\n\\nScience\\n\\n\\n\\n\\nHealth\\n\\n\\n\\n\\nFamily & Education\\n\\nselected \\n\\n\\nEntertainment & Arts\\n\\n\\n\\n\\nStories\\n\\n\\n\\n\\nVideo & Audio\\n\\n\\n\\n\\nIn Pictures\\n\\n\\n\\n\\nParadise Papers\\n\\n\\n\\n\\nReality Check\\n\\n\\n\\n\\nSpecial Reports\\n\\n\\n\\n\\nExplainers\\n\\n\\n\\n\\nThe Reporters\\n\\n\\n\\n\\nHave Your Say\\n\\n\\n\\n\\nDisability\\n\\n\\n\\n\\n\\n\\nFamily & Education selected \\n\\n\\nSchool Report\\n\\n\\n\\n\\nGlobal Education\\n\\n\\n\\n\\n\\n\\n\\n\\n\\n            /*<![CDATA[*/\\n            (function() {\\n                if (window.bbcdotcom && bbcdotcom.adverts && bbcdotcom.adverts.slotAsync) {\\n                    bbcdotcom.adverts.slotAsync(\\'leaderboard\\', [1,2,3,4]);\\n                }\\n            })();\\n            /*]]>*/\\n        \\n\\n\\n\\n\\n\\n\\nEducation & Family\\n\\n\\n\\n\\n\\n            /*<![CDATA[*/\\n            (function() {\\n                if (window.bbcdotcom && bbcdotcom.adverts && bbcdotcom.adverts.slotAsync) {\\n                    bbcdotcom.adverts.slotAsync(\\'sponsor_section\\', [1,2,3,4]);\\n                }\\n            })();\\n            /*]]>*/\\n        \\n\\n\\n\\n   \\n\\nEducation & Family\\n\\n\\n\\n\\n\\n            /*<![CDATA[*/\\n            (function() {\\n                if (window.bbcdotcom && bbcdotcom.adverts && bbcdotcom.adverts.slotAsync) {\\n                    bbcdotcom.adverts.slotAsync(\\'sponsor_section\\', [1,2,3,4]);\\n                }\\n            })();\\n            /*]]>*/\\n        \\n\\n\\n   \\n\\nLondon top city in global university rankings\\n\\nBy Sean Coughlan\\nBBC News education correspondent\\n\\n\\n\\n\\n\\n\\n 3 October 2013\\n\\nFrom the section Education & Family\\n\\n\\n\\n\\n\\n\\n\\n\\n\\n\\n\\n\\nShare this with Facebook\\n\\n\\n\\n\\n\\n\\n\\n\\n\\nShare this with Twitter\\n\\n\\n\\n\\n\\n\\n\\n\\n\\nShare this with Messenger\\n\\n\\n\\n\\n\\n\\n\\n\\n\\nShare this with Messenger\\n\\n\\n\\n\\n\\n\\n\\n\\n\\nShare this with Email\\n\\n\\n\\n\\nShare\\n\\n\\nShare this with\\nThese are external links and will open in a new window\\n\\n\\n\\n\\nEmail\\nShare this with Email\\n\\n\\n\\n\\n\\nFacebook\\nShare this with Facebook\\n\\n\\n\\n\\n\\nMessenger\\nShare this with Messenger\\n\\n\\n\\n\\n\\nMessenger\\nShare this with Messenger\\n\\n\\n\\n\\n\\nTwitter\\nShare this with Twitter\\n\\n\\n\\n\\n\\nPinterest\\nShare this with Pinterest\\n\\n\\n\\n\\n\\nWhatsApp\\nShare this with WhatsApp\\n\\n\\n\\n\\n\\nLinkedIn\\nShare this with LinkedIn\\n\\n\\n\\nCopy this link\\n\\nhttp://www.bbc.co.uk/news/education-24367153\\n\\nRead more about sharing.\\nThese are external links and will open in a new window\\n\\nClose share panel\\n\\n\\n\\n\\n\\n\\n\\n\\n \\n\\n\\n\\n\\n\\n\\n\\nImage caption\\n\\n                    London colleges and Oxbridge are an elite \"golden triangle\" in global rankings\\n                \\n\\nLondon has four universities in the top 40 of a global league table - more than any other individual city - although only one makes the top 10.US universities are still the most dominant international force in the Times Higher Education rankings.In top place, as last year, is the California Institute of Technology.In the UK there are concerns that, outside Oxford, Cambridge and London colleges, many major universities are slipping down international rankings.The so-called \"golden triangle\" of UK universities - Oxford, Cambridge and leading London institutions - is seen as a breakaway elite group, with these universities consolidating their international reputations.\\n\\n\\n            /**/\\n            (function() {\\n                if (window.bbcdotcom && bbcdotcom.adverts && bbcdotcom.adverts.slotAsync) {\\n                    bbcdotcom.adverts.slotAsync(\\'mpu\\', [1,2,3]);\\n                }\\n            })();\\n            /**/\\n        \\n\\nImperial College, University College London, LSE and King\\'s College London are all in the top 40. London has more universities in this league table than all of Japan, although only Imperial College makes the top 10.Clusters of excellencePhil Baty, editor of the rankings, says this is part of a global pattern of clustering of \"excellent universities\". Boston in the US has eight universities in the top 200, more than entire countries such as China, Switzerland and Australia.\\nUNIVERSITY TOP 20\\n1. California Institute of Technology\\n2. Harvard University\\n2. University of Oxford\\n4. Stanford University\\n5. Massachusetts Institute of Technology\\n\\n\\n\\n            /**/\\n            (function() {\\n                if (window.bbcdotcom && bbcdotcom.adverts && bbcdotcom.adverts.slotAsync) {\\n                    bbcdotcom.adverts.slotAsync(\\'mpu\\', [1,2,3]);\\n                }\\n            })();\\n            /**/\\n        \\n\\n\\n6. Princeton University\\n7. University of Cambridge\\n8. University of California, Berkeley\\n9. University of Chicago\\n10. Imperial College London\\n11. Yale University\\n12. University of California, Los Angeles\\n13. Columbia University \\n14. ETH Zurich - Swiss Federal Institute of Technology Z\\xfcrich\\n15. Johns Hopkins University\\n16. University of Pennsylvania\\n17. Duke University\\n18. University of Michigan\\n19. Cornell University\\n20. University of Toronto\\nSource: Times Higher Education World University Rankings\\nBut there are warnings from the rankings organisation that prominent UK regional universities are falling away.Edinburgh, Manchester, Bristol, Sheffield, Warwick, Southampton, Nottingham and Newcastle are all seen as going downwards against international rivals.However the University of Leicester has risen sharply, which has been described as the \"Richard III effect\", after the high-profile research associated with the discovery of the body of the medieval king.This is described by the Times Higher Education rankings as showing that \"power is draining from the UK regions\".The top 20 still reflects the dominance of wealthy US university powerhouses, taking 15 of the top 20 places, with institutions such Harvard, MIT and Stanford in the leading pack behind the California Institute of Technology.The highest UK university is Oxford and the highest ranked continental European university is ETH Zurich in Switzerland, which is also the only non-English speaking university in the top 20.\"No university can rest on its laurels. No-one is guaranteed to retain a top-200 place when the US, Far East and others are investing in research so heavily,\" said Sir David Bell, vice-chancellor of Reading University, which has fallen from 176th to 194th place.\"There are some dramatic year-on-year rises and falls this year, so we should be careful not to read too much into a single set of figures.\"\"It is no surprise that a small number of UK universities at the very top end will remain more stable, with others more likely to fluctuate.\"Sir Christopher Snowden, president of Universities UK, said the rankings showed that the UK had \"the second-strongest university system in the world after the US\".\"What is clear, however, is that the UK must continue to invest in higher education if we are to maintain this global competitiveness.\"\\n\\n\\n\\n\\n\\n\\n        Share this story        About\\xa0sharing\\n\\n\\n\\n\\nEmail\\n\\n\\n\\n\\nFacebook\\n\\n\\n\\n\\nMessenger\\n\\n\\n\\n\\nMessenger\\n\\n\\n\\n\\nTwitter\\n\\n\\n\\n\\nPinterest\\n\\n\\n\\n\\nWhatsApp\\n\\n\\n\\n\\nLinkedIn\\n\\n\\n\\n\\n\\n  Related Internet links         Times Higher Education university rankings        \\nThe BBC is not responsible for the content of external Internet sites\\n\\n\\n \\n\\n\\n\\n\\n            /*<![CDATA[*/\\n            (function() {\\n                if (window.bbcdotcom && bbcdotcom.adverts && bbcdotcom.adverts.slotAsync) {\\n                    bbcdotcom.adverts.slotAsync(\\'outbrain_ar_5\\', [1,2,3,4]);\\n                }\\n            })();\\n            /*]]>*/\\n        \\n\\n\\n\\n\\n\\n            /*<![CDATA[*/\\n            (function() {\\n                if (window.bbcdotcom && bbcdotcom.adverts && bbcdotcom.adverts.slotAsync) {\\n                    bbcdotcom.adverts.slotAsync(\\'outbrain_ar_7\\', [1,2,3,4]);\\n                }\\n            })();\\n            /*]]>*/\\n        \\n\\n\\n\\n\\n\\n            /*<![CDATA[*/\\n            (function() {\\n                if (window.bbcdotcom && bbcdotcom.adverts && bbcdotcom.adverts.slotAsync) {\\n                    bbcdotcom.adverts.slotAsync(\\'outbrain_ar_8\\', [1,2,3,4]);\\n                }\\n            })();\\n            /*]]>*/\\n        \\n\\n\\n\\n\\n\\nTop Stories\\n\\nEgypt Sinai attackers \\'carried IS flags\\'\\nThe death toll from Friday\\'s bomb and gun attack on a mosque in Sinai rises to 305.\\n25 November 2017\\n\\n\\nJailed British-Iranian woman speaks at march\\n25 November 2017\\n\\n\\nPoliceman hurt in \\'despicable\\' van attack\\n25 November 2017\\n\\n\\n\\n\\n\\n            /*<![CDATA[*/\\n            (function() {\\n                if (window.bbcdotcom && bbcdotcom.adverts && bbcdotcom.adverts.slotAsync) {\\n                    bbcdotcom.adverts.slotAsync(\\'mpu\\', [4]);\\n                }\\n            })();\\n            /*]]>*/\\n        \\n\\n\\n\\n\\n        \\n        Features\\n    \\n\\n\\n\\n\\n\\n\\n\\n\\n\\nA 100-year-old US riot only now being talked about\\n \\n\\n\\n\\n\\n\\n\\n\\n\\n\\n\\n Video\\n\\n\\n\\n\\n\\'How I led amputees up Mt Kilimanjaro\\'\\n \\n\\n\\n\\n\\n\\n\\n\\n\\n\\n\\nPlay stations: Railway stops worth lingering at\\n \\n\\n\\n\\n\\n\\n            /*<![CDATA[*/\\n            (function() {\\n                if (window.bbcdotcom && bbcdotcom.adverts && bbcdotcom.adverts.slotAsync) {\\n                    bbcdotcom.adverts.slotAsync(\\'infeed_news_story\\', [1,2,3,4,5]);\\n                }\\n            })();\\n            /*]]>*/\\n        \\n\\n\\n\\n\\n\\n\\n\\n\\n\\n\\nThe female war medic who refused to \\'go home and sit still\\'\\n \\n\\n\\n\\n\\n\\n\\n\\n\\n\\n\\nJacqueline Wilson: Children are more worried now\\n \\n\\n\\n\\n\\n\\n\\n\\n\\n\\n\\nA Himalayan home for Buddhist nuns\\n \\n\\n\\n\\n\\n\\n\\n\\n\\n\\n\\nThe breath-taking alien world of plastic bags under the sea\\n \\n\\n\\n\\n\\n\\n\\n\\n\\n\\n\\nReality Check: Can US generals say \\'no\\' to a nuclear strike?\\n \\n\\n\\n\\n\\n\\n\\n\\n            /*<![CDATA[*/\\n            (function() {\\n                if (window.bbcdotcom && bbcdotcom.adverts && bbcdotcom.adverts.slotAsync) {\\n                    bbcdotcom.adverts.slotAsync(\\'native\\', [1,2,3,4]);\\n                }\\n            })();\\n            /*]]>*/\\n        \\n\\n\\n\\n\\n    \\n    Elsewhere on the BBC\\n\\n\\n\\n\\n\\n\\n\\n\\n\\n\\n\\n\\nVegetarian feast\\n\\n Nigella\\'s butternut squash and sweet potato curry\\n\\nFull article Vegetarian feast\\n\\n\\n\\n\\n\\n\\n\\n\\n\\n\\n\\nDaily news briefing direct to your inbox\\n\\n Sign up for our newsletter\\n\\nFull article Daily news briefing direct to your inbox\\n\\n\\n\\n\\n\\n\\n\\n\\n            /*<![CDATA[*/\\n            (function() {\\n                if (window.bbcdotcom && bbcdotcom.adverts && bbcdotcom.adverts.slotAsync) {\\n                    bbcdotcom.adverts.slotAsync(\\'mpu_bottom\\', [1,2,3,4]);\\n                }\\n            })();\\n            /*]]>*/\\n        \\n\\n\\n\\n\\n\\n            /*<![CDATA[*/\\n            (function() {\\n                if (window.bbcdotcom && bbcdotcom.adverts && bbcdotcom.adverts.slotAsync) {\\n                    bbcdotcom.adverts.slotAsync(\\'outbrain_ar_9\\', [1,2,3,4]);\\n                }\\n            })();\\n            /*]]>*/\\n        \\n\\n\\n\\n\\n\\n            /*<![CDATA[*/\\n            (function() {\\n                if (window.bbcdotcom && bbcdotcom.adverts && bbcdotcom.adverts.slotAsync) {\\n                    bbcdotcom.adverts.slotAsync(\\'adsense\\', [1,2,3,4]);\\n                }\\n            })();\\n            /*]]>*/\\n        \\n\\n\\n\\n\\n\\n            /*<![CDATA[*/\\n            (function() {\\n                if (window.bbcdotcom && bbcdotcom.adverts && bbcdotcom.adverts.slotAsync) {\\n                    bbcdotcom.adverts.slotAsync(\\'inread\\', [1,2,3,4]);\\n                }\\n            })();\\n            /*]]>*/\\n        \\n\\n\\n\\n   \\n\\n\\nWhy you can trust BBC News\\n\\n \\n\\n\\nBBC News Navigation\\n\\nFamily & Education\\nSections\\n\\n\\nSchool Report\\n\\n\\nGlobal Education\\n\\n\\n\\n\\n\\n\\n\\nHome\\n\\n\\n\\n\\nUK\\n\\n\\n\\n\\nUK Home\\n\\nEngland \\n\\nN. Ireland \\n\\nScotland \\n\\nAlba \\n\\nWales \\n\\nCymru \\n\\nLocal News \\n\\n\\n\\n\\n\\n\\nWorld\\n\\n\\n\\n\\nWorld Home\\n\\nAfrica \\n\\nAsia \\n\\nAustralia \\n\\nEurope \\n\\nLatin America \\n\\nMiddle East \\n\\nUS & Canada \\n\\n\\n\\n\\n\\n\\nBusiness\\n\\n\\n\\n\\nBusiness Home\\n\\nYour Money \\n\\nMarket Data \\n\\nMarkets \\n\\nCompanies \\n\\nEconomy \\n\\n\\n\\n\\n\\n\\nPolitics\\n\\n\\n\\n\\nPolitics Home\\n\\nParliaments \\n\\nBrexit \\n\\n\\n\\n\\n\\n\\nTech\\n\\n\\n\\n\\nScience\\n\\n\\n\\n\\nHealth\\n\\n\\n\\n\\nFamily & Education\\n\\nselected \\n\\n\\nFamily & Education Home\\n\\nSchool Report \\n\\nGlobal Education \\n\\n\\n\\n\\n\\n\\nEntertainment & Arts\\n\\n\\n\\n\\nStories\\n\\n\\n\\n\\nVideo & Audio\\n\\n\\n\\n\\nIn Pictures\\n\\n\\n\\n\\nParadise Papers\\n\\n\\n\\n\\nReality Check\\n\\n\\n\\n\\nSpecial Reports\\n\\n\\n\\n\\nExplainers\\n\\n\\n\\n\\nThe Reporters\\n\\n\\n\\n\\nHave Your Say\\n\\n\\n\\n\\nDisability\\n\\n\\n\\n\\n\\n\\n\\n\\nBBC News Services\\n\\n\\nOn your mobile\\n\\n\\nOn your connected tv\\n\\n\\nGet news alerts\\n\\n\\nContact BBC News\\n\\n\\n\\n\\n\\n       Explore the BBC    Home   Home   News   News   Sport   Weather   Shop   Earth   Travel   Capital   iPlayer   Culture   Autos   Future   TV   Radio   CBBC   CBeebies   Food   iWonder   Bitesize   Travel   Music   Earth   Arts   Make It Digital   Taster   Nature   Local   Tomorrow\\'s World            Terms of Use   About the BBC   Privacy Policy   Cookies   Accessibility Help   Parental Guidance   Contact the BBC   Get Personalised Newsletters   Advertise with us   Ad choices    Copyright \\xa9 2017 BBC. The BBC is not responsible for the content of external sites. Read about our approach to external linking.       /*<![CDATA[*/ if (window.bbcdotcom && window.bbcdotcom.analytics && bbcdotcom.config && !bbcdotcom.config.isSportApp()) { bbcdotcom.analytics.page(); } /*]]>*/  /*<![CDATA[*/ if (window.bbcdotcom && bbcdotcom.currencyProviders) { bbcdotcom.currencyProviders.write(); } /*]]>*/  /*<![CDATA[*/ if (window.bbcdotcom && bbcdotcom.currencyProviders) { bbcdotcom.currencyProviders.postWrite(); } /*]]>*/  /*<![CDATA[*/ if (window.bbcdotcom && bbcdotcom.data && bbcdotcom.data.stats && bbcdotcom.data.stats == 1 && bbcdotcom.config && bbcdotcom.config.isLotameEnabled && bbcdotcom.config.isLotameEnabled() && bbcdotcom.lotame){ bbcdotcom.lotame.write(); } /*]]>*/  /*<![CDATA[*/ /** * ASYNC waits to make any gpt requests until the bottom of the page */ if ( window.bbcdotcom && bbcdotcom.data && bbcdotcom.data.ads && bbcdotcom.data.ads == 1 && bbcdotcom.config && bbcdotcom.config.isAsync && bbcdotcom.config.isAsync() ) { (function () { var gads = document.createElement(\\'script\\'); gads.async = true; gads.type = \\'text/javascript\\'; var useSSL = \\'https:\\' == document.location.protocol; gads.src = (useSSL ? \\'https:\\' : \\'http:\\') + \\'//www.googletagservices.com/tag/js/gpt.js\\'; var node = document.getElementsByTagName(\\'script\\')[0]; node.parentNode.insertBefore(gads, node); })(); } /*]]>*/  /*<![CDATA[*/ if (window.bbcdotcom && bbcdotcom.data && bbcdotcom.data.stats && bbcdotcom.data.stats === 1 && bbcdotcom.utils && window.location.pathname === \\'/\\' && window.bbccookies && bbccookies.readPolicy(\\'performance\\') ) { var wwhpEdition = bbcdotcom.utils.getMetaPropertyContent(\\'wwhp-edition\\'); var _sf_async_config={}; /** CONFIGURATION START **/ _sf_async_config.uid = 50924; _sf_async_config.domain = \"bbc.co.uk\"; _sf_async_config.title = \"Homepage\"+(wwhpEdition !== \\'\\' ? \\' - \\'+wwhpEdition : \\'\\'); _sf_async_config.sections = \"Homepage\"+(wwhpEdition !== \\'\\' ? \\', Homepage - \\'+wwhpEdition : \\'\\'); _sf_async_config.region = wwhpEdition; _sf_async_config.path = \"/\"+(wwhpEdition !== \\'\\' ? \\'?\\'+wwhpEdition : \\'\\'); /** CONFIGURATION END **/ (function(){ function loadChartbeat() { window._sf_endpt=(new Date()).getTime(); var e = document.createElement(\"script\"); e.setAttribute(\"language\", \"javascript\"); e.setAttribute(\"type\", \"text/javascript\"); e.setAttribute(\\'src\\', \\'//static.chartbeat.com/js/chartbeat.js\\'); document.body.appendChild(e); } var oldonload = window.onload; window.onload = (typeof window.onload != \"function\") ? loadChartbeat : function() { oldonload(); loadChartbeat(); }; })(); } /*]]>*/  /*<![CDATA[*/ if (window.bbcdotcom && bbcdotcom.data && bbcdotcom.data.stats == 1 ) { var js_loaded=false, percent; if (window.bbcdotcom && bbcdotcom.config && bbcdotcom.config.isSherlockEnabled()) { document.write(\\'<script src=\"//stag.mdotlabs.com/ads.js\">\\\\x3C/script>\\'); if(document.location.protocol === \"http:\"){ document.write(\\'<script src=\"//stag.mdotlabs.com/sherlock.php?clientID=19293874\">\\\\x3C/script>\\'); } else { document.write(\\'<script src=\"//stag.mdotlabs.com/sherlock.php?clientID=19293874&sec=1\">\\\\x3C/script>\\'); } } } /*]]>*/  /*<![CDATA[*/ (function() { window.bbcdotcom.bodyLast = true; }()); /*]]>*/    (function() {\\n    \\'use strict\\';\\n\\n    var promoManager = {\\n        url: \\'\\',\\n        promoLoaded: false,\\n                makeUrl: function (theme, site, win) {\\n            var loc = win? win.location : window.location,\\n                proto = loc.protocol,\\n                host = loc.host,\\n                url = proto + \\'//\\' + ((proto.match(/s:/i) && !host.match(/^www\\\\.(int|test)\\\\./i))? \\'ssl.\\' : \\'www.\\'),\\n                themes = [\\'light\\', \\'dark\\'];\\n\\n            if ( host.match(/^(?:www|ssl|m)\\\\.(int|test|stage|live)\\\\.bbc\\\\./i) ) {\\n                url += RegExp.$1 + \\'.\\';\\n            }\\n            else if ( host.match(/^pal\\\\.sandbox\\\\./i) ) {\\n                url += \\'test.\\';\\n            }\\n\\n                        theme = themes[ +(theme === themes[0]) ];\\n           \\n           return url + \\'bbc.co.uk/navpromo/card/\\' + site + \\'/\\' + theme;\\n        },\\n                init: function(node) {\\n            var disabledByCookie = (document.cookie.indexOf(\\'ckns_orb_nopromo=1\\') > -1),\\n                that = this;\\n            \\n            if (window.promomanagerOverride) {\\n                for (var p in promomanagerOverride) {\\n                    that[p] = promomanagerOverride[p];\\n                }\\n            }\\n                \\n            if ( window.orb.fig(\\'uk\\') && !disabledByCookie ) {\\n                require([\\'orb/async/_footerpromo\\', \\'istats-1\\'], function(promo, istats) {\\n\\n                    var virtualSite = istats.getSite() || \\'default\\';\\n                    that.url = (window.promomanagerOverride || that).makeUrl(\\'light\\', virtualSite);\\n\\n                    if (that.url) { \\n                        promo.load(that.url, node, {\\n                                                          onSuccess: function(e) {\\n                                if(e.status === \\'success\\') {\\n                                    node.parentNode.className = node.parentNode.className + \\' orb-footer-promo-loaded\\';\\n                                    promoManager.promoLoaded = true;\\n                                    promoManager.event(\\'promo-loaded\\').fire(e);\\n                                }\\n                             },\\n                             onError: function() {\\n                                istats.log(\\'error\\', \\'orb-footer-promo-failed\\');\\n                                bbccookies.set(\\'ckns_orb_nopromo=1; expires=\\' + new Date(new Date().getTime() + 1000 * 60 * 10).toGMTString() + \\';path=/;\\');\\n                             }\\n                        });   \\n                    }\\n                });\\n            }\\n        }\\n    };\\n    \\n        \\n    define(\\'orb/promomanager\\', [\\'orb/lib/_event\\'], function (event) {\\n        event.mixin(promoManager);\\n        return promoManager;\\n    });\\n    \\n    require([\\'orb/promomanager\\'], function (promoManager) {\\n        promoManager.init(document.getElementById(\\'navp-orb-footer-promo\\'));\\n    })\\n})();\\n \\n\\n\\n        require.config({\\n            paths: {\\n                \"mybbc/templates\": \\'//mybbc.files.bbci.co.uk/notification-ui/3.8.4/templates\\',\\n                \"mybbc/notifications\": \\'//mybbc.files.bbci.co.uk/notification-ui/3.8.4/js\\'\\n            }\\n        });\\n\\n        require([\\'mybbc/notifications/NotificationsMain\\', \\'idcta/idcta-1\\'], function (NotificationsMain, idcta) {\\n            var loadNotifications = function (fig) {\\n                if (fig.geo.isUK()) {\\n                    NotificationsMain.run(idcta, \\'//mybbc.files.bbci.co.uk/notification-ui/3.8.4/\\');\\n                }\\n            };\\n            var orbFig = window.orb.fig;\\n            if (typeof orbFig.load === \\'function\\') {\\n                // Use new async API from Orbit\\n                orbFig.load(loadNotifications, loadNotifications);\\n            } else {\\n                // Use old sync-only API from PAL orbfig project\\n                loadNotifications(orbFig);\\n            }\\n        });\\n    \\n if (typeof require !== \\'undefined\\') { require([\\'istats-1\\'], function(istats){ istats.track(\\'external\\', { region: document.getElementsByTagName(\\'body\\')[0] }); istats.track(\\'download\\', { region: document.getElementsByTagName(\\'body\\')[0] }); }); }  \\n  if (window.SEARCHBOX.suppress === false && window.SEARCHBOX.locale && /^en-?.*?/.test(window.SEARCHBOX.locale)) {\\n    require.config({\\n      paths: {\\n        \"search/searchbox\": window.SEARCHBOX.searchboxAppStaticPrefix,\\n        \"disco-layer\": \"//nav.files.bbci.co.uk/discovery-layer/0.0.1-59.7de58d3/app\"\\n      }\\n    });\\n\\n    require([\\'search/searchbox/searchboxDrawer\\'], function (SearchboxDrawer) {\\n      SearchboxDrawer.run(window.SEARCHBOX);\\n    });\\n\\n        require([\\'disco-layer\\'], function (discoLayer) {\\n            discoLayer.run(\"//nav.files.bbci.co.uk/discovery-layer/content/\", \"//nav.files.bbci.co.uk/discovery-layer/0.0.1-59.7de58d3/main.css\");\\n        });\\n\\n  }\\n\\n require([\"megavolt-client\",\"istats-1\",\"orb/cookies\"],function(t,e,i){function o(){return\"true\"===l&&a&&t&&\"function\"==typeof t.getMVTIStatsLabels}function n(){!c&&o()?setTimeout(function(){e.invoke()},\"500\"):e.invoke()}var s=navigator.userAgent.toLowerCase(),a=!(s.indexOf(\"msie\")>-1)||parseInt(s.split(\"msie\")[1],10)>10,c=!1,l=\"true\";if(i.isAllowed(\"s1\"))try{if(o()&&t.getMVTIStatsLabels(function(t){e.addLabels(t),c=!0}),!require.s.contexts._.config.paths.idcta)return void n();require([\"idcta/idcta-1\"],function(t){t&&\"function\"==typeof t.getIStatsLabels&&e.addLabels(t.getIStatsLabels()),n()},function(t){throw t})}catch(t){console&&\"function\"==typeof console.log&&console.log(\"an exception occurred while adding idcta labels to istats, invoking istats without them\",t),n()}});    window.old_onload = window.onload; window.onload = function() { if(window.old_onload) { window.old_onload(); } window.loaded = true; };  \\n\\n    /** CONFIGURATION START **/\\n    var _sf_async_config = {};\\n    \\n    _sf_async_config.uid = \"50924\";\\n    _sf_async_config.domain = \"www.bbc.co.uk\";\\n    _sf_async_config.sections = \"News, News - education-and-family, News - STY, News - education-and-family - STY\";\\n    <!-- if page is an index, add the edition to the path -->\\n    _sf_async_config.path = \"bbc.co.uk/news/education-24367153\";\\n    \\n        (function() {\\n        var noCookies = true;\\n        var cookiePrefix = \\'_chartbeat\\';\\n        if (\"object\" === typeof bbccookies && typeof bbccookies.readPolicy == \\'function\\') {\\n            noCookies = !bbccookies.readPolicy().performance;\\n        }\\n        if (noCookies && document.cookie.indexOf(cookiePrefix) !== -1) {\\n            //Find and remove cookies whose names begin with \\'_chartbeat\\'\\n            var cookieSplit = document.cookie.split(\\';\\');\\n            var cookieLength = cookieSplit.length;\\n            while (cookieLength--) {\\n                var cookie = cookieSplit[cookieLength].replace(/^\\\\s+|\\\\s+$/g, \\'\\');\\n                var cookieName = cookie.split(\\'=\\')[0];\\n\\n                if (cookieName.indexOf(cookiePrefix) === 0) {\\n                    document.cookie = cookieName + \\'=; expires=Thu, 01 Jan 1970 00:00:00 GMT; path=/;\\';\\n                }\\n            }\\n        }\\n        _sf_async_config.noCookies = noCookies;\\n    }());\\n\\n    /** CONFIGURATION END **/\\n    (function(){\\n        function loadChartbeat() {\\n            window._sf_endpt=(new Date()).getTime();\\n            var e = document.createElement(\"script\");\\n            e.setAttribute(\"language\", \"javascript\");\\n            e.setAttribute(\"type\", \"text/javascript\");\\n            e.setAttribute(\\'src\\', \\'//static.chartbeat.com/js/chartbeat.js\\');\\n            document.body.appendChild(e);\\n        }\\n        var oldonload = window.onload;\\n        window.onload = (typeof window.onload != \"function\") ?\\n            loadChartbeat : function() { oldonload(); loadChartbeat(); };\\n    }());\\n\\n\\n\\n\\n\\tvar _comscore = _comscore || [];\\n\\t_comscore.push({ c1: \"2\", c2: \"17986528\"});\\n\\n\\t(function() {\\n        if (\\'object\\' === typeof bbccookies && bbccookies.cookiesEnabled() && bbccookies.readPolicy(\\'performance\\')) {\\n            var s = document.createElement(\"script\");\\n            var el = document.getElementsByTagName(\"script\")[0];\\n            s.async = true;\\n            s.src = (document.location.protocol == \"https:\" ? \"https://sb\" : \"http://b\") + \".scorecardresearch.com/beacon.js\";\\n            el.parentNode.insertBefore(s, el);\\n        }\\n\\t})();\\n\\n\\n\\n\\n  \\n'"
      ]
     },
     "execution_count": 59,
     "metadata": {},
     "output_type": "execute_result"
    }
   ],
   "source": [
    "raw"
   ]
  },
  {
   "cell_type": "code",
   "execution_count": 60,
   "metadata": {},
   "outputs": [
    {
     "data": {
      "text/plain": [
       "[u'London',\n",
       " u'top',\n",
       " u'city',\n",
       " u'in',\n",
       " u'global',\n",
       " u'university',\n",
       " u'rankings',\n",
       " u'-',\n",
       " u'BBC',\n",
       " u'News',\n",
       " u'{',\n",
       " u'``',\n",
       " u'@',\n",
       " u'context',\n",
       " u\"''\"]"
      ]
     },
     "execution_count": 60,
     "metadata": {},
     "output_type": "execute_result"
    }
   ],
   "source": [
    "#raw = nltk.clean_html(html)\n",
    "tokens = nltk.word_tokenize(raw)\n",
    "tokens[:15]"
   ]
  },
  {
   "cell_type": "markdown",
   "metadata": {},
   "source": [
    "### Online books"
   ]
  },
  {
   "cell_type": "code",
   "execution_count": 61,
   "metadata": {},
   "outputs": [
    {
     "ename": "NotImplementedError",
     "evalue": "To remove HTML markup, use BeautifulSoup's get_text() function",
     "output_type": "error",
     "traceback": [
      "\u001b[1;31m---------------------------------------------------------------------------\u001b[0m",
      "\u001b[1;31mNotImplementedError\u001b[0m                       Traceback (most recent call last)",
      "\u001b[1;32m<ipython-input-61-1bd756c2f69c>\u001b[0m in \u001b[0;36m<module>\u001b[1;34m()\u001b[0m\n\u001b[0;32m      1\u001b[0m \u001b[0murl\u001b[0m\u001b[1;33m=\u001b[0m\u001b[1;34m\"http://shakespeare.mit.edu/hamlet/full.html\"\u001b[0m\u001b[1;33m\u001b[0m\u001b[0m\n\u001b[0;32m      2\u001b[0m \u001b[0mhtml\u001b[0m \u001b[1;33m=\u001b[0m \u001b[0murlopen\u001b[0m\u001b[1;33m(\u001b[0m\u001b[0murl\u001b[0m\u001b[1;33m)\u001b[0m\u001b[1;33m.\u001b[0m\u001b[0mread\u001b[0m\u001b[1;33m(\u001b[0m\u001b[1;33m)\u001b[0m\u001b[1;33m\u001b[0m\u001b[0m\n\u001b[1;32m----> 3\u001b[1;33m \u001b[0mraw\u001b[0m \u001b[1;33m=\u001b[0m \u001b[0mnltk\u001b[0m\u001b[1;33m.\u001b[0m\u001b[0mclean_html\u001b[0m\u001b[1;33m(\u001b[0m\u001b[0mhtml\u001b[0m\u001b[1;33m)\u001b[0m\u001b[1;33m\u001b[0m\u001b[0m\n\u001b[0m\u001b[0;32m      4\u001b[0m \u001b[1;32mprint\u001b[0m \u001b[0mraw\u001b[0m\u001b[1;33m[\u001b[0m\u001b[1;33m:\u001b[0m\u001b[1;36m300\u001b[0m\u001b[1;33m]\u001b[0m\u001b[1;33m\u001b[0m\u001b[0m\n",
      "\u001b[1;32mC:\\ProgramData\\Anaconda2\\lib\\site-packages\\nltk\\util.py\u001b[0m in \u001b[0;36mclean_html\u001b[1;34m(html)\u001b[0m\n\u001b[0;32m    354\u001b[0m \u001b[1;33m\u001b[0m\u001b[0m\n\u001b[0;32m    355\u001b[0m \u001b[1;32mdef\u001b[0m \u001b[0mclean_html\u001b[0m\u001b[1;33m(\u001b[0m\u001b[0mhtml\u001b[0m\u001b[1;33m)\u001b[0m\u001b[1;33m:\u001b[0m\u001b[1;33m\u001b[0m\u001b[0m\n\u001b[1;32m--> 356\u001b[1;33m     \u001b[1;32mraise\u001b[0m \u001b[0mNotImplementedError\u001b[0m \u001b[1;33m(\u001b[0m\u001b[1;34m\"To remove HTML markup, use BeautifulSoup's get_text() function\"\u001b[0m\u001b[1;33m)\u001b[0m\u001b[1;33m\u001b[0m\u001b[0m\n\u001b[0m\u001b[0;32m    357\u001b[0m \u001b[1;33m\u001b[0m\u001b[0m\n\u001b[0;32m    358\u001b[0m \u001b[1;32mdef\u001b[0m \u001b[0mclean_url\u001b[0m\u001b[1;33m(\u001b[0m\u001b[0murl\u001b[0m\u001b[1;33m)\u001b[0m\u001b[1;33m:\u001b[0m\u001b[1;33m\u001b[0m\u001b[0m\n",
      "\u001b[1;31mNotImplementedError\u001b[0m: To remove HTML markup, use BeautifulSoup's get_text() function"
     ]
    }
   ],
   "source": [
    "url=\"http://shakespeare.mit.edu/hamlet/full.html\"\n",
    "html = urlopen(url).read()    \n",
    "raw = nltk.clean_html(html)  \n",
    "print raw[:300]"
   ]
  },
  {
   "cell_type": "code",
   "execution_count": null,
   "metadata": {
    "collapsed": true
   },
   "outputs": [],
   "source": [
    "tokens = nltk.word_tokenize(raw)\n",
    "type(tokens)\n",
    "tokens[50:70]"
   ]
  },
  {
   "cell_type": "markdown",
   "metadata": {},
   "source": [
    "**Exercise:** Find out the type of variable tokens, the length and display tokens from 80 to 100. "
   ]
  },
  {
   "cell_type": "code",
   "execution_count": 62,
   "metadata": {},
   "outputs": [
    {
     "name": "stdout",
     "output_type": "stream",
     "text": [
      "new Date; script type=; BBC News; new Error; Invalid Argument; throw\n",
      "new; Sean Coughlan; Times Higher; /** CONFIGURATION; link rel=; top\n",
      "city; university rankings; Reality Check; Report Global; School\n",
      "Report; Higher Education; script src=; November 2017; London top;\n",
      "Imperial College\n"
     ]
    }
   ],
   "source": [
    "text = nltk.Text(tokens)\n",
    "text.collocations()"
   ]
  },
  {
   "cell_type": "markdown",
   "metadata": {},
   "source": [
    "### Local files\n",
    "Using local files. \n",
    "Upload the following file to Wakari, by clicking the 'Import from web' icon in the upper left side corner:  https://dl.dropboxusercontent.com/u/11117852/UK_natl_2010_en_Lab.txt. Now the file is saved in your account and you can use it in the analysis. "
   ]
  },
  {
   "cell_type": "code",
   "execution_count": 63,
   "metadata": {},
   "outputs": [
    {
     "name": "stderr",
     "output_type": "stream",
     "text": [
      "'grep' is not recognized as an internal or external command,\n",
      "operable program or batch file.\n"
     ]
    }
   ],
   "source": [
    "ls | grep txt"
   ]
  },
  {
   "cell_type": "code",
   "execution_count": 64,
   "metadata": {},
   "outputs": [
    {
     "name": "stderr",
     "output_type": "stream",
     "text": [
      "  % Total    % Received % Xferd  Average Speed   Time    Time     Time  Current\n",
      "                                 Dload  Upload   Total   Spent    Left  Speed\n",
      "\n",
      "  0     0    0     0    0     0      0      0 --:--:-- --:--:-- --:--:--     0\n",
      "  0     0    0     0    0     0      0      0 --:--:--  0:00:45 --:--:--     0\n",
      "curl: (35) schannel: next InitializeSecurityContext failed: Unknown error (0x80092013) - The revocation function was unable to check revocation because the revocation server was offline.\n"
     ]
    }
   ],
   "source": [
    "!curl https://dl.dropboxusercontent.com/u/11117852/UK_natl_2010_en_Lab.txt > downloaded.txt"
   ]
  },
  {
   "cell_type": "code",
   "execution_count": 65,
   "metadata": {},
   "outputs": [
    {
     "ename": "IOError",
     "evalue": "[Errno 2] No such file or directory: 'UK_natl_2010_en_Lab.txt'",
     "output_type": "error",
     "traceback": [
      "\u001b[1;31m---------------------------------------------------------------------------\u001b[0m",
      "\u001b[1;31mIOError\u001b[0m                                   Traceback (most recent call last)",
      "\u001b[1;32m<ipython-input-65-ec968cb91e6d>\u001b[0m in \u001b[0;36m<module>\u001b[1;34m()\u001b[0m\n\u001b[1;32m----> 1\u001b[1;33m \u001b[0mf\u001b[0m \u001b[1;33m=\u001b[0m \u001b[0mopen\u001b[0m\u001b[1;33m(\u001b[0m\u001b[1;34m\"UK_natl_2010_en_Lab.txt\"\u001b[0m\u001b[1;33m,\u001b[0m \u001b[1;34m'r'\u001b[0m\u001b[1;33m)\u001b[0m\u001b[1;33m\u001b[0m\u001b[0m\n\u001b[0m\u001b[0;32m      2\u001b[0m \u001b[0mraw\u001b[0m \u001b[1;33m=\u001b[0m \u001b[0mf\u001b[0m\u001b[1;33m.\u001b[0m\u001b[0mread\u001b[0m\u001b[1;33m(\u001b[0m\u001b[1;33m)\u001b[0m\u001b[1;33m\u001b[0m\u001b[0m\n\u001b[0;32m      3\u001b[0m \u001b[1;32mprint\u001b[0m \u001b[0mraw\u001b[0m\u001b[1;33m[\u001b[0m\u001b[1;33m:\u001b[0m\u001b[1;36m100\u001b[0m\u001b[1;33m]\u001b[0m\u001b[1;33m\u001b[0m\u001b[0m\n",
      "\u001b[1;31mIOError\u001b[0m: [Errno 2] No such file or directory: 'UK_natl_2010_en_Lab.txt'"
     ]
    }
   ],
   "source": [
    "f = open(\"UK_natl_2010_en_Lab.txt\", 'r')\n",
    "raw = f.read()\n",
    "print raw[:100]"
   ]
  },
  {
   "cell_type": "markdown",
   "metadata": {},
   "source": [
    "Tokenize - divide into tokens:"
   ]
  },
  {
   "cell_type": "code",
   "execution_count": null,
   "metadata": {
    "collapsed": true
   },
   "outputs": [],
   "source": [
    "import sys\n",
    "import nltk"
   ]
  },
  {
   "cell_type": "code",
   "execution_count": null,
   "metadata": {
    "collapsed": true
   },
   "outputs": [],
   "source": [
    "tokens = nltk.word_tokenize(\"And if you listen very hard, the tune will come to you at last.\")\n",
    "tokens[:10]"
   ]
  },
  {
   "cell_type": "markdown",
   "metadata": {},
   "source": [
    " Normalize - ignore upper case"
   ]
  },
  {
   "cell_type": "code",
   "execution_count": null,
   "metadata": {
    "collapsed": true
   },
   "outputs": [],
   "source": [
    "lower_case=set(w.lower() for w in tokens)\n",
    "print len(lower_case)"
   ]
  },
  {
   "cell_type": "markdown",
   "metadata": {},
   "source": [
    "Stemming - strip off affixes"
   ]
  },
  {
   "cell_type": "code",
   "execution_count": null,
   "metadata": {
    "collapsed": true
   },
   "outputs": [],
   "source": [
    "porter = nltk.PorterStemmer()\n",
    "a=[porter.stem(t) for t in tokens]\n",
    "a"
   ]
  },
  {
   "cell_type": "code",
   "execution_count": null,
   "metadata": {
    "collapsed": true
   },
   "outputs": [],
   "source": [
    "lancaster = nltk.LancasterStemmer()\n",
    "a=[lancaster.stem(t) for t in tokens]\n",
    "a"
   ]
  },
  {
   "cell_type": "markdown",
   "metadata": {},
   "source": [
    "Lemmatizing - the word is from a dictionary"
   ]
  },
  {
   "cell_type": "code",
   "execution_count": null,
   "metadata": {
    "collapsed": true
   },
   "outputs": [],
   "source": [
    "wnl = nltk.WordNetLemmatizer()\n",
    "a=[wnl.lemmatize(t) for t in tokens]\n",
    "a"
   ]
  },
  {
   "cell_type": "markdown",
   "metadata": {},
   "source": [
    "Sentence segmentation:"
   ]
  },
  {
   "cell_type": "code",
   "execution_count": null,
   "metadata": {
    "collapsed": true
   },
   "outputs": [],
   "source": [
    "sent_tokenizer=nltk.data.load('tokenizers/punkt/english.pickle')\n",
    "sents = sent_tokenizer.tokenize(raw)\n",
    "pprint.pprint(sents[182:185])"
   ]
  },
  {
   "cell_type": "markdown",
   "metadata": {},
   "source": [
    "Writing output to file. The file is created in your Wakari directory. Here, we are writing each sentence on a separate line. "
   ]
  },
  {
   "cell_type": "code",
   "execution_count": null,
   "metadata": {
    "collapsed": true
   },
   "outputs": [],
   "source": [
    "output_file = open('output.txt', 'w')\n",
    "sentence = set(sents)\n",
    "for sent in sorted(sentence):\n",
    "   output_file.write(sent + \"\\n\")"
   ]
  },
  {
   "cell_type": "raw",
   "metadata": {},
   "source": [
    "Hit the refresh button in the upper left side corner to view an updated list that includes the newly created file. Have a look at it. "
   ]
  },
  {
   "cell_type": "markdown",
   "metadata": {},
   "source": [
    "## Text similarity"
   ]
  },
  {
   "cell_type": "markdown",
   "metadata": {},
   "source": [
    "We can use both NLTK and scikit-learn for this. "
   ]
  },
  {
   "cell_type": "code",
   "execution_count": null,
   "metadata": {
    "collapsed": true
   },
   "outputs": [],
   "source": [
    "from sklearn.feature_extraction.text import TfidfVectorizer"
   ]
  },
  {
   "cell_type": "markdown",
   "metadata": {},
   "source": [
    "Calculate tf-idf:"
   ]
  },
  {
   "cell_type": "code",
   "execution_count": null,
   "metadata": {
    "collapsed": true
   },
   "outputs": [],
   "source": [
    "vect = TfidfVectorizer(min_df=1)\n",
    "tfidf = vect.fit_transform([\"New Year's Eve in New York\",\n",
    "                            \"New Year's Eve in London\",\n",
    "                            \"York is closer to London than to New York\",\n",
    "                            \"London is closer to Bucharest than to New York\"])"
   ]
  },
  {
   "cell_type": "markdown",
   "metadata": {},
   "source": [
    "Calculate cosine similarity:"
   ]
  },
  {
   "cell_type": "code",
   "execution_count": null,
   "metadata": {
    "collapsed": true
   },
   "outputs": [],
   "source": [
    "cosine=(tfidf * tfidf.T).A\n",
    "print cosine"
   ]
  },
  {
   "cell_type": "markdown",
   "metadata": {},
   "source": [
    "## Trained classification with NLTK"
   ]
  },
  {
   "cell_type": "markdown",
   "metadata": {},
   "source": [
    "#### Names-gender identification example"
   ]
  },
  {
   "cell_type": "code",
   "execution_count": null,
   "metadata": {
    "collapsed": true
   },
   "outputs": [],
   "source": [
    "from nltk.corpus import names\n",
    "import random"
   ]
  },
  {
   "cell_type": "markdown",
   "metadata": {},
   "source": [
    "Select relevant fearures. Here, last letter of name. "
   ]
  },
  {
   "cell_type": "code",
   "execution_count": null,
   "metadata": {
    "collapsed": true
   },
   "outputs": [],
   "source": [
    "def gender_features(word):\n",
    "    return {'last_letter': word[-1]}"
   ]
  },
  {
   "cell_type": "markdown",
   "metadata": {},
   "source": [
    "What is the feature for the name Shrek? \n",
    "\n",
    "gender_features('Shrek')\n",
    "\n",
    "What is the feature for your own name? "
   ]
  },
  {
   "cell_type": "code",
   "execution_count": null,
   "metadata": {
    "collapsed": true
   },
   "outputs": [],
   "source": [
    "gender_features('iulia')"
   ]
  },
  {
   "cell_type": "markdown",
   "metadata": {},
   "source": [
    "Train and test data: "
   ]
  },
  {
   "cell_type": "code",
   "execution_count": null,
   "metadata": {
    "collapsed": true
   },
   "outputs": [],
   "source": [
    "names = ([(name, 'male') for name in names.words('male.txt')] +\n",
    "          [(name, 'female') for name in names.words('female.txt')])"
   ]
  },
  {
   "cell_type": "markdown",
   "metadata": {},
   "source": [
    "Arrange data randomly and extract features"
   ]
  },
  {
   "cell_type": "code",
   "execution_count": null,
   "metadata": {
    "collapsed": true
   },
   "outputs": [],
   "source": [
    "random.shuffle(names)\n",
    "featuresets = [(gender_features(n), g) for (n,g) in names]\n",
    "from nltk.classify import apply_features # use apply if you're working with large corpora"
   ]
  },
  {
   "cell_type": "markdown",
   "metadata": {},
   "source": [
    "Divide data into training and test sets:"
   ]
  },
  {
   "cell_type": "code",
   "execution_count": null,
   "metadata": {
    "collapsed": true
   },
   "outputs": [],
   "source": [
    "train_set = apply_features(gender_features, names[500:1000])\n",
    "test_set = apply_features(gender_features, names[:500])"
   ]
  },
  {
   "cell_type": "markdown",
   "metadata": {},
   "source": [
    "Use a Naive Bayes Classifier:"
   ]
  },
  {
   "cell_type": "code",
   "execution_count": null,
   "metadata": {
    "collapsed": true
   },
   "outputs": [],
   "source": [
    "classifier = nltk.NaiveBayesClassifier.train(train_set)"
   ]
  },
  {
   "cell_type": "markdown",
   "metadata": {},
   "source": [
    "Classify the test set and evaluate performance"
   ]
  },
  {
   "cell_type": "code",
   "execution_count": null,
   "metadata": {
    "collapsed": true
   },
   "outputs": [],
   "source": [
    "print nltk.classify.accuracy(classifier, test_set)\n"
   ]
  },
  {
   "cell_type": "markdown",
   "metadata": {},
   "source": [
    "What are the most informative features?"
   ]
  },
  {
   "cell_type": "code",
   "execution_count": null,
   "metadata": {
    "collapsed": true
   },
   "outputs": [],
   "source": [
    "classifier.show_most_informative_features(5)"
   ]
  },
  {
   "cell_type": "code",
   "execution_count": null,
   "metadata": {
    "collapsed": true
   },
   "outputs": [],
   "source": [
    "Use the algorithm to classify new data:"
   ]
  },
  {
   "cell_type": "code",
   "execution_count": null,
   "metadata": {
    "collapsed": true
   },
   "outputs": [],
   "source": [
    "classifier.classify(gender_features('iulia'))\n"
   ]
  },
  {
   "cell_type": "markdown",
   "metadata": {},
   "source": [
    "\n",
    "\n",
    "\n",
    "\n",
    "\n",
    "\n"
   ]
  },
  {
   "cell_type": "code",
   "execution_count": null,
   "metadata": {
    "collapsed": true
   },
   "outputs": [],
   "source": [
    "classifier.classify(gender_features('cioroianu'))"
   ]
  },
  {
   "cell_type": "markdown",
   "metadata": {},
   "source": [
    "## Clustering"
   ]
  },
  {
   "cell_type": "markdown",
   "metadata": {},
   "source": [
    "The example below is based on this one: https://gist.github.com/xim/1279283 (by Morten Neergaard)"
   ]
  },
  {
   "cell_type": "code",
   "execution_count": null,
   "metadata": {
    "collapsed": true
   },
   "outputs": [],
   "source": [
    "import numpy\n",
    "from nltk.cluster import KMeansClusterer, GAAClusterer, euclidean_distance\n",
    "import nltk.corpus\n",
    "import nltk.stem\n",
    "stemmer_func = nltk.stem.snowball.SnowballStemmer(\"english\").stem\n",
    "stopwords = set(nltk.corpus.stopwords.words('english'))"
   ]
  },
  {
   "cell_type": "markdown",
   "metadata": {},
   "source": [
    "Define normalize function"
   ]
  },
  {
   "cell_type": "code",
   "execution_count": null,
   "metadata": {
    "collapsed": true
   },
   "outputs": [],
   "source": [
    "def normalize_word(word):\n",
    "    return stemmer_func(word.lower())"
   ]
  },
  {
   "cell_type": "markdown",
   "metadata": {},
   "source": [
    "Define feature selection function"
   ]
  },
  {
   "cell_type": "code",
   "execution_count": null,
   "metadata": {
    "collapsed": true
   },
   "outputs": [],
   "source": [
    "def get_words(titles):\n",
    "    words = set()\n",
    "    for title in job_titles:\n",
    "        for word in title.split():\n",
    "            words.add(normalize_word(word))\n",
    "    return list(words)"
   ]
  },
  {
   "cell_type": "markdown",
   "metadata": {},
   "source": [
    "Define vector space function"
   ]
  },
  {
   "cell_type": "code",
   "execution_count": null,
   "metadata": {
    "collapsed": true
   },
   "outputs": [],
   "source": [
    "def vectorspaced(title):\n",
    "    title_components = [normalize_word(word) for word in title.split()]\n",
    "    return numpy.array([\n",
    "        word in title_components and not word in stopwords\n",
    "        for word in words], numpy.short)"
   ]
  },
  {
   "cell_type": "markdown",
   "metadata": {},
   "source": [
    "Upload example file. The file is here: https://dl.dropboxusercontent.com/u/11117852/example_jobs.txt . "
   ]
  },
  {
   "cell_type": "code",
   "execution_count": null,
   "metadata": {
    "collapsed": true
   },
   "outputs": [],
   "source": [
    "title_file = open(\"example_jobs.txt\", 'r')"
   ]
  },
  {
   "cell_type": "markdown",
   "metadata": {},
   "source": [
    "Get features"
   ]
  },
  {
   "cell_type": "code",
   "execution_count": null,
   "metadata": {
    "collapsed": true
   },
   "outputs": [],
   "source": [
    "job_titles = [line.strip() for line in title_file.readlines()]\n",
    "words = get_words(job_titles)\n",
    "words[0:10]"
   ]
  },
  {
   "cell_type": "markdown",
   "metadata": {},
   "source": [
    "K-Means clustering: "
   ]
  },
  {
   "cell_type": "code",
   "execution_count": null,
   "metadata": {
    "collapsed": true
   },
   "outputs": [],
   "source": [
    "cluster = KMeansClusterer(7, euclidean_distance)\n",
    "cluster.cluster([vectorspaced(title) for title in job_titles if title])\n",
    "classified_examples = [cluster.classify(vectorspaced(title)) for title in job_titles]"
   ]
  },
  {
   "cell_type": "markdown",
   "metadata": {},
   "source": [
    "Print results:"
   ]
  },
  {
   "cell_type": "code",
   "execution_count": null,
   "metadata": {
    "collapsed": true
   },
   "outputs": [],
   "source": [
    "for cluster_id, title in sorted(zip(classified_examples, job_titles)):\n",
    "    print cluster_id, title"
   ]
  },
  {
   "cell_type": "markdown",
   "metadata": {},
   "source": [
    "\n",
    "\n"
   ]
  }
 ],
 "metadata": {
  "anaconda-cloud": {},
  "kernelspec": {
   "display_name": "Python [default]",
   "language": "python",
   "name": "python2"
  },
  "language_info": {
   "codemirror_mode": {
    "name": "ipython",
    "version": 2
   },
   "file_extension": ".py",
   "mimetype": "text/x-python",
   "name": "python",
   "nbconvert_exporter": "python",
   "pygments_lexer": "ipython2",
   "version": "2.7.13"
  }
 },
 "nbformat": 4,
 "nbformat_minor": 1
}
